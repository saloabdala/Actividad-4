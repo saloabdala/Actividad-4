{
  "nbformat": 4,
  "nbformat_minor": 0,
  "metadata": {
    "colab": {
      "provenance": [],
      "authorship_tag": "ABX9TyMVU1KkIrrE3s7uGyyMuO68",
      "include_colab_link": true
    },
    "kernelspec": {
      "name": "python3",
      "display_name": "Python 3"
    },
    "language_info": {
      "name": "python"
    }
  },
  "cells": [
    {
      "cell_type": "markdown",
      "metadata": {
        "id": "view-in-github",
        "colab_type": "text"
      },
      "source": [
        "<a href=\"https://colab.research.google.com/github/saloabdala/Actividad-4/blob/main/Actividad_4_(Regresi%C3%B3n_lineal_y_log%C3%ADstica)_tarea.ipynb\" target=\"_parent\"><img src=\"https://colab.research.google.com/assets/colab-badge.svg\" alt=\"Open In Colab\"/></a>"
      ]
    },
    {
      "cell_type": "markdown",
      "source": [
        "Salomón Abdalá Pérez, A01552356"
      ],
      "metadata": {
        "id": "8-wkJr2fgJew"
      }
    },
    {
      "cell_type": "code",
      "execution_count": null,
      "metadata": {
        "id": "MafZJ7-WfY8C"
      },
      "outputs": [],
      "source": [
        "#Instalamos librería para análisis de variables categóricas  \n",
        "%pip install funpymodeling"
      ]
    },
    {
      "cell_type": "code",
      "source": [
        "#Importar librerias\n",
        "import pandas as pd\n",
        "import numpy as np\n",
        "import matplotlib.pyplot as plt\n",
        "import scipy.special as special\n",
        "from scipy.optimize import curve_fit\n",
        "import seaborn as sns\n",
        "from sklearn.metrics import r2_score\n",
        "from sklearn.model_selection import train_test_split\n",
        "from sklearn.preprocessing import StandardScaler\n",
        "from funpymodeling.exploratory import freq_tbl"
      ],
      "metadata": {
        "id": "752M0FR_fhJk"
      },
      "execution_count": 3,
      "outputs": []
    },
    {
      "cell_type": "code",
      "source": [
        "from google.colab import files\n",
        "files.upload()"
      ],
      "metadata": {
        "id": "VmdijVkDfogc"
      },
      "execution_count": null,
      "outputs": []
    },
    {
      "cell_type": "code",
      "source": [
        "Microretailer = pd.read_excel('microretailer_mit_lift_lab_actualizado.xlsx')\n",
        "Microretailer"
      ],
      "metadata": {
        "colab": {
          "base_uri": "https://localhost:8080/",
          "height": 991
        },
        "id": "RyHLYGlfftV2",
        "outputId": "d48399dd-a5e7-40e0-a3cc-551bb31c875a"
      },
      "execution_count": 5,
      "outputs": [
        {
          "output_type": "execute_result",
          "data": {
            "text/plain": [
              "                               _record_id             _title  \\\n",
              "0    71326e5f-441e-4be7-bc68-b828973b8e3b  November 17, 2022   \n",
              "1    a38b7c68-0afa-4419-a580-7086538b2e21  November 17, 2022   \n",
              "2    c11ef540-e06c-4722-a071-09a127ebc23c  November 10, 2022   \n",
              "3    c7434cb2-dde0-4901-80d7-3d60506ebd27  November 10, 2022   \n",
              "4    3c2177cc-677b-4106-8ed2-6e50f7671a0e  November 17, 2022   \n",
              "..                                    ...                ...   \n",
              "325  efe2e285-c67e-4a07-8331-218bc4a7203d   November 3, 2022   \n",
              "326  2413f06e-15cc-4a6f-8e83-5224c6824b12   November 3, 2022   \n",
              "327  9ff658db-4dc5-48b6-aa0b-5c6668bb6720   November 3, 2022   \n",
              "328  e88aa9c1-dc8b-4180-99a1-2e0118ad905d   November 3, 2022   \n",
              "329  bf720ff0-3b7d-47ed-ba49-f5d4bfb7293c   November 3, 2022   \n",
              "\n",
              "          _server_updated_at     _updated_by  \\\n",
              "0    2022-11-18 20:48:40 UTC   Uriel Bonilla   \n",
              "1    2022-11-18 20:48:39 UTC   Uriel Bonilla   \n",
              "2    2022-11-18 20:48:38 UTC   Uriel Bonilla   \n",
              "3    2022-11-18 20:48:38 UTC   Uriel Bonilla   \n",
              "4    2022-11-18 13:30:19 UTC   Fernando Báez   \n",
              "..                       ...             ...   \n",
              "325  2022-11-03 17:05:23 UTC  Francisco Adán   \n",
              "326  2022-11-03 16:50:48 UTC    Emilio Garza   \n",
              "327  2022-11-03 16:28:14 UTC    Emilio Garza   \n",
              "328  2022-11-03 16:18:37 UTC  Francisco Adán   \n",
              "329  2022-11-03 16:15:13 UTC    Emilio Garza   \n",
              "\n",
              "                                         _geometry  _latitude  _longitude  \\\n",
              "0    SRID=4326;POINT(-98.2013790035 19.0439654034)  19.043965  -98.201379   \n",
              "1    SRID=4326;POINT(-98.2016961782 19.0439749111)  19.043975  -98.201696   \n",
              "2    SRID=4326;POINT(-98.1964474585 19.0432999683)  19.043300  -98.196447   \n",
              "3     SRID=4326;POINT(-98.197072078 19.0405699102)  19.040570  -98.197072   \n",
              "4     SRID=4326;POINT(-98.201134218 19.0436743967)  19.043674  -98.201134   \n",
              "..                                             ...        ...         ...   \n",
              "325         SRID=4326;POINT(-98.194174 19.0431876)  19.043188  -98.194174   \n",
              "326  SRID=4326;POINT(-98.1940658722 19.0431145635)  19.043115  -98.194066   \n",
              "327  SRID=4326;POINT(-98.1934387078 19.0428094171)  19.042809  -98.193439   \n",
              "328          SRID=4326;POINT(-98.193818 19.042558)  19.042558  -98.193818   \n",
              "329  SRID=4326;POINT(-98.1937349172 19.0428229892)  19.042823  -98.193735   \n",
              "\n",
              "                                        228_store_name 229_store_picture  \\\n",
              "0                               Mini súper 7 hermanos            1 Photo   \n",
              "1                                     Super papas Lulu           1 Photo   \n",
              "2                                      Arte Paquistán            1 Photo   \n",
              "3                                            El vestir           1 Photo   \n",
              "4                                       Antojitos Tony           1 Photo   \n",
              "..                                                 ...               ...   \n",
              "325                                      Xuti Galería            1 Photo   \n",
              "326                                         July Store           1 Photo   \n",
              "327                                          La fonda            1 Photo   \n",
              "328  Birria de Res \"Hermanos Negreros 2\" estilo Tij...           1 Photo   \n",
              "329                          Restaurante el alfeñique            1 Photo   \n",
              "\n",
              "                   232_type_of_store  ... 261_technology_organization  \\\n",
              "0     Grocery store (aka. nanostore)  ...                  De acuerdo   \n",
              "1     Grocery store (aka. nanostore)  ...                         NaN   \n",
              "2     Grocery store (aka. nanostore)  ...                         NaN   \n",
              "3     Grocery store (aka. nanostore)  ...               En desacuerdo   \n",
              "4    Micro-restaurant (aka. fondita)  ...                         NaN   \n",
              "..                               ...  ...                         ...   \n",
              "325         productos tradicionales   ...    Totalmente en desacuerdo   \n",
              "326   Grocery store (aka. nanostore)  ...                         NaN   \n",
              "327  Micro-restaurant (aka. fondita)  ...                         NaN   \n",
              "328  Micro-restaurant (aka. fondita)  ...                         NaN   \n",
              "329  Micro-restaurant (aka. fondita)  ...                         NaN   \n",
              "\n",
              "     262_technology_serve_customers     263_technology_secure_sales  \\\n",
              "0    Ni de acuerdo ni en desacuerdo  Ni de acuerdo ni en desacuerdo   \n",
              "1                               NaN                             NaN   \n",
              "2                               NaN                             NaN   \n",
              "3                               NaN                   En desacuerdo   \n",
              "4                               NaN                             NaN   \n",
              "..                              ...                             ...   \n",
              "325        Totalmente en desacuerdo        Totalmente en desacuerdo   \n",
              "326                             NaN                             NaN   \n",
              "327                             NaN                             NaN   \n",
              "328                             NaN                             NaN   \n",
              "329                             NaN                             NaN   \n",
              "\n",
              "              264_technology_budget  \\\n",
              "0    Ni de acuerdo ni en desacuerdo   \n",
              "1                               NaN   \n",
              "2                               NaN   \n",
              "3          Totalmente en desacuerdo   \n",
              "4                               NaN   \n",
              "..                              ...   \n",
              "325        Totalmente en desacuerdo   \n",
              "326                             NaN   \n",
              "327                             NaN   \n",
              "328                             NaN   \n",
              "329                             NaN   \n",
              "\n",
              "     267_technology_investment_customer_preferences  \\\n",
              "0                    Ni de acuerdo ni en desacuerdo   \n",
              "1                                               NaN   \n",
              "2                                               NaN   \n",
              "3                                     En desacuerdo   \n",
              "4                                               NaN   \n",
              "..                                              ...   \n",
              "325                                      De acuerdo   \n",
              "326                                             NaN   \n",
              "327                                             NaN   \n",
              "328                                             NaN   \n",
              "329                                             NaN   \n",
              "\n",
              "    234_willingness_participate_workshop  318_shopkeeper_name  \\\n",
              "0                                     no                  NaN   \n",
              "1                                    NaN                  NaN   \n",
              "2                                    NaN                  NaN   \n",
              "3                                     no                  NaN   \n",
              "4                                    NaN                  NaN   \n",
              "..                                   ...                  ...   \n",
              "325                                  yes               Frida    \n",
              "326                                  NaN                  NaN   \n",
              "327                                  NaN                  NaN   \n",
              "328                                  NaN                  NaN   \n",
              "329                                  NaN                  NaN   \n",
              "\n",
              "    319_shopkeepers_last_name  236_whatsapp              235_email  \n",
              "0                         NaN           NaN                    NaN  \n",
              "1                         NaN           NaN                    NaN  \n",
              "2                         NaN           NaN                    NaN  \n",
              "3                         NaN           NaN                    NaN  \n",
              "4                         NaN           NaN                    NaN  \n",
              "..                        ...           ...                    ...  \n",
              "325         Juárez Hernández   2.212380e+09  Hachi401096@gmail.com  \n",
              "326                       NaN           NaN                    NaN  \n",
              "327                       NaN           NaN                    NaN  \n",
              "328                       NaN           NaN                    NaN  \n",
              "329                       NaN           NaN                    NaN  \n",
              "\n",
              "[330 rows x 106 columns]"
            ],
            "text/html": [
              "\n",
              "  <div id=\"df-f8474792-6094-498d-8c58-8ca66a744169\">\n",
              "    <div class=\"colab-df-container\">\n",
              "      <div>\n",
              "<style scoped>\n",
              "    .dataframe tbody tr th:only-of-type {\n",
              "        vertical-align: middle;\n",
              "    }\n",
              "\n",
              "    .dataframe tbody tr th {\n",
              "        vertical-align: top;\n",
              "    }\n",
              "\n",
              "    .dataframe thead th {\n",
              "        text-align: right;\n",
              "    }\n",
              "</style>\n",
              "<table border=\"1\" class=\"dataframe\">\n",
              "  <thead>\n",
              "    <tr style=\"text-align: right;\">\n",
              "      <th></th>\n",
              "      <th>_record_id</th>\n",
              "      <th>_title</th>\n",
              "      <th>_server_updated_at</th>\n",
              "      <th>_updated_by</th>\n",
              "      <th>_geometry</th>\n",
              "      <th>_latitude</th>\n",
              "      <th>_longitude</th>\n",
              "      <th>228_store_name</th>\n",
              "      <th>229_store_picture</th>\n",
              "      <th>232_type_of_store</th>\n",
              "      <th>...</th>\n",
              "      <th>261_technology_organization</th>\n",
              "      <th>262_technology_serve_customers</th>\n",
              "      <th>263_technology_secure_sales</th>\n",
              "      <th>264_technology_budget</th>\n",
              "      <th>267_technology_investment_customer_preferences</th>\n",
              "      <th>234_willingness_participate_workshop</th>\n",
              "      <th>318_shopkeeper_name</th>\n",
              "      <th>319_shopkeepers_last_name</th>\n",
              "      <th>236_whatsapp</th>\n",
              "      <th>235_email</th>\n",
              "    </tr>\n",
              "  </thead>\n",
              "  <tbody>\n",
              "    <tr>\n",
              "      <th>0</th>\n",
              "      <td>71326e5f-441e-4be7-bc68-b828973b8e3b</td>\n",
              "      <td>November 17, 2022</td>\n",
              "      <td>2022-11-18 20:48:40 UTC</td>\n",
              "      <td>Uriel Bonilla</td>\n",
              "      <td>SRID=4326;POINT(-98.2013790035 19.0439654034)</td>\n",
              "      <td>19.043965</td>\n",
              "      <td>-98.201379</td>\n",
              "      <td>Mini súper 7 hermanos</td>\n",
              "      <td>1 Photo</td>\n",
              "      <td>Grocery store (aka. nanostore)</td>\n",
              "      <td>...</td>\n",
              "      <td>De acuerdo</td>\n",
              "      <td>Ni de acuerdo ni en desacuerdo</td>\n",
              "      <td>Ni de acuerdo ni en desacuerdo</td>\n",
              "      <td>Ni de acuerdo ni en desacuerdo</td>\n",
              "      <td>Ni de acuerdo ni en desacuerdo</td>\n",
              "      <td>no</td>\n",
              "      <td>NaN</td>\n",
              "      <td>NaN</td>\n",
              "      <td>NaN</td>\n",
              "      <td>NaN</td>\n",
              "    </tr>\n",
              "    <tr>\n",
              "      <th>1</th>\n",
              "      <td>a38b7c68-0afa-4419-a580-7086538b2e21</td>\n",
              "      <td>November 17, 2022</td>\n",
              "      <td>2022-11-18 20:48:39 UTC</td>\n",
              "      <td>Uriel Bonilla</td>\n",
              "      <td>SRID=4326;POINT(-98.2016961782 19.0439749111)</td>\n",
              "      <td>19.043975</td>\n",
              "      <td>-98.201696</td>\n",
              "      <td>Super papas Lulu</td>\n",
              "      <td>1 Photo</td>\n",
              "      <td>Grocery store (aka. nanostore)</td>\n",
              "      <td>...</td>\n",
              "      <td>NaN</td>\n",
              "      <td>NaN</td>\n",
              "      <td>NaN</td>\n",
              "      <td>NaN</td>\n",
              "      <td>NaN</td>\n",
              "      <td>NaN</td>\n",
              "      <td>NaN</td>\n",
              "      <td>NaN</td>\n",
              "      <td>NaN</td>\n",
              "      <td>NaN</td>\n",
              "    </tr>\n",
              "    <tr>\n",
              "      <th>2</th>\n",
              "      <td>c11ef540-e06c-4722-a071-09a127ebc23c</td>\n",
              "      <td>November 10, 2022</td>\n",
              "      <td>2022-11-18 20:48:38 UTC</td>\n",
              "      <td>Uriel Bonilla</td>\n",
              "      <td>SRID=4326;POINT(-98.1964474585 19.0432999683)</td>\n",
              "      <td>19.043300</td>\n",
              "      <td>-98.196447</td>\n",
              "      <td>Arte Paquistán</td>\n",
              "      <td>1 Photo</td>\n",
              "      <td>Grocery store (aka. nanostore)</td>\n",
              "      <td>...</td>\n",
              "      <td>NaN</td>\n",
              "      <td>NaN</td>\n",
              "      <td>NaN</td>\n",
              "      <td>NaN</td>\n",
              "      <td>NaN</td>\n",
              "      <td>NaN</td>\n",
              "      <td>NaN</td>\n",
              "      <td>NaN</td>\n",
              "      <td>NaN</td>\n",
              "      <td>NaN</td>\n",
              "    </tr>\n",
              "    <tr>\n",
              "      <th>3</th>\n",
              "      <td>c7434cb2-dde0-4901-80d7-3d60506ebd27</td>\n",
              "      <td>November 10, 2022</td>\n",
              "      <td>2022-11-18 20:48:38 UTC</td>\n",
              "      <td>Uriel Bonilla</td>\n",
              "      <td>SRID=4326;POINT(-98.197072078 19.0405699102)</td>\n",
              "      <td>19.040570</td>\n",
              "      <td>-98.197072</td>\n",
              "      <td>El vestir</td>\n",
              "      <td>1 Photo</td>\n",
              "      <td>Grocery store (aka. nanostore)</td>\n",
              "      <td>...</td>\n",
              "      <td>En desacuerdo</td>\n",
              "      <td>NaN</td>\n",
              "      <td>En desacuerdo</td>\n",
              "      <td>Totalmente en desacuerdo</td>\n",
              "      <td>En desacuerdo</td>\n",
              "      <td>no</td>\n",
              "      <td>NaN</td>\n",
              "      <td>NaN</td>\n",
              "      <td>NaN</td>\n",
              "      <td>NaN</td>\n",
              "    </tr>\n",
              "    <tr>\n",
              "      <th>4</th>\n",
              "      <td>3c2177cc-677b-4106-8ed2-6e50f7671a0e</td>\n",
              "      <td>November 17, 2022</td>\n",
              "      <td>2022-11-18 13:30:19 UTC</td>\n",
              "      <td>Fernando Báez</td>\n",
              "      <td>SRID=4326;POINT(-98.201134218 19.0436743967)</td>\n",
              "      <td>19.043674</td>\n",
              "      <td>-98.201134</td>\n",
              "      <td>Antojitos Tony</td>\n",
              "      <td>1 Photo</td>\n",
              "      <td>Micro-restaurant (aka. fondita)</td>\n",
              "      <td>...</td>\n",
              "      <td>NaN</td>\n",
              "      <td>NaN</td>\n",
              "      <td>NaN</td>\n",
              "      <td>NaN</td>\n",
              "      <td>NaN</td>\n",
              "      <td>NaN</td>\n",
              "      <td>NaN</td>\n",
              "      <td>NaN</td>\n",
              "      <td>NaN</td>\n",
              "      <td>NaN</td>\n",
              "    </tr>\n",
              "    <tr>\n",
              "      <th>...</th>\n",
              "      <td>...</td>\n",
              "      <td>...</td>\n",
              "      <td>...</td>\n",
              "      <td>...</td>\n",
              "      <td>...</td>\n",
              "      <td>...</td>\n",
              "      <td>...</td>\n",
              "      <td>...</td>\n",
              "      <td>...</td>\n",
              "      <td>...</td>\n",
              "      <td>...</td>\n",
              "      <td>...</td>\n",
              "      <td>...</td>\n",
              "      <td>...</td>\n",
              "      <td>...</td>\n",
              "      <td>...</td>\n",
              "      <td>...</td>\n",
              "      <td>...</td>\n",
              "      <td>...</td>\n",
              "      <td>...</td>\n",
              "      <td>...</td>\n",
              "    </tr>\n",
              "    <tr>\n",
              "      <th>325</th>\n",
              "      <td>efe2e285-c67e-4a07-8331-218bc4a7203d</td>\n",
              "      <td>November 3, 2022</td>\n",
              "      <td>2022-11-03 17:05:23 UTC</td>\n",
              "      <td>Francisco Adán</td>\n",
              "      <td>SRID=4326;POINT(-98.194174 19.0431876)</td>\n",
              "      <td>19.043188</td>\n",
              "      <td>-98.194174</td>\n",
              "      <td>Xuti Galería</td>\n",
              "      <td>1 Photo</td>\n",
              "      <td>productos tradicionales</td>\n",
              "      <td>...</td>\n",
              "      <td>Totalmente en desacuerdo</td>\n",
              "      <td>Totalmente en desacuerdo</td>\n",
              "      <td>Totalmente en desacuerdo</td>\n",
              "      <td>Totalmente en desacuerdo</td>\n",
              "      <td>De acuerdo</td>\n",
              "      <td>yes</td>\n",
              "      <td>Frida</td>\n",
              "      <td>Juárez Hernández</td>\n",
              "      <td>2.212380e+09</td>\n",
              "      <td>Hachi401096@gmail.com</td>\n",
              "    </tr>\n",
              "    <tr>\n",
              "      <th>326</th>\n",
              "      <td>2413f06e-15cc-4a6f-8e83-5224c6824b12</td>\n",
              "      <td>November 3, 2022</td>\n",
              "      <td>2022-11-03 16:50:48 UTC</td>\n",
              "      <td>Emilio Garza</td>\n",
              "      <td>SRID=4326;POINT(-98.1940658722 19.0431145635)</td>\n",
              "      <td>19.043115</td>\n",
              "      <td>-98.194066</td>\n",
              "      <td>July Store</td>\n",
              "      <td>1 Photo</td>\n",
              "      <td>Grocery store (aka. nanostore)</td>\n",
              "      <td>...</td>\n",
              "      <td>NaN</td>\n",
              "      <td>NaN</td>\n",
              "      <td>NaN</td>\n",
              "      <td>NaN</td>\n",
              "      <td>NaN</td>\n",
              "      <td>NaN</td>\n",
              "      <td>NaN</td>\n",
              "      <td>NaN</td>\n",
              "      <td>NaN</td>\n",
              "      <td>NaN</td>\n",
              "    </tr>\n",
              "    <tr>\n",
              "      <th>327</th>\n",
              "      <td>9ff658db-4dc5-48b6-aa0b-5c6668bb6720</td>\n",
              "      <td>November 3, 2022</td>\n",
              "      <td>2022-11-03 16:28:14 UTC</td>\n",
              "      <td>Emilio Garza</td>\n",
              "      <td>SRID=4326;POINT(-98.1934387078 19.0428094171)</td>\n",
              "      <td>19.042809</td>\n",
              "      <td>-98.193439</td>\n",
              "      <td>La fonda</td>\n",
              "      <td>1 Photo</td>\n",
              "      <td>Micro-restaurant (aka. fondita)</td>\n",
              "      <td>...</td>\n",
              "      <td>NaN</td>\n",
              "      <td>NaN</td>\n",
              "      <td>NaN</td>\n",
              "      <td>NaN</td>\n",
              "      <td>NaN</td>\n",
              "      <td>NaN</td>\n",
              "      <td>NaN</td>\n",
              "      <td>NaN</td>\n",
              "      <td>NaN</td>\n",
              "      <td>NaN</td>\n",
              "    </tr>\n",
              "    <tr>\n",
              "      <th>328</th>\n",
              "      <td>e88aa9c1-dc8b-4180-99a1-2e0118ad905d</td>\n",
              "      <td>November 3, 2022</td>\n",
              "      <td>2022-11-03 16:18:37 UTC</td>\n",
              "      <td>Francisco Adán</td>\n",
              "      <td>SRID=4326;POINT(-98.193818 19.042558)</td>\n",
              "      <td>19.042558</td>\n",
              "      <td>-98.193818</td>\n",
              "      <td>Birria de Res \"Hermanos Negreros 2\" estilo Tij...</td>\n",
              "      <td>1 Photo</td>\n",
              "      <td>Micro-restaurant (aka. fondita)</td>\n",
              "      <td>...</td>\n",
              "      <td>NaN</td>\n",
              "      <td>NaN</td>\n",
              "      <td>NaN</td>\n",
              "      <td>NaN</td>\n",
              "      <td>NaN</td>\n",
              "      <td>NaN</td>\n",
              "      <td>NaN</td>\n",
              "      <td>NaN</td>\n",
              "      <td>NaN</td>\n",
              "      <td>NaN</td>\n",
              "    </tr>\n",
              "    <tr>\n",
              "      <th>329</th>\n",
              "      <td>bf720ff0-3b7d-47ed-ba49-f5d4bfb7293c</td>\n",
              "      <td>November 3, 2022</td>\n",
              "      <td>2022-11-03 16:15:13 UTC</td>\n",
              "      <td>Emilio Garza</td>\n",
              "      <td>SRID=4326;POINT(-98.1937349172 19.0428229892)</td>\n",
              "      <td>19.042823</td>\n",
              "      <td>-98.193735</td>\n",
              "      <td>Restaurante el alfeñique</td>\n",
              "      <td>1 Photo</td>\n",
              "      <td>Micro-restaurant (aka. fondita)</td>\n",
              "      <td>...</td>\n",
              "      <td>NaN</td>\n",
              "      <td>NaN</td>\n",
              "      <td>NaN</td>\n",
              "      <td>NaN</td>\n",
              "      <td>NaN</td>\n",
              "      <td>NaN</td>\n",
              "      <td>NaN</td>\n",
              "      <td>NaN</td>\n",
              "      <td>NaN</td>\n",
              "      <td>NaN</td>\n",
              "    </tr>\n",
              "  </tbody>\n",
              "</table>\n",
              "<p>330 rows × 106 columns</p>\n",
              "</div>\n",
              "      <button class=\"colab-df-convert\" onclick=\"convertToInteractive('df-f8474792-6094-498d-8c58-8ca66a744169')\"\n",
              "              title=\"Convert this dataframe to an interactive table.\"\n",
              "              style=\"display:none;\">\n",
              "        \n",
              "  <svg xmlns=\"http://www.w3.org/2000/svg\" height=\"24px\"viewBox=\"0 0 24 24\"\n",
              "       width=\"24px\">\n",
              "    <path d=\"M0 0h24v24H0V0z\" fill=\"none\"/>\n",
              "    <path d=\"M18.56 5.44l.94 2.06.94-2.06 2.06-.94-2.06-.94-.94-2.06-.94 2.06-2.06.94zm-11 1L8.5 8.5l.94-2.06 2.06-.94-2.06-.94L8.5 2.5l-.94 2.06-2.06.94zm10 10l.94 2.06.94-2.06 2.06-.94-2.06-.94-.94-2.06-.94 2.06-2.06.94z\"/><path d=\"M17.41 7.96l-1.37-1.37c-.4-.4-.92-.59-1.43-.59-.52 0-1.04.2-1.43.59L10.3 9.45l-7.72 7.72c-.78.78-.78 2.05 0 2.83L4 21.41c.39.39.9.59 1.41.59.51 0 1.02-.2 1.41-.59l7.78-7.78 2.81-2.81c.8-.78.8-2.07 0-2.86zM5.41 20L4 18.59l7.72-7.72 1.47 1.35L5.41 20z\"/>\n",
              "  </svg>\n",
              "      </button>\n",
              "      \n",
              "  <style>\n",
              "    .colab-df-container {\n",
              "      display:flex;\n",
              "      flex-wrap:wrap;\n",
              "      gap: 12px;\n",
              "    }\n",
              "\n",
              "    .colab-df-convert {\n",
              "      background-color: #E8F0FE;\n",
              "      border: none;\n",
              "      border-radius: 50%;\n",
              "      cursor: pointer;\n",
              "      display: none;\n",
              "      fill: #1967D2;\n",
              "      height: 32px;\n",
              "      padding: 0 0 0 0;\n",
              "      width: 32px;\n",
              "    }\n",
              "\n",
              "    .colab-df-convert:hover {\n",
              "      background-color: #E2EBFA;\n",
              "      box-shadow: 0px 1px 2px rgba(60, 64, 67, 0.3), 0px 1px 3px 1px rgba(60, 64, 67, 0.15);\n",
              "      fill: #174EA6;\n",
              "    }\n",
              "\n",
              "    [theme=dark] .colab-df-convert {\n",
              "      background-color: #3B4455;\n",
              "      fill: #D2E3FC;\n",
              "    }\n",
              "\n",
              "    [theme=dark] .colab-df-convert:hover {\n",
              "      background-color: #434B5C;\n",
              "      box-shadow: 0px 1px 3px 1px rgba(0, 0, 0, 0.15);\n",
              "      filter: drop-shadow(0px 1px 2px rgba(0, 0, 0, 0.3));\n",
              "      fill: #FFFFFF;\n",
              "    }\n",
              "  </style>\n",
              "\n",
              "      <script>\n",
              "        const buttonEl =\n",
              "          document.querySelector('#df-f8474792-6094-498d-8c58-8ca66a744169 button.colab-df-convert');\n",
              "        buttonEl.style.display =\n",
              "          google.colab.kernel.accessAllowed ? 'block' : 'none';\n",
              "\n",
              "        async function convertToInteractive(key) {\n",
              "          const element = document.querySelector('#df-f8474792-6094-498d-8c58-8ca66a744169');\n",
              "          const dataTable =\n",
              "            await google.colab.kernel.invokeFunction('convertToInteractive',\n",
              "                                                     [key], {});\n",
              "          if (!dataTable) return;\n",
              "\n",
              "          const docLinkHtml = 'Like what you see? Visit the ' +\n",
              "            '<a target=\"_blank\" href=https://colab.research.google.com/notebooks/data_table.ipynb>data table notebook</a>'\n",
              "            + ' to learn more about interactive tables.';\n",
              "          element.innerHTML = '';\n",
              "          dataTable['output_type'] = 'display_data';\n",
              "          await google.colab.output.renderOutput(dataTable, element);\n",
              "          const docLink = document.createElement('div');\n",
              "          docLink.innerHTML = docLinkHtml;\n",
              "          element.appendChild(docLink);\n",
              "        }\n",
              "      </script>\n",
              "    </div>\n",
              "  </div>\n",
              "  "
            ]
          },
          "metadata": {},
          "execution_count": 5
        }
      ]
    },
    {
      "cell_type": "code",
      "source": [
        "valores_nulos = Microretailer.isnull().sum()\n",
        "valores_nulos"
      ],
      "metadata": {
        "colab": {
          "base_uri": "https://localhost:8080/"
        },
        "id": "CMh82lGffwQz",
        "outputId": "355493d1-aee6-4c04-f8b8-1fb742642507"
      },
      "execution_count": 6,
      "outputs": [
        {
          "output_type": "execute_result",
          "data": {
            "text/plain": [
              "_record_id                                0\n",
              "_title                                    0\n",
              "_server_updated_at                        0\n",
              "_updated_by                               0\n",
              "_geometry                                 0\n",
              "                                       ... \n",
              "234_willingness_participate_workshop    125\n",
              "318_shopkeeper_name                     249\n",
              "319_shopkeepers_last_name               252\n",
              "236_whatsapp                            255\n",
              "235_email                               283\n",
              "Length: 106, dtype: int64"
            ]
          },
          "metadata": {},
          "execution_count": 6
        }
      ]
    },
    {
      "cell_type": "code",
      "source": [
        "#Rellenamos nulos\n",
        "Microretailer = Microretailer.fillna(method='ffill')"
      ],
      "metadata": {
        "id": "EufTG3IYfzmw"
      },
      "execution_count": 7,
      "outputs": []
    },
    {
      "cell_type": "code",
      "source": [
        "valores_nulos = Microretailer.isnull().sum()\n",
        "valores_nulos"
      ],
      "metadata": {
        "colab": {
          "base_uri": "https://localhost:8080/"
        },
        "id": "rWmy0MG9f2Bb",
        "outputId": "6341c972-3ae4-4185-da53-2d439fa05301"
      },
      "execution_count": 8,
      "outputs": [
        {
          "output_type": "execute_result",
          "data": {
            "text/plain": [
              "_record_id                               0\n",
              "_title                                   0\n",
              "_server_updated_at                       0\n",
              "_updated_by                              0\n",
              "_geometry                                0\n",
              "                                        ..\n",
              "234_willingness_participate_workshop     0\n",
              "318_shopkeeper_name                      9\n",
              "319_shopkeepers_last_name                9\n",
              "236_whatsapp                             9\n",
              "235_email                               11\n",
              "Length: 106, dtype: int64"
            ]
          },
          "metadata": {},
          "execution_count": 8
        }
      ]
    },
    {
      "cell_type": "code",
      "source": [
        "Microretailer = Microretailer.fillna(method = 'bfill')"
      ],
      "metadata": {
        "id": "Z3GvKlKdf4xL"
      },
      "execution_count": 9,
      "outputs": []
    },
    {
      "cell_type": "code",
      "source": [
        "valores_nulos = Microretailer.isnull().sum().sum()\n",
        "valores_nulos"
      ],
      "metadata": {
        "colab": {
          "base_uri": "https://localhost:8080/"
        },
        "id": "gpUJKVeFf7t3",
        "outputId": "5084f81d-866b-48e7-a14a-d182b5666187"
      },
      "execution_count": 10,
      "outputs": [
        {
          "output_type": "execute_result",
          "data": {
            "text/plain": [
              "0"
            ]
          },
          "metadata": {},
          "execution_count": 10
        }
      ]
    },
    {
      "cell_type": "code",
      "source": [
        "Microretailer"
      ],
      "metadata": {
        "colab": {
          "base_uri": "https://localhost:8080/",
          "height": 991
        },
        "id": "9TDXY15mf9x1",
        "outputId": "4e2fe4b2-56d0-40f2-a01b-3efe6c7f0657"
      },
      "execution_count": 11,
      "outputs": [
        {
          "output_type": "execute_result",
          "data": {
            "text/plain": [
              "                               _record_id             _title  \\\n",
              "0    71326e5f-441e-4be7-bc68-b828973b8e3b  November 17, 2022   \n",
              "1    a38b7c68-0afa-4419-a580-7086538b2e21  November 17, 2022   \n",
              "2    c11ef540-e06c-4722-a071-09a127ebc23c  November 10, 2022   \n",
              "3    c7434cb2-dde0-4901-80d7-3d60506ebd27  November 10, 2022   \n",
              "4    3c2177cc-677b-4106-8ed2-6e50f7671a0e  November 17, 2022   \n",
              "..                                    ...                ...   \n",
              "325  efe2e285-c67e-4a07-8331-218bc4a7203d   November 3, 2022   \n",
              "326  2413f06e-15cc-4a6f-8e83-5224c6824b12   November 3, 2022   \n",
              "327  9ff658db-4dc5-48b6-aa0b-5c6668bb6720   November 3, 2022   \n",
              "328  e88aa9c1-dc8b-4180-99a1-2e0118ad905d   November 3, 2022   \n",
              "329  bf720ff0-3b7d-47ed-ba49-f5d4bfb7293c   November 3, 2022   \n",
              "\n",
              "          _server_updated_at     _updated_by  \\\n",
              "0    2022-11-18 20:48:40 UTC   Uriel Bonilla   \n",
              "1    2022-11-18 20:48:39 UTC   Uriel Bonilla   \n",
              "2    2022-11-18 20:48:38 UTC   Uriel Bonilla   \n",
              "3    2022-11-18 20:48:38 UTC   Uriel Bonilla   \n",
              "4    2022-11-18 13:30:19 UTC   Fernando Báez   \n",
              "..                       ...             ...   \n",
              "325  2022-11-03 17:05:23 UTC  Francisco Adán   \n",
              "326  2022-11-03 16:50:48 UTC    Emilio Garza   \n",
              "327  2022-11-03 16:28:14 UTC    Emilio Garza   \n",
              "328  2022-11-03 16:18:37 UTC  Francisco Adán   \n",
              "329  2022-11-03 16:15:13 UTC    Emilio Garza   \n",
              "\n",
              "                                         _geometry  _latitude  _longitude  \\\n",
              "0    SRID=4326;POINT(-98.2013790035 19.0439654034)  19.043965  -98.201379   \n",
              "1    SRID=4326;POINT(-98.2016961782 19.0439749111)  19.043975  -98.201696   \n",
              "2    SRID=4326;POINT(-98.1964474585 19.0432999683)  19.043300  -98.196447   \n",
              "3     SRID=4326;POINT(-98.197072078 19.0405699102)  19.040570  -98.197072   \n",
              "4     SRID=4326;POINT(-98.201134218 19.0436743967)  19.043674  -98.201134   \n",
              "..                                             ...        ...         ...   \n",
              "325         SRID=4326;POINT(-98.194174 19.0431876)  19.043188  -98.194174   \n",
              "326  SRID=4326;POINT(-98.1940658722 19.0431145635)  19.043115  -98.194066   \n",
              "327  SRID=4326;POINT(-98.1934387078 19.0428094171)  19.042809  -98.193439   \n",
              "328          SRID=4326;POINT(-98.193818 19.042558)  19.042558  -98.193818   \n",
              "329  SRID=4326;POINT(-98.1937349172 19.0428229892)  19.042823  -98.193735   \n",
              "\n",
              "                                        228_store_name 229_store_picture  \\\n",
              "0                               Mini súper 7 hermanos            1 Photo   \n",
              "1                                     Super papas Lulu           1 Photo   \n",
              "2                                      Arte Paquistán            1 Photo   \n",
              "3                                            El vestir           1 Photo   \n",
              "4                                       Antojitos Tony           1 Photo   \n",
              "..                                                 ...               ...   \n",
              "325                                      Xuti Galería            1 Photo   \n",
              "326                                         July Store           1 Photo   \n",
              "327                                          La fonda            1 Photo   \n",
              "328  Birria de Res \"Hermanos Negreros 2\" estilo Tij...           1 Photo   \n",
              "329                          Restaurante el alfeñique            1 Photo   \n",
              "\n",
              "                   232_type_of_store  ... 261_technology_organization  \\\n",
              "0     Grocery store (aka. nanostore)  ...                  De acuerdo   \n",
              "1     Grocery store (aka. nanostore)  ...                  De acuerdo   \n",
              "2     Grocery store (aka. nanostore)  ...                  De acuerdo   \n",
              "3     Grocery store (aka. nanostore)  ...               En desacuerdo   \n",
              "4    Micro-restaurant (aka. fondita)  ...               En desacuerdo   \n",
              "..                               ...  ...                         ...   \n",
              "325         productos tradicionales   ...    Totalmente en desacuerdo   \n",
              "326   Grocery store (aka. nanostore)  ...    Totalmente en desacuerdo   \n",
              "327  Micro-restaurant (aka. fondita)  ...    Totalmente en desacuerdo   \n",
              "328  Micro-restaurant (aka. fondita)  ...    Totalmente en desacuerdo   \n",
              "329  Micro-restaurant (aka. fondita)  ...    Totalmente en desacuerdo   \n",
              "\n",
              "     262_technology_serve_customers     263_technology_secure_sales  \\\n",
              "0    Ni de acuerdo ni en desacuerdo  Ni de acuerdo ni en desacuerdo   \n",
              "1    Ni de acuerdo ni en desacuerdo  Ni de acuerdo ni en desacuerdo   \n",
              "2    Ni de acuerdo ni en desacuerdo  Ni de acuerdo ni en desacuerdo   \n",
              "3    Ni de acuerdo ni en desacuerdo                   En desacuerdo   \n",
              "4    Ni de acuerdo ni en desacuerdo                   En desacuerdo   \n",
              "..                              ...                             ...   \n",
              "325        Totalmente en desacuerdo        Totalmente en desacuerdo   \n",
              "326        Totalmente en desacuerdo        Totalmente en desacuerdo   \n",
              "327        Totalmente en desacuerdo        Totalmente en desacuerdo   \n",
              "328        Totalmente en desacuerdo        Totalmente en desacuerdo   \n",
              "329        Totalmente en desacuerdo        Totalmente en desacuerdo   \n",
              "\n",
              "              264_technology_budget  \\\n",
              "0    Ni de acuerdo ni en desacuerdo   \n",
              "1    Ni de acuerdo ni en desacuerdo   \n",
              "2    Ni de acuerdo ni en desacuerdo   \n",
              "3          Totalmente en desacuerdo   \n",
              "4          Totalmente en desacuerdo   \n",
              "..                              ...   \n",
              "325        Totalmente en desacuerdo   \n",
              "326        Totalmente en desacuerdo   \n",
              "327        Totalmente en desacuerdo   \n",
              "328        Totalmente en desacuerdo   \n",
              "329        Totalmente en desacuerdo   \n",
              "\n",
              "     267_technology_investment_customer_preferences  \\\n",
              "0                    Ni de acuerdo ni en desacuerdo   \n",
              "1                    Ni de acuerdo ni en desacuerdo   \n",
              "2                    Ni de acuerdo ni en desacuerdo   \n",
              "3                                     En desacuerdo   \n",
              "4                                     En desacuerdo   \n",
              "..                                              ...   \n",
              "325                                      De acuerdo   \n",
              "326                                      De acuerdo   \n",
              "327                                      De acuerdo   \n",
              "328                                      De acuerdo   \n",
              "329                                      De acuerdo   \n",
              "\n",
              "    234_willingness_participate_workshop  318_shopkeeper_name  \\\n",
              "0                                     no             Angeles    \n",
              "1                                     no             Angeles    \n",
              "2                                     no             Angeles    \n",
              "3                                     no             Angeles    \n",
              "4                                     no             Angeles    \n",
              "..                                   ...                  ...   \n",
              "325                                  yes               Frida    \n",
              "326                                  yes               Frida    \n",
              "327                                  yes               Frida    \n",
              "328                                  yes               Frida    \n",
              "329                                  yes               Frida    \n",
              "\n",
              "    319_shopkeepers_last_name  236_whatsapp                        235_email  \n",
              "0            Flores Tlahuisca  2.226697e+09  diana.escobarvarillas@gmail.com  \n",
              "1            Flores Tlahuisca  2.226697e+09  diana.escobarvarillas@gmail.com  \n",
              "2            Flores Tlahuisca  2.226697e+09  diana.escobarvarillas@gmail.com  \n",
              "3            Flores Tlahuisca  2.226697e+09  diana.escobarvarillas@gmail.com  \n",
              "4            Flores Tlahuisca  2.226697e+09  diana.escobarvarillas@gmail.com  \n",
              "..                        ...           ...                              ...  \n",
              "325         Juárez Hernández   2.212380e+09            Hachi401096@gmail.com  \n",
              "326         Juárez Hernández   2.212380e+09            Hachi401096@gmail.com  \n",
              "327         Juárez Hernández   2.212380e+09            Hachi401096@gmail.com  \n",
              "328         Juárez Hernández   2.212380e+09            Hachi401096@gmail.com  \n",
              "329         Juárez Hernández   2.212380e+09            Hachi401096@gmail.com  \n",
              "\n",
              "[330 rows x 106 columns]"
            ],
            "text/html": [
              "\n",
              "  <div id=\"df-0f8a21a1-4b97-4a84-8b64-14425a7ea76c\">\n",
              "    <div class=\"colab-df-container\">\n",
              "      <div>\n",
              "<style scoped>\n",
              "    .dataframe tbody tr th:only-of-type {\n",
              "        vertical-align: middle;\n",
              "    }\n",
              "\n",
              "    .dataframe tbody tr th {\n",
              "        vertical-align: top;\n",
              "    }\n",
              "\n",
              "    .dataframe thead th {\n",
              "        text-align: right;\n",
              "    }\n",
              "</style>\n",
              "<table border=\"1\" class=\"dataframe\">\n",
              "  <thead>\n",
              "    <tr style=\"text-align: right;\">\n",
              "      <th></th>\n",
              "      <th>_record_id</th>\n",
              "      <th>_title</th>\n",
              "      <th>_server_updated_at</th>\n",
              "      <th>_updated_by</th>\n",
              "      <th>_geometry</th>\n",
              "      <th>_latitude</th>\n",
              "      <th>_longitude</th>\n",
              "      <th>228_store_name</th>\n",
              "      <th>229_store_picture</th>\n",
              "      <th>232_type_of_store</th>\n",
              "      <th>...</th>\n",
              "      <th>261_technology_organization</th>\n",
              "      <th>262_technology_serve_customers</th>\n",
              "      <th>263_technology_secure_sales</th>\n",
              "      <th>264_technology_budget</th>\n",
              "      <th>267_technology_investment_customer_preferences</th>\n",
              "      <th>234_willingness_participate_workshop</th>\n",
              "      <th>318_shopkeeper_name</th>\n",
              "      <th>319_shopkeepers_last_name</th>\n",
              "      <th>236_whatsapp</th>\n",
              "      <th>235_email</th>\n",
              "    </tr>\n",
              "  </thead>\n",
              "  <tbody>\n",
              "    <tr>\n",
              "      <th>0</th>\n",
              "      <td>71326e5f-441e-4be7-bc68-b828973b8e3b</td>\n",
              "      <td>November 17, 2022</td>\n",
              "      <td>2022-11-18 20:48:40 UTC</td>\n",
              "      <td>Uriel Bonilla</td>\n",
              "      <td>SRID=4326;POINT(-98.2013790035 19.0439654034)</td>\n",
              "      <td>19.043965</td>\n",
              "      <td>-98.201379</td>\n",
              "      <td>Mini súper 7 hermanos</td>\n",
              "      <td>1 Photo</td>\n",
              "      <td>Grocery store (aka. nanostore)</td>\n",
              "      <td>...</td>\n",
              "      <td>De acuerdo</td>\n",
              "      <td>Ni de acuerdo ni en desacuerdo</td>\n",
              "      <td>Ni de acuerdo ni en desacuerdo</td>\n",
              "      <td>Ni de acuerdo ni en desacuerdo</td>\n",
              "      <td>Ni de acuerdo ni en desacuerdo</td>\n",
              "      <td>no</td>\n",
              "      <td>Angeles</td>\n",
              "      <td>Flores Tlahuisca</td>\n",
              "      <td>2.226697e+09</td>\n",
              "      <td>diana.escobarvarillas@gmail.com</td>\n",
              "    </tr>\n",
              "    <tr>\n",
              "      <th>1</th>\n",
              "      <td>a38b7c68-0afa-4419-a580-7086538b2e21</td>\n",
              "      <td>November 17, 2022</td>\n",
              "      <td>2022-11-18 20:48:39 UTC</td>\n",
              "      <td>Uriel Bonilla</td>\n",
              "      <td>SRID=4326;POINT(-98.2016961782 19.0439749111)</td>\n",
              "      <td>19.043975</td>\n",
              "      <td>-98.201696</td>\n",
              "      <td>Super papas Lulu</td>\n",
              "      <td>1 Photo</td>\n",
              "      <td>Grocery store (aka. nanostore)</td>\n",
              "      <td>...</td>\n",
              "      <td>De acuerdo</td>\n",
              "      <td>Ni de acuerdo ni en desacuerdo</td>\n",
              "      <td>Ni de acuerdo ni en desacuerdo</td>\n",
              "      <td>Ni de acuerdo ni en desacuerdo</td>\n",
              "      <td>Ni de acuerdo ni en desacuerdo</td>\n",
              "      <td>no</td>\n",
              "      <td>Angeles</td>\n",
              "      <td>Flores Tlahuisca</td>\n",
              "      <td>2.226697e+09</td>\n",
              "      <td>diana.escobarvarillas@gmail.com</td>\n",
              "    </tr>\n",
              "    <tr>\n",
              "      <th>2</th>\n",
              "      <td>c11ef540-e06c-4722-a071-09a127ebc23c</td>\n",
              "      <td>November 10, 2022</td>\n",
              "      <td>2022-11-18 20:48:38 UTC</td>\n",
              "      <td>Uriel Bonilla</td>\n",
              "      <td>SRID=4326;POINT(-98.1964474585 19.0432999683)</td>\n",
              "      <td>19.043300</td>\n",
              "      <td>-98.196447</td>\n",
              "      <td>Arte Paquistán</td>\n",
              "      <td>1 Photo</td>\n",
              "      <td>Grocery store (aka. nanostore)</td>\n",
              "      <td>...</td>\n",
              "      <td>De acuerdo</td>\n",
              "      <td>Ni de acuerdo ni en desacuerdo</td>\n",
              "      <td>Ni de acuerdo ni en desacuerdo</td>\n",
              "      <td>Ni de acuerdo ni en desacuerdo</td>\n",
              "      <td>Ni de acuerdo ni en desacuerdo</td>\n",
              "      <td>no</td>\n",
              "      <td>Angeles</td>\n",
              "      <td>Flores Tlahuisca</td>\n",
              "      <td>2.226697e+09</td>\n",
              "      <td>diana.escobarvarillas@gmail.com</td>\n",
              "    </tr>\n",
              "    <tr>\n",
              "      <th>3</th>\n",
              "      <td>c7434cb2-dde0-4901-80d7-3d60506ebd27</td>\n",
              "      <td>November 10, 2022</td>\n",
              "      <td>2022-11-18 20:48:38 UTC</td>\n",
              "      <td>Uriel Bonilla</td>\n",
              "      <td>SRID=4326;POINT(-98.197072078 19.0405699102)</td>\n",
              "      <td>19.040570</td>\n",
              "      <td>-98.197072</td>\n",
              "      <td>El vestir</td>\n",
              "      <td>1 Photo</td>\n",
              "      <td>Grocery store (aka. nanostore)</td>\n",
              "      <td>...</td>\n",
              "      <td>En desacuerdo</td>\n",
              "      <td>Ni de acuerdo ni en desacuerdo</td>\n",
              "      <td>En desacuerdo</td>\n",
              "      <td>Totalmente en desacuerdo</td>\n",
              "      <td>En desacuerdo</td>\n",
              "      <td>no</td>\n",
              "      <td>Angeles</td>\n",
              "      <td>Flores Tlahuisca</td>\n",
              "      <td>2.226697e+09</td>\n",
              "      <td>diana.escobarvarillas@gmail.com</td>\n",
              "    </tr>\n",
              "    <tr>\n",
              "      <th>4</th>\n",
              "      <td>3c2177cc-677b-4106-8ed2-6e50f7671a0e</td>\n",
              "      <td>November 17, 2022</td>\n",
              "      <td>2022-11-18 13:30:19 UTC</td>\n",
              "      <td>Fernando Báez</td>\n",
              "      <td>SRID=4326;POINT(-98.201134218 19.0436743967)</td>\n",
              "      <td>19.043674</td>\n",
              "      <td>-98.201134</td>\n",
              "      <td>Antojitos Tony</td>\n",
              "      <td>1 Photo</td>\n",
              "      <td>Micro-restaurant (aka. fondita)</td>\n",
              "      <td>...</td>\n",
              "      <td>En desacuerdo</td>\n",
              "      <td>Ni de acuerdo ni en desacuerdo</td>\n",
              "      <td>En desacuerdo</td>\n",
              "      <td>Totalmente en desacuerdo</td>\n",
              "      <td>En desacuerdo</td>\n",
              "      <td>no</td>\n",
              "      <td>Angeles</td>\n",
              "      <td>Flores Tlahuisca</td>\n",
              "      <td>2.226697e+09</td>\n",
              "      <td>diana.escobarvarillas@gmail.com</td>\n",
              "    </tr>\n",
              "    <tr>\n",
              "      <th>...</th>\n",
              "      <td>...</td>\n",
              "      <td>...</td>\n",
              "      <td>...</td>\n",
              "      <td>...</td>\n",
              "      <td>...</td>\n",
              "      <td>...</td>\n",
              "      <td>...</td>\n",
              "      <td>...</td>\n",
              "      <td>...</td>\n",
              "      <td>...</td>\n",
              "      <td>...</td>\n",
              "      <td>...</td>\n",
              "      <td>...</td>\n",
              "      <td>...</td>\n",
              "      <td>...</td>\n",
              "      <td>...</td>\n",
              "      <td>...</td>\n",
              "      <td>...</td>\n",
              "      <td>...</td>\n",
              "      <td>...</td>\n",
              "      <td>...</td>\n",
              "    </tr>\n",
              "    <tr>\n",
              "      <th>325</th>\n",
              "      <td>efe2e285-c67e-4a07-8331-218bc4a7203d</td>\n",
              "      <td>November 3, 2022</td>\n",
              "      <td>2022-11-03 17:05:23 UTC</td>\n",
              "      <td>Francisco Adán</td>\n",
              "      <td>SRID=4326;POINT(-98.194174 19.0431876)</td>\n",
              "      <td>19.043188</td>\n",
              "      <td>-98.194174</td>\n",
              "      <td>Xuti Galería</td>\n",
              "      <td>1 Photo</td>\n",
              "      <td>productos tradicionales</td>\n",
              "      <td>...</td>\n",
              "      <td>Totalmente en desacuerdo</td>\n",
              "      <td>Totalmente en desacuerdo</td>\n",
              "      <td>Totalmente en desacuerdo</td>\n",
              "      <td>Totalmente en desacuerdo</td>\n",
              "      <td>De acuerdo</td>\n",
              "      <td>yes</td>\n",
              "      <td>Frida</td>\n",
              "      <td>Juárez Hernández</td>\n",
              "      <td>2.212380e+09</td>\n",
              "      <td>Hachi401096@gmail.com</td>\n",
              "    </tr>\n",
              "    <tr>\n",
              "      <th>326</th>\n",
              "      <td>2413f06e-15cc-4a6f-8e83-5224c6824b12</td>\n",
              "      <td>November 3, 2022</td>\n",
              "      <td>2022-11-03 16:50:48 UTC</td>\n",
              "      <td>Emilio Garza</td>\n",
              "      <td>SRID=4326;POINT(-98.1940658722 19.0431145635)</td>\n",
              "      <td>19.043115</td>\n",
              "      <td>-98.194066</td>\n",
              "      <td>July Store</td>\n",
              "      <td>1 Photo</td>\n",
              "      <td>Grocery store (aka. nanostore)</td>\n",
              "      <td>...</td>\n",
              "      <td>Totalmente en desacuerdo</td>\n",
              "      <td>Totalmente en desacuerdo</td>\n",
              "      <td>Totalmente en desacuerdo</td>\n",
              "      <td>Totalmente en desacuerdo</td>\n",
              "      <td>De acuerdo</td>\n",
              "      <td>yes</td>\n",
              "      <td>Frida</td>\n",
              "      <td>Juárez Hernández</td>\n",
              "      <td>2.212380e+09</td>\n",
              "      <td>Hachi401096@gmail.com</td>\n",
              "    </tr>\n",
              "    <tr>\n",
              "      <th>327</th>\n",
              "      <td>9ff658db-4dc5-48b6-aa0b-5c6668bb6720</td>\n",
              "      <td>November 3, 2022</td>\n",
              "      <td>2022-11-03 16:28:14 UTC</td>\n",
              "      <td>Emilio Garza</td>\n",
              "      <td>SRID=4326;POINT(-98.1934387078 19.0428094171)</td>\n",
              "      <td>19.042809</td>\n",
              "      <td>-98.193439</td>\n",
              "      <td>La fonda</td>\n",
              "      <td>1 Photo</td>\n",
              "      <td>Micro-restaurant (aka. fondita)</td>\n",
              "      <td>...</td>\n",
              "      <td>Totalmente en desacuerdo</td>\n",
              "      <td>Totalmente en desacuerdo</td>\n",
              "      <td>Totalmente en desacuerdo</td>\n",
              "      <td>Totalmente en desacuerdo</td>\n",
              "      <td>De acuerdo</td>\n",
              "      <td>yes</td>\n",
              "      <td>Frida</td>\n",
              "      <td>Juárez Hernández</td>\n",
              "      <td>2.212380e+09</td>\n",
              "      <td>Hachi401096@gmail.com</td>\n",
              "    </tr>\n",
              "    <tr>\n",
              "      <th>328</th>\n",
              "      <td>e88aa9c1-dc8b-4180-99a1-2e0118ad905d</td>\n",
              "      <td>November 3, 2022</td>\n",
              "      <td>2022-11-03 16:18:37 UTC</td>\n",
              "      <td>Francisco Adán</td>\n",
              "      <td>SRID=4326;POINT(-98.193818 19.042558)</td>\n",
              "      <td>19.042558</td>\n",
              "      <td>-98.193818</td>\n",
              "      <td>Birria de Res \"Hermanos Negreros 2\" estilo Tij...</td>\n",
              "      <td>1 Photo</td>\n",
              "      <td>Micro-restaurant (aka. fondita)</td>\n",
              "      <td>...</td>\n",
              "      <td>Totalmente en desacuerdo</td>\n",
              "      <td>Totalmente en desacuerdo</td>\n",
              "      <td>Totalmente en desacuerdo</td>\n",
              "      <td>Totalmente en desacuerdo</td>\n",
              "      <td>De acuerdo</td>\n",
              "      <td>yes</td>\n",
              "      <td>Frida</td>\n",
              "      <td>Juárez Hernández</td>\n",
              "      <td>2.212380e+09</td>\n",
              "      <td>Hachi401096@gmail.com</td>\n",
              "    </tr>\n",
              "    <tr>\n",
              "      <th>329</th>\n",
              "      <td>bf720ff0-3b7d-47ed-ba49-f5d4bfb7293c</td>\n",
              "      <td>November 3, 2022</td>\n",
              "      <td>2022-11-03 16:15:13 UTC</td>\n",
              "      <td>Emilio Garza</td>\n",
              "      <td>SRID=4326;POINT(-98.1937349172 19.0428229892)</td>\n",
              "      <td>19.042823</td>\n",
              "      <td>-98.193735</td>\n",
              "      <td>Restaurante el alfeñique</td>\n",
              "      <td>1 Photo</td>\n",
              "      <td>Micro-restaurant (aka. fondita)</td>\n",
              "      <td>...</td>\n",
              "      <td>Totalmente en desacuerdo</td>\n",
              "      <td>Totalmente en desacuerdo</td>\n",
              "      <td>Totalmente en desacuerdo</td>\n",
              "      <td>Totalmente en desacuerdo</td>\n",
              "      <td>De acuerdo</td>\n",
              "      <td>yes</td>\n",
              "      <td>Frida</td>\n",
              "      <td>Juárez Hernández</td>\n",
              "      <td>2.212380e+09</td>\n",
              "      <td>Hachi401096@gmail.com</td>\n",
              "    </tr>\n",
              "  </tbody>\n",
              "</table>\n",
              "<p>330 rows × 106 columns</p>\n",
              "</div>\n",
              "      <button class=\"colab-df-convert\" onclick=\"convertToInteractive('df-0f8a21a1-4b97-4a84-8b64-14425a7ea76c')\"\n",
              "              title=\"Convert this dataframe to an interactive table.\"\n",
              "              style=\"display:none;\">\n",
              "        \n",
              "  <svg xmlns=\"http://www.w3.org/2000/svg\" height=\"24px\"viewBox=\"0 0 24 24\"\n",
              "       width=\"24px\">\n",
              "    <path d=\"M0 0h24v24H0V0z\" fill=\"none\"/>\n",
              "    <path d=\"M18.56 5.44l.94 2.06.94-2.06 2.06-.94-2.06-.94-.94-2.06-.94 2.06-2.06.94zm-11 1L8.5 8.5l.94-2.06 2.06-.94-2.06-.94L8.5 2.5l-.94 2.06-2.06.94zm10 10l.94 2.06.94-2.06 2.06-.94-2.06-.94-.94-2.06-.94 2.06-2.06.94z\"/><path d=\"M17.41 7.96l-1.37-1.37c-.4-.4-.92-.59-1.43-.59-.52 0-1.04.2-1.43.59L10.3 9.45l-7.72 7.72c-.78.78-.78 2.05 0 2.83L4 21.41c.39.39.9.59 1.41.59.51 0 1.02-.2 1.41-.59l7.78-7.78 2.81-2.81c.8-.78.8-2.07 0-2.86zM5.41 20L4 18.59l7.72-7.72 1.47 1.35L5.41 20z\"/>\n",
              "  </svg>\n",
              "      </button>\n",
              "      \n",
              "  <style>\n",
              "    .colab-df-container {\n",
              "      display:flex;\n",
              "      flex-wrap:wrap;\n",
              "      gap: 12px;\n",
              "    }\n",
              "\n",
              "    .colab-df-convert {\n",
              "      background-color: #E8F0FE;\n",
              "      border: none;\n",
              "      border-radius: 50%;\n",
              "      cursor: pointer;\n",
              "      display: none;\n",
              "      fill: #1967D2;\n",
              "      height: 32px;\n",
              "      padding: 0 0 0 0;\n",
              "      width: 32px;\n",
              "    }\n",
              "\n",
              "    .colab-df-convert:hover {\n",
              "      background-color: #E2EBFA;\n",
              "      box-shadow: 0px 1px 2px rgba(60, 64, 67, 0.3), 0px 1px 3px 1px rgba(60, 64, 67, 0.15);\n",
              "      fill: #174EA6;\n",
              "    }\n",
              "\n",
              "    [theme=dark] .colab-df-convert {\n",
              "      background-color: #3B4455;\n",
              "      fill: #D2E3FC;\n",
              "    }\n",
              "\n",
              "    [theme=dark] .colab-df-convert:hover {\n",
              "      background-color: #434B5C;\n",
              "      box-shadow: 0px 1px 3px 1px rgba(0, 0, 0, 0.15);\n",
              "      filter: drop-shadow(0px 1px 2px rgba(0, 0, 0, 0.3));\n",
              "      fill: #FFFFFF;\n",
              "    }\n",
              "  </style>\n",
              "\n",
              "      <script>\n",
              "        const buttonEl =\n",
              "          document.querySelector('#df-0f8a21a1-4b97-4a84-8b64-14425a7ea76c button.colab-df-convert');\n",
              "        buttonEl.style.display =\n",
              "          google.colab.kernel.accessAllowed ? 'block' : 'none';\n",
              "\n",
              "        async function convertToInteractive(key) {\n",
              "          const element = document.querySelector('#df-0f8a21a1-4b97-4a84-8b64-14425a7ea76c');\n",
              "          const dataTable =\n",
              "            await google.colab.kernel.invokeFunction('convertToInteractive',\n",
              "                                                     [key], {});\n",
              "          if (!dataTable) return;\n",
              "\n",
              "          const docLinkHtml = 'Like what you see? Visit the ' +\n",
              "            '<a target=\"_blank\" href=https://colab.research.google.com/notebooks/data_table.ipynb>data table notebook</a>'\n",
              "            + ' to learn more about interactive tables.';\n",
              "          element.innerHTML = '';\n",
              "          dataTable['output_type'] = 'display_data';\n",
              "          await google.colab.output.renderOutput(dataTable, element);\n",
              "          const docLink = document.createElement('div');\n",
              "          docLink.innerHTML = docLinkHtml;\n",
              "          element.appendChild(docLink);\n",
              "        }\n",
              "      </script>\n",
              "    </div>\n",
              "  </div>\n",
              "  "
            ]
          },
          "metadata": {},
          "execution_count": 11
        }
      ]
    },
    {
      "cell_type": "markdown",
      "source": [
        "# **Outliers**"
      ],
      "metadata": {
        "id": "6CbLRtV2gECH"
      }
    },
    {
      "cell_type": "code",
      "source": [
        "#Filtro por columnas no consecutivas\n",
        "filtro=Microretailer.iloc[:,[13,14,16,21,22,29,31,33,42,45,49,51,56,57,58,59,60,78,90]] #Columnas no consecutivas\n",
        "filtro"
      ],
      "metadata": {
        "colab": {
          "base_uri": "https://localhost:8080/",
          "height": 488
        },
        "id": "e0kmcc1lgCyX",
        "outputId": "825c4ffb-e3c9-4b2a-da01-3b675fad6278"
      },
      "execution_count": 12,
      "outputs": [
        {
          "output_type": "execute_result",
          "data": {
            "text/plain": [
              "     97_number_of_customers_in_store  268_number_fridges  \\\n",
              "0                                  1                 3.0   \n",
              "1                                  2                 0.0   \n",
              "2                                  2                 0.0   \n",
              "3                                  1                 0.0   \n",
              "4                                  3                 2.0   \n",
              "..                               ...                 ...   \n",
              "325                                0                 1.0   \n",
              "326                                1                 0.0   \n",
              "327                                3                 1.0   \n",
              "328                                0                 1.0   \n",
              "329                                1                 3.0   \n",
              "\n",
              "     104_how_many_shelves_does_the_micro_retailer_have  \\\n",
              "0                                                    3   \n",
              "1                                                    0   \n",
              "2                                                    0   \n",
              "3                                                    0   \n",
              "4                                                    3   \n",
              "..                                                 ...   \n",
              "325                                                  7   \n",
              "326                                                  5   \n",
              "327                                                  1   \n",
              "328                                                  1   \n",
              "329                                                  1   \n",
              "\n",
              "     2_current_permanent_employees  4_number_permanent_employees_last_year  \\\n",
              "0                              2.0                                    10.0   \n",
              "1                              2.0                                    10.0   \n",
              "2                              2.0                                    10.0   \n",
              "3                              0.0                                     0.0   \n",
              "4                              0.0                                     0.0   \n",
              "..                             ...                                     ...   \n",
              "325                            4.0                                     2.0   \n",
              "326                            4.0                                     2.0   \n",
              "327                            4.0                                     2.0   \n",
              "328                            4.0                                     2.0   \n",
              "329                            4.0                                     2.0   \n",
              "\n",
              "     103_number_own_fridges  145_number_direct_competitors  24_burnout  \\\n",
              "0                       3.0                            5.0         2.0   \n",
              "1                       3.0                            5.0         2.0   \n",
              "2                       3.0                            5.0         2.0   \n",
              "3                       3.0                           10.0         2.0   \n",
              "4                       3.0                           10.0         2.0   \n",
              "..                      ...                            ...         ...   \n",
              "325                     2.0                            5.0         7.0   \n",
              "326                     2.0                            5.0         7.0   \n",
              "327                     2.0                            5.0         7.0   \n",
              "328                     2.0                            5.0         7.0   \n",
              "329                     2.0                            5.0         7.0   \n",
              "\n",
              "     272_card_days_receive_money  275_platform_days_receive_money  \\\n",
              "0                            0.0                              0.0   \n",
              "1                            0.0                              0.0   \n",
              "2                            0.0                              0.0   \n",
              "3                            0.0                              0.0   \n",
              "4                            0.0                              0.0   \n",
              "..                           ...                              ...   \n",
              "325                          1.0                              7.0   \n",
              "326                          1.0                              7.0   \n",
              "327                          1.0                              7.0   \n",
              "328                          1.0                              7.0   \n",
              "329                          1.0                              7.0   \n",
              "\n",
              "     276_expected_days_informal_credit  36_credit_default_rate  \\\n",
              "0                                  1.0                     1.0   \n",
              "1                                  1.0                     1.0   \n",
              "2                                  1.0                     1.0   \n",
              "3                                  1.0                     1.0   \n",
              "4                                  1.0                     1.0   \n",
              "..                                 ...                     ...   \n",
              "325                                2.0                     0.0   \n",
              "326                                2.0                     0.0   \n",
              "327                                2.0                     0.0   \n",
              "328                                2.0                     0.0   \n",
              "329                                2.0                     0.0   \n",
              "\n",
              "     315_frequency_topups  316_frequency_utility_bills  317_home_deliveries  \\\n",
              "0                    20.0                          2.0                  4.0   \n",
              "1                    20.0                          2.0                  4.0   \n",
              "2                    20.0                          2.0                  4.0   \n",
              "3                    20.0                          2.0                  4.0   \n",
              "4                    20.0                          2.0                  4.0   \n",
              "..                    ...                          ...                  ...   \n",
              "325                   1.0                          7.0                  8.0   \n",
              "326                   1.0                          7.0                  8.0   \n",
              "327                   1.0                          7.0                  8.0   \n",
              "328                   1.0                          7.0                  8.0   \n",
              "329                   1.0                          7.0                  8.0   \n",
              "\n",
              "     62_frequency_only_services  78_number_home_deliveries_week  \\\n",
              "0                          10.0                             3.0   \n",
              "1                          10.0                             3.0   \n",
              "2                          10.0                             3.0   \n",
              "3                          10.0                             3.0   \n",
              "4                          10.0                             3.0   \n",
              "..                          ...                             ...   \n",
              "325                         1.0                             1.0   \n",
              "326                         1.0                             1.0   \n",
              "327                         1.0                             1.0   \n",
              "328                         1.0                             1.0   \n",
              "329                         1.0                             1.0   \n",
              "\n",
              "     172_supplier_frequency  163_number_high_perishable_products  \n",
              "0                       2.0                                 10.0  \n",
              "1                       2.0                                 10.0  \n",
              "2                       2.0                                 10.0  \n",
              "3                       1.0                                  0.0  \n",
              "4                       1.0                                  0.0  \n",
              "..                      ...                                  ...  \n",
              "325                     5.0                                  0.0  \n",
              "326                     5.0                                  0.0  \n",
              "327                     5.0                                  0.0  \n",
              "328                     5.0                                  0.0  \n",
              "329                     5.0                                  0.0  \n",
              "\n",
              "[330 rows x 19 columns]"
            ],
            "text/html": [
              "\n",
              "  <div id=\"df-0e06bbc3-ee6d-45b7-bd23-7ab98cb1ac7e\">\n",
              "    <div class=\"colab-df-container\">\n",
              "      <div>\n",
              "<style scoped>\n",
              "    .dataframe tbody tr th:only-of-type {\n",
              "        vertical-align: middle;\n",
              "    }\n",
              "\n",
              "    .dataframe tbody tr th {\n",
              "        vertical-align: top;\n",
              "    }\n",
              "\n",
              "    .dataframe thead th {\n",
              "        text-align: right;\n",
              "    }\n",
              "</style>\n",
              "<table border=\"1\" class=\"dataframe\">\n",
              "  <thead>\n",
              "    <tr style=\"text-align: right;\">\n",
              "      <th></th>\n",
              "      <th>97_number_of_customers_in_store</th>\n",
              "      <th>268_number_fridges</th>\n",
              "      <th>104_how_many_shelves_does_the_micro_retailer_have</th>\n",
              "      <th>2_current_permanent_employees</th>\n",
              "      <th>4_number_permanent_employees_last_year</th>\n",
              "      <th>103_number_own_fridges</th>\n",
              "      <th>145_number_direct_competitors</th>\n",
              "      <th>24_burnout</th>\n",
              "      <th>272_card_days_receive_money</th>\n",
              "      <th>275_platform_days_receive_money</th>\n",
              "      <th>276_expected_days_informal_credit</th>\n",
              "      <th>36_credit_default_rate</th>\n",
              "      <th>315_frequency_topups</th>\n",
              "      <th>316_frequency_utility_bills</th>\n",
              "      <th>317_home_deliveries</th>\n",
              "      <th>62_frequency_only_services</th>\n",
              "      <th>78_number_home_deliveries_week</th>\n",
              "      <th>172_supplier_frequency</th>\n",
              "      <th>163_number_high_perishable_products</th>\n",
              "    </tr>\n",
              "  </thead>\n",
              "  <tbody>\n",
              "    <tr>\n",
              "      <th>0</th>\n",
              "      <td>1</td>\n",
              "      <td>3.0</td>\n",
              "      <td>3</td>\n",
              "      <td>2.0</td>\n",
              "      <td>10.0</td>\n",
              "      <td>3.0</td>\n",
              "      <td>5.0</td>\n",
              "      <td>2.0</td>\n",
              "      <td>0.0</td>\n",
              "      <td>0.0</td>\n",
              "      <td>1.0</td>\n",
              "      <td>1.0</td>\n",
              "      <td>20.0</td>\n",
              "      <td>2.0</td>\n",
              "      <td>4.0</td>\n",
              "      <td>10.0</td>\n",
              "      <td>3.0</td>\n",
              "      <td>2.0</td>\n",
              "      <td>10.0</td>\n",
              "    </tr>\n",
              "    <tr>\n",
              "      <th>1</th>\n",
              "      <td>2</td>\n",
              "      <td>0.0</td>\n",
              "      <td>0</td>\n",
              "      <td>2.0</td>\n",
              "      <td>10.0</td>\n",
              "      <td>3.0</td>\n",
              "      <td>5.0</td>\n",
              "      <td>2.0</td>\n",
              "      <td>0.0</td>\n",
              "      <td>0.0</td>\n",
              "      <td>1.0</td>\n",
              "      <td>1.0</td>\n",
              "      <td>20.0</td>\n",
              "      <td>2.0</td>\n",
              "      <td>4.0</td>\n",
              "      <td>10.0</td>\n",
              "      <td>3.0</td>\n",
              "      <td>2.0</td>\n",
              "      <td>10.0</td>\n",
              "    </tr>\n",
              "    <tr>\n",
              "      <th>2</th>\n",
              "      <td>2</td>\n",
              "      <td>0.0</td>\n",
              "      <td>0</td>\n",
              "      <td>2.0</td>\n",
              "      <td>10.0</td>\n",
              "      <td>3.0</td>\n",
              "      <td>5.0</td>\n",
              "      <td>2.0</td>\n",
              "      <td>0.0</td>\n",
              "      <td>0.0</td>\n",
              "      <td>1.0</td>\n",
              "      <td>1.0</td>\n",
              "      <td>20.0</td>\n",
              "      <td>2.0</td>\n",
              "      <td>4.0</td>\n",
              "      <td>10.0</td>\n",
              "      <td>3.0</td>\n",
              "      <td>2.0</td>\n",
              "      <td>10.0</td>\n",
              "    </tr>\n",
              "    <tr>\n",
              "      <th>3</th>\n",
              "      <td>1</td>\n",
              "      <td>0.0</td>\n",
              "      <td>0</td>\n",
              "      <td>0.0</td>\n",
              "      <td>0.0</td>\n",
              "      <td>3.0</td>\n",
              "      <td>10.0</td>\n",
              "      <td>2.0</td>\n",
              "      <td>0.0</td>\n",
              "      <td>0.0</td>\n",
              "      <td>1.0</td>\n",
              "      <td>1.0</td>\n",
              "      <td>20.0</td>\n",
              "      <td>2.0</td>\n",
              "      <td>4.0</td>\n",
              "      <td>10.0</td>\n",
              "      <td>3.0</td>\n",
              "      <td>1.0</td>\n",
              "      <td>0.0</td>\n",
              "    </tr>\n",
              "    <tr>\n",
              "      <th>4</th>\n",
              "      <td>3</td>\n",
              "      <td>2.0</td>\n",
              "      <td>3</td>\n",
              "      <td>0.0</td>\n",
              "      <td>0.0</td>\n",
              "      <td>3.0</td>\n",
              "      <td>10.0</td>\n",
              "      <td>2.0</td>\n",
              "      <td>0.0</td>\n",
              "      <td>0.0</td>\n",
              "      <td>1.0</td>\n",
              "      <td>1.0</td>\n",
              "      <td>20.0</td>\n",
              "      <td>2.0</td>\n",
              "      <td>4.0</td>\n",
              "      <td>10.0</td>\n",
              "      <td>3.0</td>\n",
              "      <td>1.0</td>\n",
              "      <td>0.0</td>\n",
              "    </tr>\n",
              "    <tr>\n",
              "      <th>...</th>\n",
              "      <td>...</td>\n",
              "      <td>...</td>\n",
              "      <td>...</td>\n",
              "      <td>...</td>\n",
              "      <td>...</td>\n",
              "      <td>...</td>\n",
              "      <td>...</td>\n",
              "      <td>...</td>\n",
              "      <td>...</td>\n",
              "      <td>...</td>\n",
              "      <td>...</td>\n",
              "      <td>...</td>\n",
              "      <td>...</td>\n",
              "      <td>...</td>\n",
              "      <td>...</td>\n",
              "      <td>...</td>\n",
              "      <td>...</td>\n",
              "      <td>...</td>\n",
              "      <td>...</td>\n",
              "    </tr>\n",
              "    <tr>\n",
              "      <th>325</th>\n",
              "      <td>0</td>\n",
              "      <td>1.0</td>\n",
              "      <td>7</td>\n",
              "      <td>4.0</td>\n",
              "      <td>2.0</td>\n",
              "      <td>2.0</td>\n",
              "      <td>5.0</td>\n",
              "      <td>7.0</td>\n",
              "      <td>1.0</td>\n",
              "      <td>7.0</td>\n",
              "      <td>2.0</td>\n",
              "      <td>0.0</td>\n",
              "      <td>1.0</td>\n",
              "      <td>7.0</td>\n",
              "      <td>8.0</td>\n",
              "      <td>1.0</td>\n",
              "      <td>1.0</td>\n",
              "      <td>5.0</td>\n",
              "      <td>0.0</td>\n",
              "    </tr>\n",
              "    <tr>\n",
              "      <th>326</th>\n",
              "      <td>1</td>\n",
              "      <td>0.0</td>\n",
              "      <td>5</td>\n",
              "      <td>4.0</td>\n",
              "      <td>2.0</td>\n",
              "      <td>2.0</td>\n",
              "      <td>5.0</td>\n",
              "      <td>7.0</td>\n",
              "      <td>1.0</td>\n",
              "      <td>7.0</td>\n",
              "      <td>2.0</td>\n",
              "      <td>0.0</td>\n",
              "      <td>1.0</td>\n",
              "      <td>7.0</td>\n",
              "      <td>8.0</td>\n",
              "      <td>1.0</td>\n",
              "      <td>1.0</td>\n",
              "      <td>5.0</td>\n",
              "      <td>0.0</td>\n",
              "    </tr>\n",
              "    <tr>\n",
              "      <th>327</th>\n",
              "      <td>3</td>\n",
              "      <td>1.0</td>\n",
              "      <td>1</td>\n",
              "      <td>4.0</td>\n",
              "      <td>2.0</td>\n",
              "      <td>2.0</td>\n",
              "      <td>5.0</td>\n",
              "      <td>7.0</td>\n",
              "      <td>1.0</td>\n",
              "      <td>7.0</td>\n",
              "      <td>2.0</td>\n",
              "      <td>0.0</td>\n",
              "      <td>1.0</td>\n",
              "      <td>7.0</td>\n",
              "      <td>8.0</td>\n",
              "      <td>1.0</td>\n",
              "      <td>1.0</td>\n",
              "      <td>5.0</td>\n",
              "      <td>0.0</td>\n",
              "    </tr>\n",
              "    <tr>\n",
              "      <th>328</th>\n",
              "      <td>0</td>\n",
              "      <td>1.0</td>\n",
              "      <td>1</td>\n",
              "      <td>4.0</td>\n",
              "      <td>2.0</td>\n",
              "      <td>2.0</td>\n",
              "      <td>5.0</td>\n",
              "      <td>7.0</td>\n",
              "      <td>1.0</td>\n",
              "      <td>7.0</td>\n",
              "      <td>2.0</td>\n",
              "      <td>0.0</td>\n",
              "      <td>1.0</td>\n",
              "      <td>7.0</td>\n",
              "      <td>8.0</td>\n",
              "      <td>1.0</td>\n",
              "      <td>1.0</td>\n",
              "      <td>5.0</td>\n",
              "      <td>0.0</td>\n",
              "    </tr>\n",
              "    <tr>\n",
              "      <th>329</th>\n",
              "      <td>1</td>\n",
              "      <td>3.0</td>\n",
              "      <td>1</td>\n",
              "      <td>4.0</td>\n",
              "      <td>2.0</td>\n",
              "      <td>2.0</td>\n",
              "      <td>5.0</td>\n",
              "      <td>7.0</td>\n",
              "      <td>1.0</td>\n",
              "      <td>7.0</td>\n",
              "      <td>2.0</td>\n",
              "      <td>0.0</td>\n",
              "      <td>1.0</td>\n",
              "      <td>7.0</td>\n",
              "      <td>8.0</td>\n",
              "      <td>1.0</td>\n",
              "      <td>1.0</td>\n",
              "      <td>5.0</td>\n",
              "      <td>0.0</td>\n",
              "    </tr>\n",
              "  </tbody>\n",
              "</table>\n",
              "<p>330 rows × 19 columns</p>\n",
              "</div>\n",
              "      <button class=\"colab-df-convert\" onclick=\"convertToInteractive('df-0e06bbc3-ee6d-45b7-bd23-7ab98cb1ac7e')\"\n",
              "              title=\"Convert this dataframe to an interactive table.\"\n",
              "              style=\"display:none;\">\n",
              "        \n",
              "  <svg xmlns=\"http://www.w3.org/2000/svg\" height=\"24px\"viewBox=\"0 0 24 24\"\n",
              "       width=\"24px\">\n",
              "    <path d=\"M0 0h24v24H0V0z\" fill=\"none\"/>\n",
              "    <path d=\"M18.56 5.44l.94 2.06.94-2.06 2.06-.94-2.06-.94-.94-2.06-.94 2.06-2.06.94zm-11 1L8.5 8.5l.94-2.06 2.06-.94-2.06-.94L8.5 2.5l-.94 2.06-2.06.94zm10 10l.94 2.06.94-2.06 2.06-.94-2.06-.94-.94-2.06-.94 2.06-2.06.94z\"/><path d=\"M17.41 7.96l-1.37-1.37c-.4-.4-.92-.59-1.43-.59-.52 0-1.04.2-1.43.59L10.3 9.45l-7.72 7.72c-.78.78-.78 2.05 0 2.83L4 21.41c.39.39.9.59 1.41.59.51 0 1.02-.2 1.41-.59l7.78-7.78 2.81-2.81c.8-.78.8-2.07 0-2.86zM5.41 20L4 18.59l7.72-7.72 1.47 1.35L5.41 20z\"/>\n",
              "  </svg>\n",
              "      </button>\n",
              "      \n",
              "  <style>\n",
              "    .colab-df-container {\n",
              "      display:flex;\n",
              "      flex-wrap:wrap;\n",
              "      gap: 12px;\n",
              "    }\n",
              "\n",
              "    .colab-df-convert {\n",
              "      background-color: #E8F0FE;\n",
              "      border: none;\n",
              "      border-radius: 50%;\n",
              "      cursor: pointer;\n",
              "      display: none;\n",
              "      fill: #1967D2;\n",
              "      height: 32px;\n",
              "      padding: 0 0 0 0;\n",
              "      width: 32px;\n",
              "    }\n",
              "\n",
              "    .colab-df-convert:hover {\n",
              "      background-color: #E2EBFA;\n",
              "      box-shadow: 0px 1px 2px rgba(60, 64, 67, 0.3), 0px 1px 3px 1px rgba(60, 64, 67, 0.15);\n",
              "      fill: #174EA6;\n",
              "    }\n",
              "\n",
              "    [theme=dark] .colab-df-convert {\n",
              "      background-color: #3B4455;\n",
              "      fill: #D2E3FC;\n",
              "    }\n",
              "\n",
              "    [theme=dark] .colab-df-convert:hover {\n",
              "      background-color: #434B5C;\n",
              "      box-shadow: 0px 1px 3px 1px rgba(0, 0, 0, 0.15);\n",
              "      filter: drop-shadow(0px 1px 2px rgba(0, 0, 0, 0.3));\n",
              "      fill: #FFFFFF;\n",
              "    }\n",
              "  </style>\n",
              "\n",
              "      <script>\n",
              "        const buttonEl =\n",
              "          document.querySelector('#df-0e06bbc3-ee6d-45b7-bd23-7ab98cb1ac7e button.colab-df-convert');\n",
              "        buttonEl.style.display =\n",
              "          google.colab.kernel.accessAllowed ? 'block' : 'none';\n",
              "\n",
              "        async function convertToInteractive(key) {\n",
              "          const element = document.querySelector('#df-0e06bbc3-ee6d-45b7-bd23-7ab98cb1ac7e');\n",
              "          const dataTable =\n",
              "            await google.colab.kernel.invokeFunction('convertToInteractive',\n",
              "                                                     [key], {});\n",
              "          if (!dataTable) return;\n",
              "\n",
              "          const docLinkHtml = 'Like what you see? Visit the ' +\n",
              "            '<a target=\"_blank\" href=https://colab.research.google.com/notebooks/data_table.ipynb>data table notebook</a>'\n",
              "            + ' to learn more about interactive tables.';\n",
              "          element.innerHTML = '';\n",
              "          dataTable['output_type'] = 'display_data';\n",
              "          await google.colab.output.renderOutput(dataTable, element);\n",
              "          const docLink = document.createElement('div');\n",
              "          docLink.innerHTML = docLinkHtml;\n",
              "          element.appendChild(docLink);\n",
              "        }\n",
              "      </script>\n",
              "    </div>\n",
              "  </div>\n",
              "  "
            ]
          },
          "metadata": {},
          "execution_count": 12
        }
      ]
    },
    {
      "cell_type": "code",
      "source": [
        "#Método aplicación Cuartiles, Encuentro cuartiles 0.25 y 0.75\n",
        "y = filtro\n",
        "\n",
        "percentile25 = y.quantile(0.25) #Q1\n",
        "percentile75 = y.quantile(0.75) #Q3\n",
        "iqr = percentile75 - percentile25\n",
        "\n",
        "Limite_Superior_iqr= percentile75 + 1.5*iqr\n",
        "Limite_Inferior_iqr= percentile25 - 1.5*iqr\n",
        "print('Limite superior permitido', Limite_Superior_iqr)\n",
        "print('Limite inferior permitido', Limite_Inferior_iqr)"
      ],
      "metadata": {
        "colab": {
          "base_uri": "https://localhost:8080/"
        },
        "id": "gmmFznJ2gRwD",
        "outputId": "c20deafc-66ab-491d-8f26-5f9eed71bea9"
      },
      "execution_count": 13,
      "outputs": [
        {
          "output_type": "stream",
          "name": "stdout",
          "text": [
            "Limite superior permitido 97_number_of_customers_in_store                       5.0\n",
            "268_number_fridges                                    5.0\n",
            "104_how_many_shelves_does_the_micro_retailer_have    13.5\n",
            "2_current_permanent_employees                         3.5\n",
            "4_number_permanent_employees_last_year                5.0\n",
            "103_number_own_fridges                                6.0\n",
            "145_number_direct_competitors                         9.5\n",
            "24_burnout                                           12.0\n",
            "272_card_days_receive_money                           2.5\n",
            "275_platform_days_receive_money                      14.5\n",
            "276_expected_days_informal_credit                    18.5\n",
            "36_credit_default_rate                                2.5\n",
            "315_frequency_topups                                 14.5\n",
            "316_frequency_utility_bills                           3.5\n",
            "317_home_deliveries                                  22.0\n",
            "62_frequency_only_services                           12.5\n",
            "78_number_home_deliveries_week                        6.0\n",
            "172_supplier_frequency                                6.0\n",
            "163_number_high_perishable_products                  25.0\n",
            "dtype: float64\n",
            "Limite inferior permitido 97_number_of_customers_in_store                      -3.0\n",
            "268_number_fridges                                   -3.0\n",
            "104_how_many_shelves_does_the_micro_retailer_have    -6.5\n",
            "2_current_permanent_employees                        -0.5\n",
            "4_number_permanent_employees_last_year               -3.0\n",
            "103_number_own_fridges                               -2.0\n",
            "145_number_direct_competitors                        -2.5\n",
            "24_burnout                                           -4.0\n",
            "272_card_days_receive_money                          -1.5\n",
            "275_platform_days_receive_money                      -5.5\n",
            "276_expected_days_informal_credit                    -9.5\n",
            "36_credit_default_rate                               -1.5\n",
            "315_frequency_topups                                 -5.5\n",
            "316_frequency_utility_bills                          -0.5\n",
            "317_home_deliveries                                 -10.0\n",
            "62_frequency_only_services                           -7.5\n",
            "78_number_home_deliveries_week                       -2.0\n",
            "172_supplier_frequency                               -2.0\n",
            "163_number_high_perishable_products                 -15.0\n",
            "dtype: float64\n"
          ]
        }
      ]
    },
    {
      "cell_type": "code",
      "source": [
        "outliers_iqr = filtro[(y>Limite_Superior_iqr)|(y<Limite_Inferior_iqr)]"
      ],
      "metadata": {
        "id": "wDc5nz8sgURG"
      },
      "execution_count": 14,
      "outputs": []
    },
    {
      "cell_type": "code",
      "source": [
        "data2_iqr= filtro[(y<=Limite_Superior_iqr)&(y>=Limite_Inferior_iqr)]"
      ],
      "metadata": {
        "id": "Vff9tkyAgXIQ"
      },
      "execution_count": 15,
      "outputs": []
    },
    {
      "cell_type": "code",
      "source": [
        "#Comprobamos outliers\n",
        "valores_nulos=data2_iqr.isnull().sum()\n",
        "valores_nulos"
      ],
      "metadata": {
        "colab": {
          "base_uri": "https://localhost:8080/"
        },
        "id": "iS7e1-Z9gZBZ",
        "outputId": "bb604b87-e3f6-42c3-ba61-12818f98bb5a"
      },
      "execution_count": 16,
      "outputs": [
        {
          "output_type": "execute_result",
          "data": {
            "text/plain": [
              "97_number_of_customers_in_store                      12\n",
              "268_number_fridges                                   16\n",
              "104_how_many_shelves_does_the_micro_retailer_have    22\n",
              "2_current_permanent_employees                        47\n",
              "4_number_permanent_employees_last_year               25\n",
              "103_number_own_fridges                               16\n",
              "145_number_direct_competitors                        29\n",
              "24_burnout                                            0\n",
              "272_card_days_receive_money                          26\n",
              "275_platform_days_receive_money                       0\n",
              "276_expected_days_informal_credit                    22\n",
              "36_credit_default_rate                               17\n",
              "315_frequency_topups                                 63\n",
              "316_frequency_utility_bills                          61\n",
              "317_home_deliveries                                   8\n",
              "62_frequency_only_services                           44\n",
              "78_number_home_deliveries_week                        0\n",
              "172_supplier_frequency                               58\n",
              "163_number_high_perishable_products                  21\n",
              "dtype: int64"
            ]
          },
          "metadata": {},
          "execution_count": 16
        }
      ]
    },
    {
      "cell_type": "code",
      "source": [
        "#Reemplazar valores atípicos (nulos) del dataframe con \"mean\"\n",
        "data3_iqr = data2_iqr.copy()\n",
        "data3_iqr = data2_iqr.fillna(round(data3_iqr.mean(),1))"
      ],
      "metadata": {
        "id": "Kf0BdFb4gbBH"
      },
      "execution_count": 17,
      "outputs": []
    },
    {
      "cell_type": "code",
      "source": [
        "#Comprobamos outliers\n",
        "valores_nulos=data3_iqr.isnull().sum()\n",
        "valores_nulos"
      ],
      "metadata": {
        "colab": {
          "base_uri": "https://localhost:8080/"
        },
        "id": "eO41T2MOgdYc",
        "outputId": "08cbf5f0-ed71-4f3a-d9fa-415a44cf4e69"
      },
      "execution_count": 18,
      "outputs": [
        {
          "output_type": "execute_result",
          "data": {
            "text/plain": [
              "97_number_of_customers_in_store                      0\n",
              "268_number_fridges                                   0\n",
              "104_how_many_shelves_does_the_micro_retailer_have    0\n",
              "2_current_permanent_employees                        0\n",
              "4_number_permanent_employees_last_year               0\n",
              "103_number_own_fridges                               0\n",
              "145_number_direct_competitors                        0\n",
              "24_burnout                                           0\n",
              "272_card_days_receive_money                          0\n",
              "275_platform_days_receive_money                      0\n",
              "276_expected_days_informal_credit                    0\n",
              "36_credit_default_rate                               0\n",
              "315_frequency_topups                                 0\n",
              "316_frequency_utility_bills                          0\n",
              "317_home_deliveries                                  0\n",
              "62_frequency_only_services                           0\n",
              "78_number_home_deliveries_week                       0\n",
              "172_supplier_frequency                               0\n",
              "163_number_high_perishable_products                  0\n",
              "dtype: int64"
            ]
          },
          "metadata": {},
          "execution_count": 18
        }
      ]
    },
    {
      "cell_type": "markdown",
      "source": [
        "# **Regresión Lineal 1**"
      ],
      "metadata": {
        "id": "EeiTG9L-ggyQ"
      }
    },
    {
      "cell_type": "code",
      "source": [
        "#Se grafican mapas de dispersión de las variables 3 variables\n",
        "from turtle import color\n",
        "\n",
        "sns.scatterplot(x='2_current_permanent_employees',y='97_number_of_customers_in_store',color='blue',data=data3_iqr)\n",
        "sns.scatterplot(x='145_number_direct_competitors',y='97_number_of_customers_in_store',color='red',data=data3_iqr)\n",
        "sns.scatterplot(x='78_number_home_deliveries_week',y='97_number_of_customers_in_store',color='green',data=data3_iqr)"
      ],
      "metadata": {
        "colab": {
          "base_uri": "https://localhost:8080/",
          "height": 297
        },
        "id": "HVwQtp7sgfc3",
        "outputId": "1020e167-d1d0-4367-e2a5-713cc9faccea"
      },
      "execution_count": 81,
      "outputs": [
        {
          "output_type": "execute_result",
          "data": {
            "text/plain": [
              "<matplotlib.axes._subplots.AxesSubplot at 0x7f4ca1b93b10>"
            ]
          },
          "metadata": {},
          "execution_count": 81
        },
        {
          "output_type": "display_data",
          "data": {
            "text/plain": [
              "<Figure size 432x288 with 1 Axes>"
            ],
            "image/png": "[encoded data removed]"
          },
          "metadata": {
            "needs_background": "light"
          }
        }
      ]
    },
    {
      "cell_type": "code",
      "source": [
        "#Declaramos las variables dependientes e independientes para la regresión lineal\n",
        "Var_Indep= data3_iqr[['2_current_permanent_employees','145_number_direct_competitors','78_number_home_deliveries_week']]\n",
        "Var_Dep = data3_iqr['97_number_of_customers_in_store']"
      ],
      "metadata": {
        "id": "L7LGJX1Fgl17"
      },
      "execution_count": 82,
      "outputs": []
    },
    {
      "cell_type": "code",
      "source": [
        "#Se define model como la función de regresión lineal\n",
        "from sklearn.linear_model import LinearRegression\n",
        "model = LinearRegression()"
      ],
      "metadata": {
        "id": "mjJYiFVagonV"
      },
      "execution_count": 83,
      "outputs": []
    },
    {
      "cell_type": "code",
      "source": [
        "#Verificamos la función relacionada al modelo\n",
        "type(model)"
      ],
      "metadata": {
        "colab": {
          "base_uri": "https://localhost:8080/"
        },
        "id": "7LHgeElUgq6v",
        "outputId": "4c71620e-0eb9-4939-e65c-fb3a9afab91f"
      },
      "execution_count": 84,
      "outputs": [
        {
          "output_type": "execute_result",
          "data": {
            "text/plain": [
              "sklearn.linear_model._base.LinearRegression"
            ]
          },
          "metadata": {},
          "execution_count": 84
        }
      ]
    },
    {
      "cell_type": "code",
      "source": [
        "#Ajustamos el modelo con las variables antes declaradas\n",
        "model.fit(X=Var_Indep, y=Var_Dep)"
      ],
      "metadata": {
        "colab": {
          "base_uri": "https://localhost:8080/"
        },
        "id": "6mSVnD_agsnB",
        "outputId": "99b84ca0-ad33-42e7-864f-9a872ae6d649"
      },
      "execution_count": 85,
      "outputs": [
        {
          "output_type": "execute_result",
          "data": {
            "text/plain": [
              "LinearRegression()"
            ]
          },
          "metadata": {},
          "execution_count": 85
        }
      ]
    },
    {
      "cell_type": "code",
      "source": [
        "#Verificamos coeficientes obtenidos para el modelo ajustado\n",
        "model.__dict__"
      ],
      "metadata": {
        "colab": {
          "base_uri": "https://localhost:8080/"
        },
        "id": "mjp0cEW3guS8",
        "outputId": "6345365e-b6a8-431a-9964-d10d140c2311"
      },
      "execution_count": 86,
      "outputs": [
        {
          "output_type": "execute_result",
          "data": {
            "text/plain": [
              "{'fit_intercept': True,\n",
              " 'normalize': 'deprecated',\n",
              " 'copy_X': True,\n",
              " 'n_jobs': None,\n",
              " 'positive': False,\n",
              " 'feature_names_in_': array(['2_current_permanent_employees', '145_number_direct_competitors',\n",
              "        '78_number_home_deliveries_week'], dtype=object),\n",
              " 'n_features_in_': 3,\n",
              " 'coef_': array([0.10392455, 0.03688242, 0.05415778]),\n",
              " '_residues': 525.1139121959028,\n",
              " 'rank_': 3,\n",
              " 'singular_': array([37.04957144, 16.86963103, 15.32478343]),\n",
              " 'intercept_': 0.7640426930967733}"
            ]
          },
          "metadata": {},
          "execution_count": 86
        }
      ]
    },
    {
      "cell_type": "code",
      "source": [
        "#Evaluamos la eficiencia del modelo obtenido por medio del coeficiente R2 Determinación\n",
        "model.score(Var_Indep,Var_Dep)"
      ],
      "metadata": {
        "colab": {
          "base_uri": "https://localhost:8080/"
        },
        "id": "l3m-au-fgv56",
        "outputId": "ed987530-4a38-4471-ec6a-0eeef65eb997"
      },
      "execution_count": 87,
      "outputs": [
        {
          "output_type": "execute_result",
          "data": {
            "text/plain": [
              "0.010436383550985084"
            ]
          },
          "metadata": {},
          "execution_count": 87
        }
      ]
    },
    {
      "cell_type": "code",
      "source": [
        "#Predecimos los valores de total de accidentes a partir de las variables: alcohol, speeding y no previous\n",
        "y_pred= model.predict(X=data3_iqr[['2_current_permanent_employees','145_number_direct_competitors','78_number_home_deliveries_week']])\n",
        "y_pred"
      ],
      "metadata": {
        "colab": {
          "base_uri": "https://localhost:8080/"
        },
        "id": "b_7OnPjNgxo2",
        "outputId": "2adad346-490f-4b0b-c7c2-a255c92f9d8c"
      },
      "execution_count": 88,
      "outputs": [
        {
          "output_type": "execute_result",
          "data": {
            "text/plain": [
              "array([1.31877725, 1.31877725, 1.31877725, 1.04085155, 1.04085155,\n",
              "       1.04085155, 1.04085155, 1.04085155, 1.17226522, 0.96339845,\n",
              "       1.13436513, 1.4227018 , 1.28189483, 1.20812998, 1.14781058,\n",
              "       1.067323  , 1.17797028, 1.10420543, 1.14781058, 1.34893695,\n",
              "       1.03044058, 1.31877725, 1.17124755, 1.28189483, 1.0371633 ,\n",
              "       1.42942453, 1.24870065, 1.10420543, 1.14108785, 1.03044058,\n",
              "       1.4227018 , 1.17226522, 1.17226522, 1.17226522, 1.0371633 ,\n",
              "       1.0371633 , 1.0371633 , 1.31877725, 1.31877725, 1.04085155,\n",
              "       1.067323  , 1.23828968, 1.20914764, 1.20914764, 1.20914764,\n",
              "       1.20914764, 1.0371633 , 0.96339845, 0.96339845, 1.31877725,\n",
              "       1.31877725, 1.31877725, 1.31877725, 1.31877725, 1.31877725,\n",
              "       1.31877725, 1.31877725, 1.31877725, 1.31877725, 1.49646665,\n",
              "       1.31979492, 1.2148527 , 1.24603007, 1.32549998, 0.92651603,\n",
              "       1.38581938, 1.1447761 , 1.09850037, 1.2450124 , 1.24870065,\n",
              "       1.17124755, 1.2751721 , 1.2751721 , 1.2751721 , 1.31205453,\n",
              "       1.0371633 , 1.03044058, 1.03044058, 1.03044058, 1.03044058,\n",
              "       1.20812998, 1.20812998, 1.24870065, 1.20812998, 1.13436513,\n",
              "       1.03044058, 1.1447761 , 1.1447761 , 1.17124755, 1.2148527 ,\n",
              "       1.3526252 , 1.24870065, 1.31877725, 1.10420543, 1.10420543,\n",
              "       1.25173513, 1.45958423, 1.2148527 , 1.35565968, 1.14108785,\n",
              "       1.13436513, 1.24603007, 1.17797028, 1.2148527 , 1.14108785,\n",
              "       1.2450124 , 1.11092815, 1.17797028, 1.11092815, 1.38581938,\n",
              "       1.13436513, 1.13436513, 1.20812998, 1.00028088, 1.3925421 ,\n",
              "       1.2148527 , 1.14781058, 0.96339845, 1.0371633 , 1.0371633 ,\n",
              "       1.0371633 , 1.0371633 , 1.22157543, 1.22157543, 1.10420543,\n",
              "       1.067323  , 1.00028088, 1.03044058, 1.03044058, 1.03044058,\n",
              "       1.03044058, 1.03044058, 1.03044058, 1.03044058, 1.03044058,\n",
              "       1.20812998, 1.20812998, 1.13538279, 1.13538279, 1.17595346,\n",
              "       1.17595346, 1.17226522, 1.17226522, 1.17226522, 1.17226522,\n",
              "       1.17226522, 1.17226522, 1.2450124 , 1.2450124 , 1.34893695,\n",
              "       1.13538279, 0.93253599, 0.92212502, 1.14038509, 1.0676379 ,\n",
              "       1.062932  , 1.02604957, 1.09981442, 0.99018481, 1.02604957,\n",
              "       1.02706724, 0.92212502, 1.0327723 , 1.0327723 , 1.2104617 ,\n",
              "       1.2104617 , 1.0327723 , 1.0327723 , 1.0327723 , 1.0327723 ,\n",
              "       1.0327723 , 1.13669685, 1.06965472, 1.02604957, 1.06965472,\n",
              "       0.81820047, 0.99588987, 1.02604957, 1.03949502, 0.99588987,\n",
              "       0.95900745, 1.0327723 , 1.06965472, 1.17357927, 1.14341957,\n",
              "       1.02706724, 0.99588987, 1.14341957, 1.35126867, 0.92212502,\n",
              "       0.99018481, 0.89196532, 0.89196532, 0.89196532, 0.89196532,\n",
              "       0.89196532, 0.92884775, 0.92884775, 0.92884775, 0.92884775,\n",
              "       0.92884775, 0.92884775, 0.92884775, 0.92884775, 0.92884775,\n",
              "       0.89196532, 1.0327723 , 1.20373897, 0.99588987, 1.02604957,\n",
              "       1.24734412, 1.0327723 , 1.10083209, 1.17357927, 1.17357927,\n",
              "       1.09981442, 1.062932  , 1.062932  , 1.02604957, 1.062932  ,\n",
              "       1.062932  , 1.10653715, 1.10653715, 1.17357927, 1.17357927,\n",
              "       1.2406214 , 0.99018481, 1.14341957, 1.03646054, 1.03646054,\n",
              "       1.03646054, 0.8550829 , 0.8550829 , 1.07637744, 0.81820047,\n",
              "       1.13771451, 1.24836178, 1.2406214 , 1.13771451, 1.06965472,\n",
              "       1.17124755, 1.04085155, 1.0371633 , 0.96339845, 1.2751721 ,\n",
              "       0.96339845, 1.10420543, 1.20914764, 1.20914764, 1.20914764,\n",
              "       1.2450124 , 1.2450124 , 1.2450124 , 1.14108785, 1.14108785,\n",
              "       1.14108785, 1.14108785, 1.14108785, 1.14108785, 1.14108785,\n",
              "       1.2450124 , 1.2450124 , 0.92651603, 0.92651603, 0.92651603,\n",
              "       1.03044058, 1.03044058, 1.03044058, 1.03044058, 1.04085155,\n",
              "       1.1447761 , 1.28861755, 1.20812998, 1.20812998, 1.20812998,\n",
              "       1.20812998, 1.20812998, 1.22157543, 1.22157543, 1.22157543,\n",
              "       1.22157543, 1.22157543, 1.09850037, 1.2751721 , 1.2751721 ,\n",
              "       1.2751721 , 1.10420543, 1.4227018 , 1.32549998, 1.22157543,\n",
              "       1.0371633 , 1.0371633 , 1.14108785, 1.14108785, 1.14108785,\n",
              "       1.14108785, 1.24870065, 1.24870065, 1.28861755, 1.28861755,\n",
              "       1.28861755, 1.28861755, 1.28861755, 1.17595346, 1.24603007,\n",
              "       1.09850037, 1.17595346, 1.28861755, 1.20812998, 1.03044058,\n",
              "       1.28189483, 1.00028088, 1.17226522, 1.20812998, 1.23828968,\n",
              "       1.11092815, 1.13436513, 1.28189483, 1.28189483, 1.4227018 ,\n",
              "       1.17124755, 1.184693  , 1.38581938, 1.38581938, 1.38581938,\n",
              "       1.13771451, 1.13771451, 1.13771451, 1.13771451, 1.13771451])"
            ]
          },
          "metadata": {},
          "execution_count": 88
        }
      ]
    },
    {
      "cell_type": "code",
      "source": [
        "#Insertamos la columna de predicciones en el Dataframe\n",
        "data3_iqr.insert(0, 'Predicciones',y_pred)\n",
        "data3_iqr"
      ],
      "metadata": {
        "colab": {
          "base_uri": "https://localhost:8080/",
          "height": 488
        },
        "id": "FvEEtwhgLOpf",
        "outputId": "e6749dce-d245-43e1-9515-339e68f0220b"
      },
      "execution_count": 37,
      "outputs": [
        {
          "output_type": "execute_result",
          "data": {
            "text/plain": [
              "     Predicciones  97_number_of_customers_in_store  268_number_fridges  \\\n",
              "0        1.318777                              1.0                 3.0   \n",
              "1        1.318777                              2.0                 0.0   \n",
              "2        1.318777                              2.0                 0.0   \n",
              "3        1.040852                              1.0                 0.0   \n",
              "4        1.040852                              3.0                 2.0   \n",
              "..            ...                              ...                 ...   \n",
              "325      1.137715                              0.0                 1.0   \n",
              "326      1.137715                              1.0                 0.0   \n",
              "327      1.137715                              3.0                 1.0   \n",
              "328      1.137715                              0.0                 1.0   \n",
              "329      1.137715                              1.0                 3.0   \n",
              "\n",
              "     104_how_many_shelves_does_the_micro_retailer_have  \\\n",
              "0                                                  3.0   \n",
              "1                                                  0.0   \n",
              "2                                                  0.0   \n",
              "3                                                  0.0   \n",
              "4                                                  3.0   \n",
              "..                                                 ...   \n",
              "325                                                7.0   \n",
              "326                                                5.0   \n",
              "327                                                1.0   \n",
              "328                                                1.0   \n",
              "329                                                1.0   \n",
              "\n",
              "     2_current_permanent_employees  4_number_permanent_employees_last_year  \\\n",
              "0                              2.0                                     1.4   \n",
              "1                              2.0                                     1.4   \n",
              "2                              2.0                                     1.4   \n",
              "3                              0.0                                     0.0   \n",
              "4                              0.0                                     0.0   \n",
              "..                             ...                                     ...   \n",
              "325                            1.3                                     2.0   \n",
              "326                            1.3                                     2.0   \n",
              "327                            1.3                                     2.0   \n",
              "328                            1.3                                     2.0   \n",
              "329                            1.3                                     2.0   \n",
              "\n",
              "     103_number_own_fridges  145_number_direct_competitors  24_burnout  \\\n",
              "0                       3.0                            5.0         2.0   \n",
              "1                       3.0                            5.0         2.0   \n",
              "2                       3.0                            5.0         2.0   \n",
              "3                       3.0                            3.1         2.0   \n",
              "4                       3.0                            3.1         2.0   \n",
              "..                      ...                            ...         ...   \n",
              "325                     2.0                            5.0         7.0   \n",
              "326                     2.0                            5.0         7.0   \n",
              "327                     2.0                            5.0         7.0   \n",
              "328                     2.0                            5.0         7.0   \n",
              "329                     2.0                            5.0         7.0   \n",
              "\n",
              "     272_card_days_receive_money  275_platform_days_receive_money  \\\n",
              "0                            0.0                              0.0   \n",
              "1                            0.0                              0.0   \n",
              "2                            0.0                              0.0   \n",
              "3                            0.0                              0.0   \n",
              "4                            0.0                              0.0   \n",
              "..                           ...                              ...   \n",
              "325                          1.0                              7.0   \n",
              "326                          1.0                              7.0   \n",
              "327                          1.0                              7.0   \n",
              "328                          1.0                              7.0   \n",
              "329                          1.0                              7.0   \n",
              "\n",
              "     276_expected_days_informal_credit  36_credit_default_rate  \\\n",
              "0                                  1.0                     1.0   \n",
              "1                                  1.0                     1.0   \n",
              "2                                  1.0                     1.0   \n",
              "3                                  1.0                     1.0   \n",
              "4                                  1.0                     1.0   \n",
              "..                                 ...                     ...   \n",
              "325                                2.0                     0.0   \n",
              "326                                2.0                     0.0   \n",
              "327                                2.0                     0.0   \n",
              "328                                2.0                     0.0   \n",
              "329                                2.0                     0.0   \n",
              "\n",
              "     315_frequency_topups  316_frequency_utility_bills  317_home_deliveries  \\\n",
              "0                     3.5                          2.0                  4.0   \n",
              "1                     3.5                          2.0                  4.0   \n",
              "2                     3.5                          2.0                  4.0   \n",
              "3                     3.5                          2.0                  4.0   \n",
              "4                     3.5                          2.0                  4.0   \n",
              "..                    ...                          ...                  ...   \n",
              "325                   1.0                          1.5                  8.0   \n",
              "326                   1.0                          1.5                  8.0   \n",
              "327                   1.0                          1.5                  8.0   \n",
              "328                   1.0                          1.5                  8.0   \n",
              "329                   1.0                          1.5                  8.0   \n",
              "\n",
              "     62_frequency_only_services  78_number_home_deliveries_week  \\\n",
              "0                          10.0                             3.0   \n",
              "1                          10.0                             3.0   \n",
              "2                          10.0                             3.0   \n",
              "3                          10.0                             3.0   \n",
              "4                          10.0                             3.0   \n",
              "..                          ...                             ...   \n",
              "325                         1.0                             1.0   \n",
              "326                         1.0                             1.0   \n",
              "327                         1.0                             1.0   \n",
              "328                         1.0                             1.0   \n",
              "329                         1.0                             1.0   \n",
              "\n",
              "     172_supplier_frequency  163_number_high_perishable_products  \n",
              "0                       2.0                                 10.0  \n",
              "1                       2.0                                 10.0  \n",
              "2                       2.0                                 10.0  \n",
              "3                       1.0                                  0.0  \n",
              "4                       1.0                                  0.0  \n",
              "..                      ...                                  ...  \n",
              "325                     5.0                                  0.0  \n",
              "326                     5.0                                  0.0  \n",
              "327                     5.0                                  0.0  \n",
              "328                     5.0                                  0.0  \n",
              "329                     5.0                                  0.0  \n",
              "\n",
              "[330 rows x 20 columns]"
            ],
            "text/html": [
              "\n",
              "  <div id=\"df-fa5a1553-1cf5-4bf3-a238-6d96bb069b43\">\n",
              "    <div class=\"colab-df-container\">\n",
              "      <div>\n",
              "<style scoped>\n",
              "    .dataframe tbody tr th:only-of-type {\n",
              "        vertical-align: middle;\n",
              "    }\n",
              "\n",
              "    .dataframe tbody tr th {\n",
              "        vertical-align: top;\n",
              "    }\n",
              "\n",
              "    .dataframe thead th {\n",
              "        text-align: right;\n",
              "    }\n",
              "</style>\n",
              "<table border=\"1\" class=\"dataframe\">\n",
              "  <thead>\n",
              "    <tr style=\"text-align: right;\">\n",
              "      <th></th>\n",
              "      <th>Predicciones</th>\n",
              "      <th>97_number_of_customers_in_store</th>\n",
              "      <th>268_number_fridges</th>\n",
              "      <th>104_how_many_shelves_does_the_micro_retailer_have</th>\n",
              "      <th>2_current_permanent_employees</th>\n",
              "      <th>4_number_permanent_employees_last_year</th>\n",
              "      <th>103_number_own_fridges</th>\n",
              "      <th>145_number_direct_competitors</th>\n",
              "      <th>24_burnout</th>\n",
              "      <th>272_card_days_receive_money</th>\n",
              "      <th>275_platform_days_receive_money</th>\n",
              "      <th>276_expected_days_informal_credit</th>\n",
              "      <th>36_credit_default_rate</th>\n",
              "      <th>315_frequency_topups</th>\n",
              "      <th>316_frequency_utility_bills</th>\n",
              "      <th>317_home_deliveries</th>\n",
              "      <th>62_frequency_only_services</th>\n",
              "      <th>78_number_home_deliveries_week</th>\n",
              "      <th>172_supplier_frequency</th>\n",
              "      <th>163_number_high_perishable_products</th>\n",
              "    </tr>\n",
              "  </thead>\n",
              "  <tbody>\n",
              "    <tr>\n",
              "      <th>0</th>\n",
              "      <td>1.318777</td>\n",
              "      <td>1.0</td>\n",
              "      <td>3.0</td>\n",
              "      <td>3.0</td>\n",
              "      <td>2.0</td>\n",
              "      <td>1.4</td>\n",
              "      <td>3.0</td>\n",
              "      <td>5.0</td>\n",
              "      <td>2.0</td>\n",
              "      <td>0.0</td>\n",
              "      <td>0.0</td>\n",
              "      <td>1.0</td>\n",
              "      <td>1.0</td>\n",
              "      <td>3.5</td>\n",
              "      <td>2.0</td>\n",
              "      <td>4.0</td>\n",
              "      <td>10.0</td>\n",
              "      <td>3.0</td>\n",
              "      <td>2.0</td>\n",
              "      <td>10.0</td>\n",
              "    </tr>\n",
              "    <tr>\n",
              "      <th>1</th>\n",
              "      <td>1.318777</td>\n",
              "      <td>2.0</td>\n",
              "      <td>0.0</td>\n",
              "      <td>0.0</td>\n",
              "      <td>2.0</td>\n",
              "      <td>1.4</td>\n",
              "      <td>3.0</td>\n",
              "      <td>5.0</td>\n",
              "      <td>2.0</td>\n",
              "      <td>0.0</td>\n",
              "      <td>0.0</td>\n",
              "      <td>1.0</td>\n",
              "      <td>1.0</td>\n",
              "      <td>3.5</td>\n",
              "      <td>2.0</td>\n",
              "      <td>4.0</td>\n",
              "      <td>10.0</td>\n",
              "      <td>3.0</td>\n",
              "      <td>2.0</td>\n",
              "      <td>10.0</td>\n",
              "    </tr>\n",
              "    <tr>\n",
              "      <th>2</th>\n",
              "      <td>1.318777</td>\n",
              "      <td>2.0</td>\n",
              "      <td>0.0</td>\n",
              "      <td>0.0</td>\n",
              "      <td>2.0</td>\n",
              "      <td>1.4</td>\n",
              "      <td>3.0</td>\n",
              "      <td>5.0</td>\n",
              "      <td>2.0</td>\n",
              "      <td>0.0</td>\n",
              "      <td>0.0</td>\n",
              "      <td>1.0</td>\n",
              "      <td>1.0</td>\n",
              "      <td>3.5</td>\n",
              "      <td>2.0</td>\n",
              "      <td>4.0</td>\n",
              "      <td>10.0</td>\n",
              "      <td>3.0</td>\n",
              "      <td>2.0</td>\n",
              "      <td>10.0</td>\n",
              "    </tr>\n",
              "    <tr>\n",
              "      <th>3</th>\n",
              "      <td>1.040852</td>\n",
              "      <td>1.0</td>\n",
              "      <td>0.0</td>\n",
              "      <td>0.0</td>\n",
              "      <td>0.0</td>\n",
              "      <td>0.0</td>\n",
              "      <td>3.0</td>\n",
              "      <td>3.1</td>\n",
              "      <td>2.0</td>\n",
              "      <td>0.0</td>\n",
              "      <td>0.0</td>\n",
              "      <td>1.0</td>\n",
              "      <td>1.0</td>\n",
              "      <td>3.5</td>\n",
              "      <td>2.0</td>\n",
              "      <td>4.0</td>\n",
              "      <td>10.0</td>\n",
              "      <td>3.0</td>\n",
              "      <td>1.0</td>\n",
              "      <td>0.0</td>\n",
              "    </tr>\n",
              "    <tr>\n",
              "      <th>4</th>\n",
              "      <td>1.040852</td>\n",
              "      <td>3.0</td>\n",
              "      <td>2.0</td>\n",
              "      <td>3.0</td>\n",
              "      <td>0.0</td>\n",
              "      <td>0.0</td>\n",
              "      <td>3.0</td>\n",
              "      <td>3.1</td>\n",
              "      <td>2.0</td>\n",
              "      <td>0.0</td>\n",
              "      <td>0.0</td>\n",
              "      <td>1.0</td>\n",
              "      <td>1.0</td>\n",
              "      <td>3.5</td>\n",
              "      <td>2.0</td>\n",
              "      <td>4.0</td>\n",
              "      <td>10.0</td>\n",
              "      <td>3.0</td>\n",
              "      <td>1.0</td>\n",
              "      <td>0.0</td>\n",
              "    </tr>\n",
              "    <tr>\n",
              "      <th>...</th>\n",
              "      <td>...</td>\n",
              "      <td>...</td>\n",
              "      <td>...</td>\n",
              "      <td>...</td>\n",
              "      <td>...</td>\n",
              "      <td>...</td>\n",
              "      <td>...</td>\n",
              "      <td>...</td>\n",
              "      <td>...</td>\n",
              "      <td>...</td>\n",
              "      <td>...</td>\n",
              "      <td>...</td>\n",
              "      <td>...</td>\n",
              "      <td>...</td>\n",
              "      <td>...</td>\n",
              "      <td>...</td>\n",
              "      <td>...</td>\n",
              "      <td>...</td>\n",
              "      <td>...</td>\n",
              "      <td>...</td>\n",
              "    </tr>\n",
              "    <tr>\n",
              "      <th>325</th>\n",
              "      <td>1.137715</td>\n",
              "      <td>0.0</td>\n",
              "      <td>1.0</td>\n",
              "      <td>7.0</td>\n",
              "      <td>1.3</td>\n",
              "      <td>2.0</td>\n",
              "      <td>2.0</td>\n",
              "      <td>5.0</td>\n",
              "      <td>7.0</td>\n",
              "      <td>1.0</td>\n",
              "      <td>7.0</td>\n",
              "      <td>2.0</td>\n",
              "      <td>0.0</td>\n",
              "      <td>1.0</td>\n",
              "      <td>1.5</td>\n",
              "      <td>8.0</td>\n",
              "      <td>1.0</td>\n",
              "      <td>1.0</td>\n",
              "      <td>5.0</td>\n",
              "      <td>0.0</td>\n",
              "    </tr>\n",
              "    <tr>\n",
              "      <th>326</th>\n",
              "      <td>1.137715</td>\n",
              "      <td>1.0</td>\n",
              "      <td>0.0</td>\n",
              "      <td>5.0</td>\n",
              "      <td>1.3</td>\n",
              "      <td>2.0</td>\n",
              "      <td>2.0</td>\n",
              "      <td>5.0</td>\n",
              "      <td>7.0</td>\n",
              "      <td>1.0</td>\n",
              "      <td>7.0</td>\n",
              "      <td>2.0</td>\n",
              "      <td>0.0</td>\n",
              "      <td>1.0</td>\n",
              "      <td>1.5</td>\n",
              "      <td>8.0</td>\n",
              "      <td>1.0</td>\n",
              "      <td>1.0</td>\n",
              "      <td>5.0</td>\n",
              "      <td>0.0</td>\n",
              "    </tr>\n",
              "    <tr>\n",
              "      <th>327</th>\n",
              "      <td>1.137715</td>\n",
              "      <td>3.0</td>\n",
              "      <td>1.0</td>\n",
              "      <td>1.0</td>\n",
              "      <td>1.3</td>\n",
              "      <td>2.0</td>\n",
              "      <td>2.0</td>\n",
              "      <td>5.0</td>\n",
              "      <td>7.0</td>\n",
              "      <td>1.0</td>\n",
              "      <td>7.0</td>\n",
              "      <td>2.0</td>\n",
              "      <td>0.0</td>\n",
              "      <td>1.0</td>\n",
              "      <td>1.5</td>\n",
              "      <td>8.0</td>\n",
              "      <td>1.0</td>\n",
              "      <td>1.0</td>\n",
              "      <td>5.0</td>\n",
              "      <td>0.0</td>\n",
              "    </tr>\n",
              "    <tr>\n",
              "      <th>328</th>\n",
              "      <td>1.137715</td>\n",
              "      <td>0.0</td>\n",
              "      <td>1.0</td>\n",
              "      <td>1.0</td>\n",
              "      <td>1.3</td>\n",
              "      <td>2.0</td>\n",
              "      <td>2.0</td>\n",
              "      <td>5.0</td>\n",
              "      <td>7.0</td>\n",
              "      <td>1.0</td>\n",
              "      <td>7.0</td>\n",
              "      <td>2.0</td>\n",
              "      <td>0.0</td>\n",
              "      <td>1.0</td>\n",
              "      <td>1.5</td>\n",
              "      <td>8.0</td>\n",
              "      <td>1.0</td>\n",
              "      <td>1.0</td>\n",
              "      <td>5.0</td>\n",
              "      <td>0.0</td>\n",
              "    </tr>\n",
              "    <tr>\n",
              "      <th>329</th>\n",
              "      <td>1.137715</td>\n",
              "      <td>1.0</td>\n",
              "      <td>3.0</td>\n",
              "      <td>1.0</td>\n",
              "      <td>1.3</td>\n",
              "      <td>2.0</td>\n",
              "      <td>2.0</td>\n",
              "      <td>5.0</td>\n",
              "      <td>7.0</td>\n",
              "      <td>1.0</td>\n",
              "      <td>7.0</td>\n",
              "      <td>2.0</td>\n",
              "      <td>0.0</td>\n",
              "      <td>1.0</td>\n",
              "      <td>1.5</td>\n",
              "      <td>8.0</td>\n",
              "      <td>1.0</td>\n",
              "      <td>1.0</td>\n",
              "      <td>5.0</td>\n",
              "      <td>0.0</td>\n",
              "    </tr>\n",
              "  </tbody>\n",
              "</table>\n",
              "<p>330 rows × 20 columns</p>\n",
              "</div>\n",
              "      <button class=\"colab-df-convert\" onclick=\"convertToInteractive('df-fa5a1553-1cf5-4bf3-a238-6d96bb069b43')\"\n",
              "              title=\"Convert this dataframe to an interactive table.\"\n",
              "              style=\"display:none;\">\n",
              "        \n",
              "  <svg xmlns=\"http://www.w3.org/2000/svg\" height=\"24px\"viewBox=\"0 0 24 24\"\n",
              "       width=\"24px\">\n",
              "    <path d=\"M0 0h24v24H0V0z\" fill=\"none\"/>\n",
              "    <path d=\"M18.56 5.44l.94 2.06.94-2.06 2.06-.94-2.06-.94-.94-2.06-.94 2.06-2.06.94zm-11 1L8.5 8.5l.94-2.06 2.06-.94-2.06-.94L8.5 2.5l-.94 2.06-2.06.94zm10 10l.94 2.06.94-2.06 2.06-.94-2.06-.94-.94-2.06-.94 2.06-2.06.94z\"/><path d=\"M17.41 7.96l-1.37-1.37c-.4-.4-.92-.59-1.43-.59-.52 0-1.04.2-1.43.59L10.3 9.45l-7.72 7.72c-.78.78-.78 2.05 0 2.83L4 21.41c.39.39.9.59 1.41.59.51 0 1.02-.2 1.41-.59l7.78-7.78 2.81-2.81c.8-.78.8-2.07 0-2.86zM5.41 20L4 18.59l7.72-7.72 1.47 1.35L5.41 20z\"/>\n",
              "  </svg>\n",
              "      </button>\n",
              "      \n",
              "  <style>\n",
              "    .colab-df-container {\n",
              "      display:flex;\n",
              "      flex-wrap:wrap;\n",
              "      gap: 12px;\n",
              "    }\n",
              "\n",
              "    .colab-df-convert {\n",
              "      background-color: #E8F0FE;\n",
              "      border: none;\n",
              "      border-radius: 50%;\n",
              "      cursor: pointer;\n",
              "      display: none;\n",
              "      fill: #1967D2;\n",
              "      height: 32px;\n",
              "      padding: 0 0 0 0;\n",
              "      width: 32px;\n",
              "    }\n",
              "\n",
              "    .colab-df-convert:hover {\n",
              "      background-color: #E2EBFA;\n",
              "      box-shadow: 0px 1px 2px rgba(60, 64, 67, 0.3), 0px 1px 3px 1px rgba(60, 64, 67, 0.15);\n",
              "      fill: #174EA6;\n",
              "    }\n",
              "\n",
              "    [theme=dark] .colab-df-convert {\n",
              "      background-color: #3B4455;\n",
              "      fill: #D2E3FC;\n",
              "    }\n",
              "\n",
              "    [theme=dark] .colab-df-convert:hover {\n",
              "      background-color: #434B5C;\n",
              "      box-shadow: 0px 1px 3px 1px rgba(0, 0, 0, 0.15);\n",
              "      filter: drop-shadow(0px 1px 2px rgba(0, 0, 0, 0.3));\n",
              "      fill: #FFFFFF;\n",
              "    }\n",
              "  </style>\n",
              "\n",
              "      <script>\n",
              "        const buttonEl =\n",
              "          document.querySelector('#df-fa5a1553-1cf5-4bf3-a238-6d96bb069b43 button.colab-df-convert');\n",
              "        buttonEl.style.display =\n",
              "          google.colab.kernel.accessAllowed ? 'block' : 'none';\n",
              "\n",
              "        async function convertToInteractive(key) {\n",
              "          const element = document.querySelector('#df-fa5a1553-1cf5-4bf3-a238-6d96bb069b43');\n",
              "          const dataTable =\n",
              "            await google.colab.kernel.invokeFunction('convertToInteractive',\n",
              "                                                     [key], {});\n",
              "          if (!dataTable) return;\n",
              "\n",
              "          const docLinkHtml = 'Like what you see? Visit the ' +\n",
              "            '<a target=\"_blank\" href=https://colab.research.google.com/notebooks/data_table.ipynb>data table notebook</a>'\n",
              "            + ' to learn more about interactive tables.';\n",
              "          element.innerHTML = '';\n",
              "          dataTable['output_type'] = 'display_data';\n",
              "          await google.colab.output.renderOutput(dataTable, element);\n",
              "          const docLink = document.createElement('div');\n",
              "          docLink.innerHTML = docLinkHtml;\n",
              "          element.appendChild(docLink);\n",
              "        }\n",
              "      </script>\n",
              "    </div>\n",
              "  </div>\n",
              "  "
            ]
          },
          "metadata": {},
          "execution_count": 37
        }
      ]
    },
    {
      "cell_type": "code",
      "source": [
        "#Visualizamos la gráfica comparativa entre el total real y el total predicho\n",
        "\n",
        "sns.scatterplot(x='78_number_home_deliveries_week',y='97_number_of_customers_in_store',color='blue',data=data3_iqr)\n",
        "sns.scatterplot(x='78_number_home_deliveries_week',y='Predicciones',color='red',data=data3_iqr)"
      ],
      "metadata": {
        "colab": {
          "base_uri": "https://localhost:8080/",
          "height": 297
        },
        "id": "Mafa4Wxig2_s",
        "outputId": "f9c2b80d-408e-4d0a-bb92-88b78e509900"
      },
      "execution_count": 89,
      "outputs": [
        {
          "output_type": "execute_result",
          "data": {
            "text/plain": [
              "<matplotlib.axes._subplots.AxesSubplot at 0x7f4ca1afa910>"
            ]
          },
          "metadata": {},
          "execution_count": 89
        },
        {
          "output_type": "display_data",
          "data": {
            "text/plain": [
              "<Figure size 432x288 with 1 Axes>"
            ],
            "image/png": "[encoded data removed]"
          },
          "metadata": {
            "needs_background": "light"
          }
        }
      ]
    },
    {
      "cell_type": "code",
      "source": [
        "#Corroboramos cual es el coeficiente de Determinación de nuestro modelo\n",
        "coef_Deter=model.score(X=Var_Indep, y=Var_Dep)\n",
        "coef_Deter"
      ],
      "metadata": {
        "colab": {
          "base_uri": "https://localhost:8080/"
        },
        "id": "DwcbH85ViwlN",
        "outputId": "ed5bc607-aced-4a56-b509-f730dc8c6cee"
      },
      "execution_count": 90,
      "outputs": [
        {
          "output_type": "execute_result",
          "data": {
            "text/plain": [
              "0.010436383550985084"
            ]
          },
          "metadata": {},
          "execution_count": 90
        }
      ]
    },
    {
      "cell_type": "code",
      "source": [
        "#Corroboramos cual es el coeficiente de Correlación de nuestro modelo\n",
        "coef_Correl=np.sqrt(coef_Deter)\n",
        "coef_Correl"
      ],
      "metadata": {
        "colab": {
          "base_uri": "https://localhost:8080/"
        },
        "id": "q7DDMm2Li0RV",
        "outputId": "5dbdaccc-b715-4810-ec96-a44f39f18685"
      },
      "execution_count": 91,
      "outputs": [
        {
          "output_type": "execute_result",
          "data": {
            "text/plain": [
              "0.10215861956284004"
            ]
          },
          "metadata": {},
          "execution_count": 91
        }
      ]
    },
    {
      "cell_type": "markdown",
      "source": [
        "# **Regresión Lineal 2**"
      ],
      "metadata": {
        "id": "ALD3R9EgLt2p"
      }
    },
    {
      "cell_type": "code",
      "source": [
        "#Se grafican mapas de dispersión de las variables 3 variables\n",
        "from turtle import color\n",
        "\n",
        "sns.scatterplot(x='272_card_days_receive_money',y='163_number_high_perishable_products',color='blue',data=data3_iqr)\n",
        "sns.scatterplot(x='145_number_direct_competitors',y='163_number_high_perishable_products',color='red',data=data3_iqr)\n",
        "sns.scatterplot(x='4_number_permanent_employees_last_year',y='163_number_high_perishable_products',color='green',data=data3_iqr)"
      ],
      "metadata": {
        "colab": {
          "base_uri": "https://localhost:8080/",
          "height": 297
        },
        "id": "XPiDxr0nLyF6",
        "outputId": "c50c36c0-822e-4962-bc89-a21b405f33ed"
      },
      "execution_count": 92,
      "outputs": [
        {
          "output_type": "execute_result",
          "data": {
            "text/plain": [
              "<matplotlib.axes._subplots.AxesSubplot at 0x7f4ca1a83090>"
            ]
          },
          "metadata": {},
          "execution_count": 92
        },
        {
          "output_type": "display_data",
          "data": {
            "text/plain": [
              "<Figure size 432x288 with 1 Axes>"
            ],
            "image/png": "[encoded data removed]"
          },
          "metadata": {
            "needs_background": "light"
          }
        }
      ]
    },
    {
      "cell_type": "code",
      "source": [
        "#Declaramos las variables dependientes e independientes para la regresión lineal\n",
        "Var_Indep= data3_iqr[['272_card_days_receive_money','145_number_direct_competitors','4_number_permanent_employees_last_year']]\n",
        "Var_Dep = data3_iqr[\"163_number_high_perishable_products\"]"
      ],
      "metadata": {
        "id": "Ma_tpla_NtQX"
      },
      "execution_count": 93,
      "outputs": []
    },
    {
      "cell_type": "code",
      "source": [
        "#Se define model como la función de regresión lineal\n",
        "from sklearn.linear_model import LinearRegression\n",
        "model2 = LinearRegression()"
      ],
      "metadata": {
        "id": "qEuw57reOhNE"
      },
      "execution_count": 94,
      "outputs": []
    },
    {
      "cell_type": "code",
      "source": [
        "#Verificamos la función relacionada al modelo\n",
        "type(model2)"
      ],
      "metadata": {
        "colab": {
          "base_uri": "https://localhost:8080/"
        },
        "id": "_2XJcH7mOuku",
        "outputId": "88fd4062-802d-4c87-b57e-169cc9a189b8"
      },
      "execution_count": 95,
      "outputs": [
        {
          "output_type": "execute_result",
          "data": {
            "text/plain": [
              "sklearn.linear_model._base.LinearRegression"
            ]
          },
          "metadata": {},
          "execution_count": 95
        }
      ]
    },
    {
      "cell_type": "code",
      "source": [
        "#Ajustamos el modelo con las variables antes declaradas\n",
        "model2.fit(X=Var_Indep, y=Var_Dep)"
      ],
      "metadata": {
        "colab": {
          "base_uri": "https://localhost:8080/"
        },
        "id": "7_baiytLOwfM",
        "outputId": "44f8905c-8fd9-4118-9f41-ab860b2c9d89"
      },
      "execution_count": 96,
      "outputs": [
        {
          "output_type": "execute_result",
          "data": {
            "text/plain": [
              "LinearRegression()"
            ]
          },
          "metadata": {},
          "execution_count": 96
        }
      ]
    },
    {
      "cell_type": "code",
      "source": [
        "#Verificamos coeficientes obtenidos para el modelo ajustado\n",
        "model2.__dict__"
      ],
      "metadata": {
        "colab": {
          "base_uri": "https://localhost:8080/"
        },
        "id": "nRRIWb_rO0_8",
        "outputId": "c5f81e34-14c3-4e0a-dd40-8b2fa95b7719"
      },
      "execution_count": 97,
      "outputs": [
        {
          "output_type": "execute_result",
          "data": {
            "text/plain": [
              "{'fit_intercept': True,\n",
              " 'normalize': 'deprecated',\n",
              " 'copy_X': True,\n",
              " 'n_jobs': None,\n",
              " 'positive': False,\n",
              " 'feature_names_in_': array(['272_card_days_receive_money', '145_number_direct_competitors',\n",
              "        '4_number_permanent_employees_last_year'], dtype=object),\n",
              " 'n_features_in_': 3,\n",
              " 'coef_': array([-0.4682398 ,  0.55347023, -0.09026837]),\n",
              " '_residues': 14079.637863888041,\n",
              " 'rank_': 3,\n",
              " 'singular_': array([37.08862343, 21.12264069, 10.21077723]),\n",
              " 'intercept_': 3.885006000897749}"
            ]
          },
          "metadata": {},
          "execution_count": 97
        }
      ]
    },
    {
      "cell_type": "code",
      "source": [
        "#Evaluamos la eficiencia del modelo obtenido por medio del coeficiente R2 Determinación\n",
        "model2.score(Var_Indep,Var_Dep)"
      ],
      "metadata": {
        "colab": {
          "base_uri": "https://localhost:8080/"
        },
        "id": "LmeejMDlPG1x",
        "outputId": "bfbf326a-792e-42c8-f33e-24250c81c647"
      },
      "execution_count": 98,
      "outputs": [
        {
          "output_type": "execute_result",
          "data": {
            "text/plain": [
              "0.032500616304659724"
            ]
          },
          "metadata": {},
          "execution_count": 98
        }
      ]
    },
    {
      "cell_type": "code",
      "source": [
        "#Predecimos los valores de total de accidentes a partir de las variables: alcohol, speeding y no previous\n",
        "y_pred= model2.predict(X=data3_iqr[['272_card_days_receive_money','145_number_direct_competitors','4_number_permanent_employees_last_year']])\n",
        "y_pred"
      ],
      "metadata": {
        "colab": {
          "base_uri": "https://localhost:8080/"
        },
        "id": "D6nONnENPMVj",
        "outputId": "265c6c99-5ca8-4465-ecdc-99de190ec96c"
      },
      "execution_count": 99,
      "outputs": [
        {
          "output_type": "execute_result",
          "data": {
            "text/plain": [
              "array([6.52598145, 6.52598145, 6.52598145, 5.60076373, 5.60076373,\n",
              "       5.60076373, 5.60076373, 5.60076373, 5.41904098, 3.41172826,\n",
              "       2.76798965, 6.05774165, 5.35984201, 4.25290154, 6.7375876 ,\n",
              "       3.78969968, 5.63064714, 4.34316992, 6.7375876 , 4.89664015,\n",
              "       3.23622945, 6.00358062, 3.69943131, 5.54037876, 5.0771769 ,\n",
              "       7.66399133, 4.8617188 , 4.34316992, 4.89664015, 3.23622945,\n",
              "       5.91331225, 4.80637178, 4.80637178, 4.80637178, 5.0771769 ,\n",
              "       5.0771769 , 5.0771769 , 6.00358062, 6.00358062, 5.13252392,\n",
              "       3.87996806, 3.14596108, 5.97251121, 5.97251121, 5.97251121,\n",
              "       5.97251121, 5.5454167 , 4.43847624, 4.43847624, 6.47182042,\n",
              "       6.47182042, 6.47182042, 6.47182042, 6.47182042, 6.47182042,\n",
              "       6.47182042, 6.47182042, 6.47182042, 6.47182042, 7.11052109,\n",
              "       6.83971597, 6.093849  , 5.82304387, 7.7542597 , 3.4167662 ,\n",
              "       5.35984201, 5.04225555, 3.84386071, 4.89664015, 4.95198718,\n",
              "       3.78969968, 3.78969968, 3.78969968, 3.78969968, 4.34316992,\n",
              "       5.0771769 , 3.23622945, 3.23622945, 3.23622945, 3.23622945,\n",
              "       4.34316992, 4.34316992, 4.393479  , 3.87493012, 2.76798965,\n",
              "       2.85825802, 5.51049535, 5.51049535, 4.43847624, 6.5620888 ,\n",
              "       5.32995861, 5.42022698, 6.47182042, 4.9016781 , 4.9016781 ,\n",
              "       7.11555903, 6.93502228, 6.5620888 , 7.02529066, 5.45514833,\n",
              "       3.70446925, 6.29128368, 6.00861856, 6.5620888 , 5.45514833,\n",
              "       5.36487996, 6.47182042, 5.45011039, 6.18411737, 5.91835019,\n",
              "       3.61420088, 3.70446925, 4.9016781 , 4.99194647, 7.75929764,\n",
              "       6.65235717, 7.20582741, 4.43847624, 5.5454167 , 5.5454167 ,\n",
              "       5.5454167 , 5.5454167 , 8.31276788, 8.31276788, 4.71100259,\n",
              "       4.15753235, 4.71100259, 3.42352537, 3.42352537, 3.42352537,\n",
              "       3.42352537, 3.42352537, 3.42352537, 3.42352537, 3.42352537,\n",
              "       4.53046584, 4.53046584, 4.53046584, 4.53046584, 4.95874635,\n",
              "       5.0061482 , 5.41904098, 5.41904098, 5.41904098, 5.41904098,\n",
              "       5.41904098, 5.41904098, 5.36487996, 5.36487996, 5.18434321,\n",
              "       4.0723648 , 5.13252392, 3.79473763, 5.42022698, 5.0061482 ,\n",
              "       3.84386071, 3.23622945, 4.39733094, 3.51889456, 3.29039047,\n",
              "       4.0723648 , 3.29039047, 4.42840035, 4.42840035, 5.44507245,\n",
              "       5.44507245, 4.51866872, 4.51866872, 4.51866872, 4.51866872,\n",
              "       4.51866872, 4.42840035, 5.07213896, 3.70446925, 6.00861856,\n",
              "       3.4167662 , 4.43343829, 3.23622945, 6.7375876 , 4.43343829,\n",
              "       3.87996806, 4.98690853, 5.54037876, 5.73781344, 6.84475391,\n",
              "       4.63087297, 4.81140972, 7.11555903, 7.02529066, 3.70446925,\n",
              "       4.25793949, 4.99194647, 4.99194647, 4.99194647, 4.99194647,\n",
              "       4.99194647, 5.5454167 , 5.5454167 , 5.5454167 , 5.5454167 ,\n",
              "       5.5454167 , 5.5454167 , 5.5454167 , 5.5454167 , 5.5454167 ,\n",
              "       4.43343829, 4.98690853, 4.44019747, 4.62073421, 3.42352537,\n",
              "       6.6540784 , 4.9936677 , 5.45686956, 5.63064714, 5.63064714,\n",
              "       4.53046584, 3.78969968, 3.78969968, 3.4167662 , 3.32145988,\n",
              "       3.32145988, 6.093849  , 6.093849  , 5.45011039, 5.45011039,\n",
              "       4.89664015, 4.25793949, 6.55705086, 4.95198718, 4.95198718,\n",
              "       4.95198718, 3.97023643, 3.97023643, 7.29105784, 3.4167662 ,\n",
              "       5.82304387, 7.71815235, 5.0771769 , 5.82304387, 5.54037876,\n",
              "       3.60916294, 5.13252392, 5.0771769 , 3.97023643, 4.25793949,\n",
              "       4.43847624, 4.81140972, 6.09888694, 6.09888694, 6.09888694,\n",
              "       5.5454167 , 5.5454167 , 5.5454167 , 5.45514833, 5.45514833,\n",
              "       5.45514833, 5.45514833, 5.45514833, 5.45514833, 5.45514833,\n",
              "       5.36487996, 5.36487996, 3.885006  , 3.885006  , 3.885006  ,\n",
              "       3.79473763, 3.79473763, 3.79473763, 3.885006  , 5.60076373,\n",
              "       5.60076373, 7.66902927, 4.81140972, 4.81140972, 4.81140972,\n",
              "       4.81140972, 4.81140972, 8.31276788, 8.31276788, 8.31276788,\n",
              "       8.31276788, 8.31276788, 3.60916294, 3.88672723, 3.88672723,\n",
              "       3.88672723, 4.43343829, 6.18411737, 7.84452807, 7.84452807,\n",
              "       5.0771769 , 5.0771769 , 4.98690853, 4.98690853, 4.98690853,\n",
              "       4.98690853, 5.04225555, 5.04225555, 7.20078946, 7.20078946,\n",
              "       7.20078946, 7.20078946, 7.20078946, 4.77145043, 5.7327755 ,\n",
              "       3.84386071, 4.77145043, 7.20078946, 4.34316992, 3.32649782,\n",
              "       5.45011039, 4.52370667, 5.41904098, 4.72114135, 3.14596108,\n",
              "       6.18411737, 3.4167662 , 5.45011039, 5.45011039, 6.00358062,\n",
              "       3.78969968, 7.29105784, 5.45011039, 5.45011039, 5.45011039,\n",
              "       6.00358062, 6.00358062, 6.00358062, 6.00358062, 6.00358062])"
            ]
          },
          "metadata": {},
          "execution_count": 99
        }
      ]
    },
    {
      "cell_type": "code",
      "source": [
        "#Insertamos la columna de predicciones en el Dataframe\n",
        "data3_iqr.insert(1, 'Predicciones2',y_pred)\n",
        "data3_iqr"
      ],
      "metadata": {
        "colab": {
          "base_uri": "https://localhost:8080/",
          "height": 488
        },
        "id": "LxWEwo_BPa7d",
        "outputId": "e9ef0c36-8cc9-4522-9440-d68d11f92b45"
      },
      "execution_count": 64,
      "outputs": [
        {
          "output_type": "execute_result",
          "data": {
            "text/plain": [
              "     Predicciones  Predicciones2  97_number_of_customers_in_store  \\\n",
              "0        1.318777       6.525981                              1.0   \n",
              "1        1.318777       6.525981                              2.0   \n",
              "2        1.318777       6.525981                              2.0   \n",
              "3        1.040852       5.600764                              1.0   \n",
              "4        1.040852       5.600764                              3.0   \n",
              "..            ...            ...                              ...   \n",
              "325      1.137715       6.003581                              0.0   \n",
              "326      1.137715       6.003581                              1.0   \n",
              "327      1.137715       6.003581                              3.0   \n",
              "328      1.137715       6.003581                              0.0   \n",
              "329      1.137715       6.003581                              1.0   \n",
              "\n",
              "     268_number_fridges  104_how_many_shelves_does_the_micro_retailer_have  \\\n",
              "0                   3.0                                                3.0   \n",
              "1                   0.0                                                0.0   \n",
              "2                   0.0                                                0.0   \n",
              "3                   0.0                                                0.0   \n",
              "4                   2.0                                                3.0   \n",
              "..                  ...                                                ...   \n",
              "325                 1.0                                                7.0   \n",
              "326                 0.0                                                5.0   \n",
              "327                 1.0                                                1.0   \n",
              "328                 1.0                                                1.0   \n",
              "329                 3.0                                                1.0   \n",
              "\n",
              "     2_current_permanent_employees  4_number_permanent_employees_last_year  \\\n",
              "0                              2.0                                     1.4   \n",
              "1                              2.0                                     1.4   \n",
              "2                              2.0                                     1.4   \n",
              "3                              0.0                                     0.0   \n",
              "4                              0.0                                     0.0   \n",
              "..                             ...                                     ...   \n",
              "325                            1.3                                     2.0   \n",
              "326                            1.3                                     2.0   \n",
              "327                            1.3                                     2.0   \n",
              "328                            1.3                                     2.0   \n",
              "329                            1.3                                     2.0   \n",
              "\n",
              "     103_number_own_fridges  145_number_direct_competitors  24_burnout  ...  \\\n",
              "0                       3.0                            5.0         2.0  ...   \n",
              "1                       3.0                            5.0         2.0  ...   \n",
              "2                       3.0                            5.0         2.0  ...   \n",
              "3                       3.0                            3.1         2.0  ...   \n",
              "4                       3.0                            3.1         2.0  ...   \n",
              "..                      ...                            ...         ...  ...   \n",
              "325                     2.0                            5.0         7.0  ...   \n",
              "326                     2.0                            5.0         7.0  ...   \n",
              "327                     2.0                            5.0         7.0  ...   \n",
              "328                     2.0                            5.0         7.0  ...   \n",
              "329                     2.0                            5.0         7.0  ...   \n",
              "\n",
              "     275_platform_days_receive_money  276_expected_days_informal_credit  \\\n",
              "0                                0.0                                1.0   \n",
              "1                                0.0                                1.0   \n",
              "2                                0.0                                1.0   \n",
              "3                                0.0                                1.0   \n",
              "4                                0.0                                1.0   \n",
              "..                               ...                                ...   \n",
              "325                              7.0                                2.0   \n",
              "326                              7.0                                2.0   \n",
              "327                              7.0                                2.0   \n",
              "328                              7.0                                2.0   \n",
              "329                              7.0                                2.0   \n",
              "\n",
              "     36_credit_default_rate  315_frequency_topups  \\\n",
              "0                       1.0                   3.5   \n",
              "1                       1.0                   3.5   \n",
              "2                       1.0                   3.5   \n",
              "3                       1.0                   3.5   \n",
              "4                       1.0                   3.5   \n",
              "..                      ...                   ...   \n",
              "325                     0.0                   1.0   \n",
              "326                     0.0                   1.0   \n",
              "327                     0.0                   1.0   \n",
              "328                     0.0                   1.0   \n",
              "329                     0.0                   1.0   \n",
              "\n",
              "     316_frequency_utility_bills  317_home_deliveries  \\\n",
              "0                            2.0                  4.0   \n",
              "1                            2.0                  4.0   \n",
              "2                            2.0                  4.0   \n",
              "3                            2.0                  4.0   \n",
              "4                            2.0                  4.0   \n",
              "..                           ...                  ...   \n",
              "325                          1.5                  8.0   \n",
              "326                          1.5                  8.0   \n",
              "327                          1.5                  8.0   \n",
              "328                          1.5                  8.0   \n",
              "329                          1.5                  8.0   \n",
              "\n",
              "     62_frequency_only_services  78_number_home_deliveries_week  \\\n",
              "0                          10.0                             3.0   \n",
              "1                          10.0                             3.0   \n",
              "2                          10.0                             3.0   \n",
              "3                          10.0                             3.0   \n",
              "4                          10.0                             3.0   \n",
              "..                          ...                             ...   \n",
              "325                         1.0                             1.0   \n",
              "326                         1.0                             1.0   \n",
              "327                         1.0                             1.0   \n",
              "328                         1.0                             1.0   \n",
              "329                         1.0                             1.0   \n",
              "\n",
              "     172_supplier_frequency  163_number_high_perishable_products  \n",
              "0                       2.0                                 10.0  \n",
              "1                       2.0                                 10.0  \n",
              "2                       2.0                                 10.0  \n",
              "3                       1.0                                  0.0  \n",
              "4                       1.0                                  0.0  \n",
              "..                      ...                                  ...  \n",
              "325                     5.0                                  0.0  \n",
              "326                     5.0                                  0.0  \n",
              "327                     5.0                                  0.0  \n",
              "328                     5.0                                  0.0  \n",
              "329                     5.0                                  0.0  \n",
              "\n",
              "[330 rows x 21 columns]"
            ],
            "text/html": [
              "\n",
              "  <div id=\"df-a0b41fc7-c317-4ae5-9a4c-fbe3ec8a7e56\">\n",
              "    <div class=\"colab-df-container\">\n",
              "      <div>\n",
              "<style scoped>\n",
              "    .dataframe tbody tr th:only-of-type {\n",
              "        vertical-align: middle;\n",
              "    }\n",
              "\n",
              "    .dataframe tbody tr th {\n",
              "        vertical-align: top;\n",
              "    }\n",
              "\n",
              "    .dataframe thead th {\n",
              "        text-align: right;\n",
              "    }\n",
              "</style>\n",
              "<table border=\"1\" class=\"dataframe\">\n",
              "  <thead>\n",
              "    <tr style=\"text-align: right;\">\n",
              "      <th></th>\n",
              "      <th>Predicciones</th>\n",
              "      <th>Predicciones2</th>\n",
              "      <th>97_number_of_customers_in_store</th>\n",
              "      <th>268_number_fridges</th>\n",
              "      <th>104_how_many_shelves_does_the_micro_retailer_have</th>\n",
              "      <th>2_current_permanent_employees</th>\n",
              "      <th>4_number_permanent_employees_last_year</th>\n",
              "      <th>103_number_own_fridges</th>\n",
              "      <th>145_number_direct_competitors</th>\n",
              "      <th>24_burnout</th>\n",
              "      <th>...</th>\n",
              "      <th>275_platform_days_receive_money</th>\n",
              "      <th>276_expected_days_informal_credit</th>\n",
              "      <th>36_credit_default_rate</th>\n",
              "      <th>315_frequency_topups</th>\n",
              "      <th>316_frequency_utility_bills</th>\n",
              "      <th>317_home_deliveries</th>\n",
              "      <th>62_frequency_only_services</th>\n",
              "      <th>78_number_home_deliveries_week</th>\n",
              "      <th>172_supplier_frequency</th>\n",
              "      <th>163_number_high_perishable_products</th>\n",
              "    </tr>\n",
              "  </thead>\n",
              "  <tbody>\n",
              "    <tr>\n",
              "      <th>0</th>\n",
              "      <td>1.318777</td>\n",
              "      <td>6.525981</td>\n",
              "      <td>1.0</td>\n",
              "      <td>3.0</td>\n",
              "      <td>3.0</td>\n",
              "      <td>2.0</td>\n",
              "      <td>1.4</td>\n",
              "      <td>3.0</td>\n",
              "      <td>5.0</td>\n",
              "      <td>2.0</td>\n",
              "      <td>...</td>\n",
              "      <td>0.0</td>\n",
              "      <td>1.0</td>\n",
              "      <td>1.0</td>\n",
              "      <td>3.5</td>\n",
              "      <td>2.0</td>\n",
              "      <td>4.0</td>\n",
              "      <td>10.0</td>\n",
              "      <td>3.0</td>\n",
              "      <td>2.0</td>\n",
              "      <td>10.0</td>\n",
              "    </tr>\n",
              "    <tr>\n",
              "      <th>1</th>\n",
              "      <td>1.318777</td>\n",
              "      <td>6.525981</td>\n",
              "      <td>2.0</td>\n",
              "      <td>0.0</td>\n",
              "      <td>0.0</td>\n",
              "      <td>2.0</td>\n",
              "      <td>1.4</td>\n",
              "      <td>3.0</td>\n",
              "      <td>5.0</td>\n",
              "      <td>2.0</td>\n",
              "      <td>...</td>\n",
              "      <td>0.0</td>\n",
              "      <td>1.0</td>\n",
              "      <td>1.0</td>\n",
              "      <td>3.5</td>\n",
              "      <td>2.0</td>\n",
              "      <td>4.0</td>\n",
              "      <td>10.0</td>\n",
              "      <td>3.0</td>\n",
              "      <td>2.0</td>\n",
              "      <td>10.0</td>\n",
              "    </tr>\n",
              "    <tr>\n",
              "      <th>2</th>\n",
              "      <td>1.318777</td>\n",
              "      <td>6.525981</td>\n",
              "      <td>2.0</td>\n",
              "      <td>0.0</td>\n",
              "      <td>0.0</td>\n",
              "      <td>2.0</td>\n",
              "      <td>1.4</td>\n",
              "      <td>3.0</td>\n",
              "      <td>5.0</td>\n",
              "      <td>2.0</td>\n",
              "      <td>...</td>\n",
              "      <td>0.0</td>\n",
              "      <td>1.0</td>\n",
              "      <td>1.0</td>\n",
              "      <td>3.5</td>\n",
              "      <td>2.0</td>\n",
              "      <td>4.0</td>\n",
              "      <td>10.0</td>\n",
              "      <td>3.0</td>\n",
              "      <td>2.0</td>\n",
              "      <td>10.0</td>\n",
              "    </tr>\n",
              "    <tr>\n",
              "      <th>3</th>\n",
              "      <td>1.040852</td>\n",
              "      <td>5.600764</td>\n",
              "      <td>1.0</td>\n",
              "      <td>0.0</td>\n",
              "      <td>0.0</td>\n",
              "      <td>0.0</td>\n",
              "      <td>0.0</td>\n",
              "      <td>3.0</td>\n",
              "      <td>3.1</td>\n",
              "      <td>2.0</td>\n",
              "      <td>...</td>\n",
              "      <td>0.0</td>\n",
              "      <td>1.0</td>\n",
              "      <td>1.0</td>\n",
              "      <td>3.5</td>\n",
              "      <td>2.0</td>\n",
              "      <td>4.0</td>\n",
              "      <td>10.0</td>\n",
              "      <td>3.0</td>\n",
              "      <td>1.0</td>\n",
              "      <td>0.0</td>\n",
              "    </tr>\n",
              "    <tr>\n",
              "      <th>4</th>\n",
              "      <td>1.040852</td>\n",
              "      <td>5.600764</td>\n",
              "      <td>3.0</td>\n",
              "      <td>2.0</td>\n",
              "      <td>3.0</td>\n",
              "      <td>0.0</td>\n",
              "      <td>0.0</td>\n",
              "      <td>3.0</td>\n",
              "      <td>3.1</td>\n",
              "      <td>2.0</td>\n",
              "      <td>...</td>\n",
              "      <td>0.0</td>\n",
              "      <td>1.0</td>\n",
              "      <td>1.0</td>\n",
              "      <td>3.5</td>\n",
              "      <td>2.0</td>\n",
              "      <td>4.0</td>\n",
              "      <td>10.0</td>\n",
              "      <td>3.0</td>\n",
              "      <td>1.0</td>\n",
              "      <td>0.0</td>\n",
              "    </tr>\n",
              "    <tr>\n",
              "      <th>...</th>\n",
              "      <td>...</td>\n",
              "      <td>...</td>\n",
              "      <td>...</td>\n",
              "      <td>...</td>\n",
              "      <td>...</td>\n",
              "      <td>...</td>\n",
              "      <td>...</td>\n",
              "      <td>...</td>\n",
              "      <td>...</td>\n",
              "      <td>...</td>\n",
              "      <td>...</td>\n",
              "      <td>...</td>\n",
              "      <td>...</td>\n",
              "      <td>...</td>\n",
              "      <td>...</td>\n",
              "      <td>...</td>\n",
              "      <td>...</td>\n",
              "      <td>...</td>\n",
              "      <td>...</td>\n",
              "      <td>...</td>\n",
              "      <td>...</td>\n",
              "    </tr>\n",
              "    <tr>\n",
              "      <th>325</th>\n",
              "      <td>1.137715</td>\n",
              "      <td>6.003581</td>\n",
              "      <td>0.0</td>\n",
              "      <td>1.0</td>\n",
              "      <td>7.0</td>\n",
              "      <td>1.3</td>\n",
              "      <td>2.0</td>\n",
              "      <td>2.0</td>\n",
              "      <td>5.0</td>\n",
              "      <td>7.0</td>\n",
              "      <td>...</td>\n",
              "      <td>7.0</td>\n",
              "      <td>2.0</td>\n",
              "      <td>0.0</td>\n",
              "      <td>1.0</td>\n",
              "      <td>1.5</td>\n",
              "      <td>8.0</td>\n",
              "      <td>1.0</td>\n",
              "      <td>1.0</td>\n",
              "      <td>5.0</td>\n",
              "      <td>0.0</td>\n",
              "    </tr>\n",
              "    <tr>\n",
              "      <th>326</th>\n",
              "      <td>1.137715</td>\n",
              "      <td>6.003581</td>\n",
              "      <td>1.0</td>\n",
              "      <td>0.0</td>\n",
              "      <td>5.0</td>\n",
              "      <td>1.3</td>\n",
              "      <td>2.0</td>\n",
              "      <td>2.0</td>\n",
              "      <td>5.0</td>\n",
              "      <td>7.0</td>\n",
              "      <td>...</td>\n",
              "      <td>7.0</td>\n",
              "      <td>2.0</td>\n",
              "      <td>0.0</td>\n",
              "      <td>1.0</td>\n",
              "      <td>1.5</td>\n",
              "      <td>8.0</td>\n",
              "      <td>1.0</td>\n",
              "      <td>1.0</td>\n",
              "      <td>5.0</td>\n",
              "      <td>0.0</td>\n",
              "    </tr>\n",
              "    <tr>\n",
              "      <th>327</th>\n",
              "      <td>1.137715</td>\n",
              "      <td>6.003581</td>\n",
              "      <td>3.0</td>\n",
              "      <td>1.0</td>\n",
              "      <td>1.0</td>\n",
              "      <td>1.3</td>\n",
              "      <td>2.0</td>\n",
              "      <td>2.0</td>\n",
              "      <td>5.0</td>\n",
              "      <td>7.0</td>\n",
              "      <td>...</td>\n",
              "      <td>7.0</td>\n",
              "      <td>2.0</td>\n",
              "      <td>0.0</td>\n",
              "      <td>1.0</td>\n",
              "      <td>1.5</td>\n",
              "      <td>8.0</td>\n",
              "      <td>1.0</td>\n",
              "      <td>1.0</td>\n",
              "      <td>5.0</td>\n",
              "      <td>0.0</td>\n",
              "    </tr>\n",
              "    <tr>\n",
              "      <th>328</th>\n",
              "      <td>1.137715</td>\n",
              "      <td>6.003581</td>\n",
              "      <td>0.0</td>\n",
              "      <td>1.0</td>\n",
              "      <td>1.0</td>\n",
              "      <td>1.3</td>\n",
              "      <td>2.0</td>\n",
              "      <td>2.0</td>\n",
              "      <td>5.0</td>\n",
              "      <td>7.0</td>\n",
              "      <td>...</td>\n",
              "      <td>7.0</td>\n",
              "      <td>2.0</td>\n",
              "      <td>0.0</td>\n",
              "      <td>1.0</td>\n",
              "      <td>1.5</td>\n",
              "      <td>8.0</td>\n",
              "      <td>1.0</td>\n",
              "      <td>1.0</td>\n",
              "      <td>5.0</td>\n",
              "      <td>0.0</td>\n",
              "    </tr>\n",
              "    <tr>\n",
              "      <th>329</th>\n",
              "      <td>1.137715</td>\n",
              "      <td>6.003581</td>\n",
              "      <td>1.0</td>\n",
              "      <td>3.0</td>\n",
              "      <td>1.0</td>\n",
              "      <td>1.3</td>\n",
              "      <td>2.0</td>\n",
              "      <td>2.0</td>\n",
              "      <td>5.0</td>\n",
              "      <td>7.0</td>\n",
              "      <td>...</td>\n",
              "      <td>7.0</td>\n",
              "      <td>2.0</td>\n",
              "      <td>0.0</td>\n",
              "      <td>1.0</td>\n",
              "      <td>1.5</td>\n",
              "      <td>8.0</td>\n",
              "      <td>1.0</td>\n",
              "      <td>1.0</td>\n",
              "      <td>5.0</td>\n",
              "      <td>0.0</td>\n",
              "    </tr>\n",
              "  </tbody>\n",
              "</table>\n",
              "<p>330 rows × 21 columns</p>\n",
              "</div>\n",
              "      <button class=\"colab-df-convert\" onclick=\"convertToInteractive('df-a0b41fc7-c317-4ae5-9a4c-fbe3ec8a7e56')\"\n",
              "              title=\"Convert this dataframe to an interactive table.\"\n",
              "              style=\"display:none;\">\n",
              "        \n",
              "  <svg xmlns=\"http://www.w3.org/2000/svg\" height=\"24px\"viewBox=\"0 0 24 24\"\n",
              "       width=\"24px\">\n",
              "    <path d=\"M0 0h24v24H0V0z\" fill=\"none\"/>\n",
              "    <path d=\"M18.56 5.44l.94 2.06.94-2.06 2.06-.94-2.06-.94-.94-2.06-.94 2.06-2.06.94zm-11 1L8.5 8.5l.94-2.06 2.06-.94-2.06-.94L8.5 2.5l-.94 2.06-2.06.94zm10 10l.94 2.06.94-2.06 2.06-.94-2.06-.94-.94-2.06-.94 2.06-2.06.94z\"/><path d=\"M17.41 7.96l-1.37-1.37c-.4-.4-.92-.59-1.43-.59-.52 0-1.04.2-1.43.59L10.3 9.45l-7.72 7.72c-.78.78-.78 2.05 0 2.83L4 21.41c.39.39.9.59 1.41.59.51 0 1.02-.2 1.41-.59l7.78-7.78 2.81-2.81c.8-.78.8-2.07 0-2.86zM5.41 20L4 18.59l7.72-7.72 1.47 1.35L5.41 20z\"/>\n",
              "  </svg>\n",
              "      </button>\n",
              "      \n",
              "  <style>\n",
              "    .colab-df-container {\n",
              "      display:flex;\n",
              "      flex-wrap:wrap;\n",
              "      gap: 12px;\n",
              "    }\n",
              "\n",
              "    .colab-df-convert {\n",
              "      background-color: #E8F0FE;\n",
              "      border: none;\n",
              "      border-radius: 50%;\n",
              "      cursor: pointer;\n",
              "      display: none;\n",
              "      fill: #1967D2;\n",
              "      height: 32px;\n",
              "      padding: 0 0 0 0;\n",
              "      width: 32px;\n",
              "    }\n",
              "\n",
              "    .colab-df-convert:hover {\n",
              "      background-color: #E2EBFA;\n",
              "      box-shadow: 0px 1px 2px rgba(60, 64, 67, 0.3), 0px 1px 3px 1px rgba(60, 64, 67, 0.15);\n",
              "      fill: #174EA6;\n",
              "    }\n",
              "\n",
              "    [theme=dark] .colab-df-convert {\n",
              "      background-color: #3B4455;\n",
              "      fill: #D2E3FC;\n",
              "    }\n",
              "\n",
              "    [theme=dark] .colab-df-convert:hover {\n",
              "      background-color: #434B5C;\n",
              "      box-shadow: 0px 1px 3px 1px rgba(0, 0, 0, 0.15);\n",
              "      filter: drop-shadow(0px 1px 2px rgba(0, 0, 0, 0.3));\n",
              "      fill: #FFFFFF;\n",
              "    }\n",
              "  </style>\n",
              "\n",
              "      <script>\n",
              "        const buttonEl =\n",
              "          document.querySelector('#df-a0b41fc7-c317-4ae5-9a4c-fbe3ec8a7e56 button.colab-df-convert');\n",
              "        buttonEl.style.display =\n",
              "          google.colab.kernel.accessAllowed ? 'block' : 'none';\n",
              "\n",
              "        async function convertToInteractive(key) {\n",
              "          const element = document.querySelector('#df-a0b41fc7-c317-4ae5-9a4c-fbe3ec8a7e56');\n",
              "          const dataTable =\n",
              "            await google.colab.kernel.invokeFunction('convertToInteractive',\n",
              "                                                     [key], {});\n",
              "          if (!dataTable) return;\n",
              "\n",
              "          const docLinkHtml = 'Like what you see? Visit the ' +\n",
              "            '<a target=\"_blank\" href=https://colab.research.google.com/notebooks/data_table.ipynb>data table notebook</a>'\n",
              "            + ' to learn more about interactive tables.';\n",
              "          element.innerHTML = '';\n",
              "          dataTable['output_type'] = 'display_data';\n",
              "          await google.colab.output.renderOutput(dataTable, element);\n",
              "          const docLink = document.createElement('div');\n",
              "          docLink.innerHTML = docLinkHtml;\n",
              "          element.appendChild(docLink);\n",
              "        }\n",
              "      </script>\n",
              "    </div>\n",
              "  </div>\n",
              "  "
            ]
          },
          "metadata": {},
          "execution_count": 64
        }
      ]
    },
    {
      "cell_type": "code",
      "source": [
        "#Visualizamos la gráfica comparativa entre el total real y el total predicho\n",
        "\n",
        "sns.scatterplot(x='272_card_days_receive_money',y='163_number_high_perishable_products',color='blue',data=data3_iqr)\n",
        "sns.scatterplot(x='272_card_days_receive_money',y='Predicciones2',color='red',data=data3_iqr)"
      ],
      "metadata": {
        "colab": {
          "base_uri": "https://localhost:8080/",
          "height": 297
        },
        "id": "BbIIwYMeQeVw",
        "outputId": "f92a2567-85f6-4830-fe01-be78d634256e"
      },
      "execution_count": 100,
      "outputs": [
        {
          "output_type": "execute_result",
          "data": {
            "text/plain": [
              "<matplotlib.axes._subplots.AxesSubplot at 0x7f4ca19ea4d0>"
            ]
          },
          "metadata": {},
          "execution_count": 100
        },
        {
          "output_type": "display_data",
          "data": {
            "text/plain": [
              "<Figure size 432x288 with 1 Axes>"
            ],
            "image/png": "[encoded data removed]"
          },
          "metadata": {
            "needs_background": "light"
          }
        }
      ]
    },
    {
      "cell_type": "code",
      "source": [
        "#Corroboramos cual es el coeficiente de Determinación de nuestro modelo\n",
        "coef_Deter=model2.score(X=Var_Indep, y=Var_Dep)\n",
        "coef_Deter"
      ],
      "metadata": {
        "colab": {
          "base_uri": "https://localhost:8080/"
        },
        "id": "qgxxWz88QQ0-",
        "outputId": "d9205a81-7a1e-4600-9ad8-24ebca0e2fa0"
      },
      "execution_count": 101,
      "outputs": [
        {
          "output_type": "execute_result",
          "data": {
            "text/plain": [
              "0.032500616304659724"
            ]
          },
          "metadata": {},
          "execution_count": 101
        }
      ]
    },
    {
      "cell_type": "code",
      "source": [
        "#Corroboramos cual es el coeficiente de Correlación de nuestro modelo\n",
        "coef_Correl=np.sqrt(coef_Deter)\n",
        "coef_Correl"
      ],
      "metadata": {
        "colab": {
          "base_uri": "https://localhost:8080/"
        },
        "id": "CZUt9d0aQ0Q8",
        "outputId": "17467b25-118c-47ef-a5ea-18cd0ec063dc"
      },
      "execution_count": 102,
      "outputs": [
        {
          "output_type": "execute_result",
          "data": {
            "text/plain": [
              "0.1802792730866744"
            ]
          },
          "metadata": {},
          "execution_count": 102
        }
      ]
    },
    {
      "cell_type": "markdown",
      "source": [
        "# **Regresión Lineal 3**"
      ],
      "metadata": {
        "id": "ec041Fx_Q7nc"
      }
    },
    {
      "cell_type": "code",
      "source": [
        "#Se grafican mapas de dispersión de las variables 3 variables\n",
        "from turtle import color\n",
        "\n",
        "sns.scatterplot(x='172_supplier_frequency',y='275_platform_days_receive_money',color='blue',data=data3_iqr)\n",
        "sns.scatterplot(x='104_how_many_shelves_does_the_micro_retailer_have',y='275_platform_days_receive_money',color='red',data=data3_iqr)\n",
        "sns.scatterplot(x='103_number_own_fridges',y='275_platform_days_receive_money',color='green',data=data3_iqr)"
      ],
      "metadata": {
        "colab": {
          "base_uri": "https://localhost:8080/",
          "height": 297
        },
        "id": "y-Sp6DajQ7Z-",
        "outputId": "a998dca0-c4ea-4eb4-df5d-7cedac370694"
      },
      "execution_count": 103,
      "outputs": [
        {
          "output_type": "execute_result",
          "data": {
            "text/plain": [
              "<matplotlib.axes._subplots.AxesSubplot at 0x7f4ca19b28d0>"
            ]
          },
          "metadata": {},
          "execution_count": 103
        },
        {
          "output_type": "display_data",
          "data": {
            "text/plain": [
              "<Figure size 432x288 with 1 Axes>"
            ],
            "image/png": "[encoded data removed]"
          },
          "metadata": {
            "needs_background": "light"
          }
        }
      ]
    },
    {
      "cell_type": "code",
      "source": [
        "#Declaramos las variables dependientes e independientes para la regresión lineal\n",
        "Var_Indep= data3_iqr[['172_supplier_frequency','104_how_many_shelves_does_the_micro_retailer_have','103_number_own_fridges']]\n",
        "Var_Dep = data3_iqr[\"275_platform_days_receive_money\"]"
      ],
      "metadata": {
        "id": "2HyidWeXS0zI"
      },
      "execution_count": 104,
      "outputs": []
    },
    {
      "cell_type": "code",
      "source": [
        "#Se define model como la función de regresión lineal\n",
        "from sklearn.linear_model import LinearRegression\n",
        "model3 = LinearRegression()"
      ],
      "metadata": {
        "id": "lRW5PaMTTSc9"
      },
      "execution_count": 105,
      "outputs": []
    },
    {
      "cell_type": "code",
      "source": [
        "#Verificamos la función relacionada al modelo\n",
        "type(model3)"
      ],
      "metadata": {
        "colab": {
          "base_uri": "https://localhost:8080/"
        },
        "id": "8E9xJ-h0TbPm",
        "outputId": "f05bcdc9-3fba-44de-f555-4f638500e536"
      },
      "execution_count": 106,
      "outputs": [
        {
          "output_type": "execute_result",
          "data": {
            "text/plain": [
              "sklearn.linear_model._base.LinearRegression"
            ]
          },
          "metadata": {},
          "execution_count": 106
        }
      ]
    },
    {
      "cell_type": "code",
      "source": [
        "#Ajustamos el modelo con las variables antes declaradas\n",
        "model3.fit(X=Var_Indep, y=Var_Dep)"
      ],
      "metadata": {
        "colab": {
          "base_uri": "https://localhost:8080/"
        },
        "id": "PTlG90AGTf0C",
        "outputId": "ac5147e4-e20c-4c15-db88-7d97ae5baba6"
      },
      "execution_count": 107,
      "outputs": [
        {
          "output_type": "execute_result",
          "data": {
            "text/plain": [
              "LinearRegression()"
            ]
          },
          "metadata": {},
          "execution_count": 107
        }
      ]
    },
    {
      "cell_type": "code",
      "source": [
        "#Verificamos coeficientes obtenidos para el modelo ajustado\n",
        "model3.__dict__"
      ],
      "metadata": {
        "colab": {
          "base_uri": "https://localhost:8080/"
        },
        "id": "hMStSjG9Tvxs",
        "outputId": "25fc4e3d-d345-46cd-9176-c0c5d0b235b3"
      },
      "execution_count": 108,
      "outputs": [
        {
          "output_type": "execute_result",
          "data": {
            "text/plain": [
              "{'fit_intercept': True,\n",
              " 'normalize': 'deprecated',\n",
              " 'copy_X': True,\n",
              " 'n_jobs': None,\n",
              " 'positive': False,\n",
              " 'feature_names_in_': array(['172_supplier_frequency',\n",
              "        '104_how_many_shelves_does_the_micro_retailer_have',\n",
              "        '103_number_own_fridges'], dtype=object),\n",
              " 'n_features_in_': 3,\n",
              " 'coef_': array([ 0.25884573,  0.00733905, -0.05739256]),\n",
              " '_residues': 2775.555101591838,\n",
              " 'rank_': 3,\n",
              " 'singular_': array([55.15803463, 25.58411023, 17.74877301]),\n",
              " 'intercept_': 4.378423543067695}"
            ]
          },
          "metadata": {},
          "execution_count": 108
        }
      ]
    },
    {
      "cell_type": "code",
      "source": [
        "#Evaluamos la eficiencia del modelo obtenido por medio del coeficiente R2 Determinación\n",
        "model3.score(Var_Indep,Var_Dep)"
      ],
      "metadata": {
        "colab": {
          "base_uri": "https://localhost:8080/"
        },
        "id": "h3abuVU6T1Ft",
        "outputId": "026ff891-88c1-4b62-adde-2d63f4dcf632"
      },
      "execution_count": 109,
      "outputs": [
        {
          "output_type": "execute_result",
          "data": {
            "text/plain": [
              "0.008052919769554245"
            ]
          },
          "metadata": {},
          "execution_count": 109
        }
      ]
    },
    {
      "cell_type": "code",
      "source": [
        "#Predecimos los valores de total de accidentes a partir de las variables: alcohol, speeding y no previous\n",
        "y_pred= model3.predict(X=data3_iqr[['172_supplier_frequency','104_how_many_shelves_does_the_micro_retailer_have','103_number_own_fridges']])\n",
        "y_pred"
      ],
      "metadata": {
        "colab": {
          "base_uri": "https://localhost:8080/"
        },
        "id": "UqV51od3T5jv",
        "outputId": "1c4ef495-aa11-4267-8161-fa0e2ee21609"
      },
      "execution_count": 110,
      "outputs": [
        {
          "output_type": "execute_result",
          "data": {
            "text/plain": [
              "array([4.74595445, 4.72393731, 4.72393731, 4.46509158, 4.48710873,\n",
              "       4.50912587, 4.47976968, 4.47976968, 4.94740762, 4.45173331,\n",
              "       4.40769902, 4.68122284, 4.90345404, 4.66662546, 5.37843103,\n",
              "       4.58721575, 5.46517979, 4.63726927, 4.86807863, 4.83872243,\n",
              "       4.6092329 , 4.58721575, 4.57987671, 4.5945548 , 4.60189385,\n",
              "       4.53716224, 4.84606148, 4.86073958, 4.84606148, 5.36375293,\n",
              "       4.74555864, 4.53716224, 4.53716224, 4.53716224, 4.95482738,\n",
              "       4.91813214, 4.91813214, 4.866363  , 4.88838014, 5.58722324,\n",
              "       4.36498455, 4.42237711, 5.0401756 , 5.10622703, 5.04751465,\n",
              "       5.05485369, 5.07687084, 4.623911  , 4.58721575, 4.58721575,\n",
              "       4.64592814, 4.5945548 , 4.64592814, 4.57987671, 4.63858909,\n",
              "       4.61657195, 4.58721575, 4.58721575, 4.5945548 , 4.6092329 ,\n",
              "       4.61657195, 4.59587463, 4.52982319, 4.55917938, 4.53716224,\n",
              "       4.55917938, 4.80334701, 4.89743482, 4.63125004, 4.61657195,\n",
              "       4.86073958, 4.63858909, 4.57987671, 4.57987671, 4.60189385,\n",
              "       4.82496821, 4.82056478, 4.79854764, 4.79854764, 4.84992098,\n",
              "       4.56171906, 4.5837362 , 5.18431692, 5.04751465, 5.08420989,\n",
              "       5.10490721, 4.66794529, 4.61657195, 4.60629728, 4.57987671,\n",
              "       4.54450129, 4.57987671, 4.57987671, 4.58721575, 4.5945548 ,\n",
              "       4.54704096, 4.55438001, 4.54704096, 4.61657195, 4.6092329 ,\n",
              "       4.56651843, 4.37672703, 5.13418268, 5.17821697, 5.15326421,\n",
              "       4.58380361, 4.63557275, 4.44571408, 4.54890472, 5.84313335,\n",
              "       4.54890472, 5.10622703, 5.88144439, 4.6092329 , 4.6092329 ,\n",
              "       4.98418358, 5.99021029, 5.22835121, 4.66368984, 4.64460832,\n",
              "       4.64460832, 4.64460832, 4.90345404, 4.90345404, 4.84606148,\n",
              "       4.57987671, 4.58721575, 4.65326719, 4.5945548 , 4.623911  ,\n",
              "       4.5945548 , 4.58721575, 4.60189385, 4.60189385, 4.6092329 ,\n",
              "       4.66614894, 4.64413179, 4.67348798, 4.6147756 , 4.54402476,\n",
              "       4.87370204, 4.81630948, 4.78695329, 4.83098758, 4.78695329,\n",
              "       4.78695329, 4.82364853, 4.78132987, 4.81802511, 4.91079309,\n",
              "       4.7386154 , 4.7386154 , 5.90478136, 4.64460832, 4.49444777,\n",
              "       4.53114301, 4.81200589, 4.73127636, 4.66614894, 4.70323999,\n",
              "       4.45173331, 4.73993523, 4.42971616, 4.45907236, 4.85340053,\n",
              "       4.88275672, 4.7679716 , 4.74595445, 4.63726927, 4.71065975,\n",
              "       4.65194737, 4.66662546, 4.69598166, 4.66368984, 4.65194737,\n",
              "       4.66368984, 4.5945548 , 4.5945548 , 4.66794529, 4.63858909,\n",
              "       4.61657195, 4.83098758, 4.80897043, 4.86073958, 4.79429234,\n",
              "       4.5945548 , 5.37843103, 4.6092329 , 5.32103847, 4.73689977,\n",
              "       5.34305561, 4.7559813 , 4.76625597, 4.77359501, 4.77359501,\n",
              "       4.75157787, 4.55917938, 4.55184034, 4.56651843, 4.53716224,\n",
              "       4.55184034, 4.53716224, 4.55917938, 4.54450129, 4.54450129,\n",
              "       4.63726927, 4.64460832, 4.68684626, 4.47243063, 4.46509158,\n",
              "       4.67216816, 4.7679716 , 4.46509158, 4.69858874, 4.74555864,\n",
              "       4.50178682, 4.78695329, 4.79429234, 4.85340053, 4.53716224,\n",
              "       4.55917938, 4.53716224, 4.54450129, 4.81802511, 4.81802511,\n",
              "       4.84004226, 4.79600797, 4.78866892, 4.55184034, 4.54450129,\n",
              "       4.54450129, 4.78866892, 4.80334701, 4.55184034, 4.68130356,\n",
              "       4.65194737, 4.71065975, 4.52248414, 4.55738304, 4.84004226,\n",
              "       4.78866892, 4.81802511, 4.52248414, 4.54450129, 4.95606649,\n",
              "       4.91937125, 4.43837503, 5.4517408 , 5.40036746, 5.39302841,\n",
              "       4.60915218, 4.60915218, 4.67520362, 4.63116933, 4.60915218,\n",
              "       4.60915218, 4.60915218, 4.63116933, 4.69722076, 4.63116933,\n",
              "       4.83872243, 4.90477387, 4.83872243, 4.83872243, 4.86073958,\n",
              "       4.89743482, 4.89009577, 4.86807863, 4.86073958, 4.86514301,\n",
              "       4.88838014, 4.67396451, 4.49151215, 4.53848206, 4.48710873,\n",
              "       4.52380397, 4.48710873, 4.90345404, 4.90345404, 4.896115  ,\n",
              "       4.91813214, 4.91079309, 4.77319907, 4.77319907, 4.75411754,\n",
              "       4.75411754, 5.36761243, 4.76145659, 4.89571919, 4.84434585,\n",
              "       4.8516849 , 4.8516849 , 4.84434585, 4.8516849 , 4.88838014,\n",
              "       4.89571919, 4.84434585, 4.866363  , 4.88104109, 4.87370204,\n",
              "       4.866363  , 4.87076642, 4.90305824, 4.87076642, 4.866363  ,\n",
              "       4.87076642, 4.78132987, 4.80775044, 4.82536416, 4.86939845,\n",
              "       4.78866892, 4.84004226, 4.54450129, 4.81068606, 4.58721575,\n",
              "       4.57987671, 4.85340053, 4.57987671, 4.78695329, 4.58721575,\n",
              "       4.58721575, 4.52982319, 5.0401756 , 5.05485369, 5.07687084,\n",
              "       5.60924039, 5.59456229, 5.5652061 , 5.5652061 , 5.5652061 ])"
            ]
          },
          "metadata": {},
          "execution_count": 110
        }
      ]
    },
    {
      "cell_type": "code",
      "source": [
        "#Insertamos la columna de predicciones en el Dataframe\n",
        "data3_iqr.insert(2, 'Predicciones3',y_pred)\n",
        "data3_iqr"
      ],
      "metadata": {
        "colab": {
          "base_uri": "https://localhost:8080/",
          "height": 488
        },
        "id": "XeZsXJ9KUM8F",
        "outputId": "a3ab2986-a24c-4708-e2b6-4ef310b704fd"
      },
      "execution_count": 76,
      "outputs": [
        {
          "output_type": "execute_result",
          "data": {
            "text/plain": [
              "     Predicciones  Predicciones2  Predicciones3  \\\n",
              "0        1.318777       6.525981       4.745954   \n",
              "1        1.318777       6.525981       4.723937   \n",
              "2        1.318777       6.525981       4.723937   \n",
              "3        1.040852       5.600764       4.465092   \n",
              "4        1.040852       5.600764       4.487109   \n",
              "..            ...            ...            ...   \n",
              "325      1.137715       6.003581       5.609240   \n",
              "326      1.137715       6.003581       5.594562   \n",
              "327      1.137715       6.003581       5.565206   \n",
              "328      1.137715       6.003581       5.565206   \n",
              "329      1.137715       6.003581       5.565206   \n",
              "\n",
              "     97_number_of_customers_in_store  268_number_fridges  \\\n",
              "0                                1.0                 3.0   \n",
              "1                                2.0                 0.0   \n",
              "2                                2.0                 0.0   \n",
              "3                                1.0                 0.0   \n",
              "4                                3.0                 2.0   \n",
              "..                               ...                 ...   \n",
              "325                              0.0                 1.0   \n",
              "326                              1.0                 0.0   \n",
              "327                              3.0                 1.0   \n",
              "328                              0.0                 1.0   \n",
              "329                              1.0                 3.0   \n",
              "\n",
              "     104_how_many_shelves_does_the_micro_retailer_have  \\\n",
              "0                                                  3.0   \n",
              "1                                                  0.0   \n",
              "2                                                  0.0   \n",
              "3                                                  0.0   \n",
              "4                                                  3.0   \n",
              "..                                                 ...   \n",
              "325                                                7.0   \n",
              "326                                                5.0   \n",
              "327                                                1.0   \n",
              "328                                                1.0   \n",
              "329                                                1.0   \n",
              "\n",
              "     2_current_permanent_employees  4_number_permanent_employees_last_year  \\\n",
              "0                              2.0                                     1.4   \n",
              "1                              2.0                                     1.4   \n",
              "2                              2.0                                     1.4   \n",
              "3                              0.0                                     0.0   \n",
              "4                              0.0                                     0.0   \n",
              "..                             ...                                     ...   \n",
              "325                            1.3                                     2.0   \n",
              "326                            1.3                                     2.0   \n",
              "327                            1.3                                     2.0   \n",
              "328                            1.3                                     2.0   \n",
              "329                            1.3                                     2.0   \n",
              "\n",
              "     103_number_own_fridges  145_number_direct_competitors  ...  \\\n",
              "0                       3.0                            5.0  ...   \n",
              "1                       3.0                            5.0  ...   \n",
              "2                       3.0                            5.0  ...   \n",
              "3                       3.0                            3.1  ...   \n",
              "4                       3.0                            3.1  ...   \n",
              "..                      ...                            ...  ...   \n",
              "325                     2.0                            5.0  ...   \n",
              "326                     2.0                            5.0  ...   \n",
              "327                     2.0                            5.0  ...   \n",
              "328                     2.0                            5.0  ...   \n",
              "329                     2.0                            5.0  ...   \n",
              "\n",
              "     275_platform_days_receive_money  276_expected_days_informal_credit  \\\n",
              "0                                0.0                                1.0   \n",
              "1                                0.0                                1.0   \n",
              "2                                0.0                                1.0   \n",
              "3                                0.0                                1.0   \n",
              "4                                0.0                                1.0   \n",
              "..                               ...                                ...   \n",
              "325                              7.0                                2.0   \n",
              "326                              7.0                                2.0   \n",
              "327                              7.0                                2.0   \n",
              "328                              7.0                                2.0   \n",
              "329                              7.0                                2.0   \n",
              "\n",
              "     36_credit_default_rate  315_frequency_topups  \\\n",
              "0                       1.0                   3.5   \n",
              "1                       1.0                   3.5   \n",
              "2                       1.0                   3.5   \n",
              "3                       1.0                   3.5   \n",
              "4                       1.0                   3.5   \n",
              "..                      ...                   ...   \n",
              "325                     0.0                   1.0   \n",
              "326                     0.0                   1.0   \n",
              "327                     0.0                   1.0   \n",
              "328                     0.0                   1.0   \n",
              "329                     0.0                   1.0   \n",
              "\n",
              "     316_frequency_utility_bills  317_home_deliveries  \\\n",
              "0                            2.0                  4.0   \n",
              "1                            2.0                  4.0   \n",
              "2                            2.0                  4.0   \n",
              "3                            2.0                  4.0   \n",
              "4                            2.0                  4.0   \n",
              "..                           ...                  ...   \n",
              "325                          1.5                  8.0   \n",
              "326                          1.5                  8.0   \n",
              "327                          1.5                  8.0   \n",
              "328                          1.5                  8.0   \n",
              "329                          1.5                  8.0   \n",
              "\n",
              "     62_frequency_only_services  78_number_home_deliveries_week  \\\n",
              "0                          10.0                             3.0   \n",
              "1                          10.0                             3.0   \n",
              "2                          10.0                             3.0   \n",
              "3                          10.0                             3.0   \n",
              "4                          10.0                             3.0   \n",
              "..                          ...                             ...   \n",
              "325                         1.0                             1.0   \n",
              "326                         1.0                             1.0   \n",
              "327                         1.0                             1.0   \n",
              "328                         1.0                             1.0   \n",
              "329                         1.0                             1.0   \n",
              "\n",
              "     172_supplier_frequency  163_number_high_perishable_products  \n",
              "0                       2.0                                 10.0  \n",
              "1                       2.0                                 10.0  \n",
              "2                       2.0                                 10.0  \n",
              "3                       1.0                                  0.0  \n",
              "4                       1.0                                  0.0  \n",
              "..                      ...                                  ...  \n",
              "325                     5.0                                  0.0  \n",
              "326                     5.0                                  0.0  \n",
              "327                     5.0                                  0.0  \n",
              "328                     5.0                                  0.0  \n",
              "329                     5.0                                  0.0  \n",
              "\n",
              "[330 rows x 22 columns]"
            ],
            "text/html": [
              "\n",
              "  <div id=\"df-cbc2164a-1914-49a4-ae2a-e69f8cc5c2f4\">\n",
              "    <div class=\"colab-df-container\">\n",
              "      <div>\n",
              "<style scoped>\n",
              "    .dataframe tbody tr th:only-of-type {\n",
              "        vertical-align: middle;\n",
              "    }\n",
              "\n",
              "    .dataframe tbody tr th {\n",
              "        vertical-align: top;\n",
              "    }\n",
              "\n",
              "    .dataframe thead th {\n",
              "        text-align: right;\n",
              "    }\n",
              "</style>\n",
              "<table border=\"1\" class=\"dataframe\">\n",
              "  <thead>\n",
              "    <tr style=\"text-align: right;\">\n",
              "      <th></th>\n",
              "      <th>Predicciones</th>\n",
              "      <th>Predicciones2</th>\n",
              "      <th>Predicciones3</th>\n",
              "      <th>97_number_of_customers_in_store</th>\n",
              "      <th>268_number_fridges</th>\n",
              "      <th>104_how_many_shelves_does_the_micro_retailer_have</th>\n",
              "      <th>2_current_permanent_employees</th>\n",
              "      <th>4_number_permanent_employees_last_year</th>\n",
              "      <th>103_number_own_fridges</th>\n",
              "      <th>145_number_direct_competitors</th>\n",
              "      <th>...</th>\n",
              "      <th>275_platform_days_receive_money</th>\n",
              "      <th>276_expected_days_informal_credit</th>\n",
              "      <th>36_credit_default_rate</th>\n",
              "      <th>315_frequency_topups</th>\n",
              "      <th>316_frequency_utility_bills</th>\n",
              "      <th>317_home_deliveries</th>\n",
              "      <th>62_frequency_only_services</th>\n",
              "      <th>78_number_home_deliveries_week</th>\n",
              "      <th>172_supplier_frequency</th>\n",
              "      <th>163_number_high_perishable_products</th>\n",
              "    </tr>\n",
              "  </thead>\n",
              "  <tbody>\n",
              "    <tr>\n",
              "      <th>0</th>\n",
              "      <td>1.318777</td>\n",
              "      <td>6.525981</td>\n",
              "      <td>4.745954</td>\n",
              "      <td>1.0</td>\n",
              "      <td>3.0</td>\n",
              "      <td>3.0</td>\n",
              "      <td>2.0</td>\n",
              "      <td>1.4</td>\n",
              "      <td>3.0</td>\n",
              "      <td>5.0</td>\n",
              "      <td>...</td>\n",
              "      <td>0.0</td>\n",
              "      <td>1.0</td>\n",
              "      <td>1.0</td>\n",
              "      <td>3.5</td>\n",
              "      <td>2.0</td>\n",
              "      <td>4.0</td>\n",
              "      <td>10.0</td>\n",
              "      <td>3.0</td>\n",
              "      <td>2.0</td>\n",
              "      <td>10.0</td>\n",
              "    </tr>\n",
              "    <tr>\n",
              "      <th>1</th>\n",
              "      <td>1.318777</td>\n",
              "      <td>6.525981</td>\n",
              "      <td>4.723937</td>\n",
              "      <td>2.0</td>\n",
              "      <td>0.0</td>\n",
              "      <td>0.0</td>\n",
              "      <td>2.0</td>\n",
              "      <td>1.4</td>\n",
              "      <td>3.0</td>\n",
              "      <td>5.0</td>\n",
              "      <td>...</td>\n",
              "      <td>0.0</td>\n",
              "      <td>1.0</td>\n",
              "      <td>1.0</td>\n",
              "      <td>3.5</td>\n",
              "      <td>2.0</td>\n",
              "      <td>4.0</td>\n",
              "      <td>10.0</td>\n",
              "      <td>3.0</td>\n",
              "      <td>2.0</td>\n",
              "      <td>10.0</td>\n",
              "    </tr>\n",
              "    <tr>\n",
              "      <th>2</th>\n",
              "      <td>1.318777</td>\n",
              "      <td>6.525981</td>\n",
              "      <td>4.723937</td>\n",
              "      <td>2.0</td>\n",
              "      <td>0.0</td>\n",
              "      <td>0.0</td>\n",
              "      <td>2.0</td>\n",
              "      <td>1.4</td>\n",
              "      <td>3.0</td>\n",
              "      <td>5.0</td>\n",
              "      <td>...</td>\n",
              "      <td>0.0</td>\n",
              "      <td>1.0</td>\n",
              "      <td>1.0</td>\n",
              "      <td>3.5</td>\n",
              "      <td>2.0</td>\n",
              "      <td>4.0</td>\n",
              "      <td>10.0</td>\n",
              "      <td>3.0</td>\n",
              "      <td>2.0</td>\n",
              "      <td>10.0</td>\n",
              "    </tr>\n",
              "    <tr>\n",
              "      <th>3</th>\n",
              "      <td>1.040852</td>\n",
              "      <td>5.600764</td>\n",
              "      <td>4.465092</td>\n",
              "      <td>1.0</td>\n",
              "      <td>0.0</td>\n",
              "      <td>0.0</td>\n",
              "      <td>0.0</td>\n",
              "      <td>0.0</td>\n",
              "      <td>3.0</td>\n",
              "      <td>3.1</td>\n",
              "      <td>...</td>\n",
              "      <td>0.0</td>\n",
              "      <td>1.0</td>\n",
              "      <td>1.0</td>\n",
              "      <td>3.5</td>\n",
              "      <td>2.0</td>\n",
              "      <td>4.0</td>\n",
              "      <td>10.0</td>\n",
              "      <td>3.0</td>\n",
              "      <td>1.0</td>\n",
              "      <td>0.0</td>\n",
              "    </tr>\n",
              "    <tr>\n",
              "      <th>4</th>\n",
              "      <td>1.040852</td>\n",
              "      <td>5.600764</td>\n",
              "      <td>4.487109</td>\n",
              "      <td>3.0</td>\n",
              "      <td>2.0</td>\n",
              "      <td>3.0</td>\n",
              "      <td>0.0</td>\n",
              "      <td>0.0</td>\n",
              "      <td>3.0</td>\n",
              "      <td>3.1</td>\n",
              "      <td>...</td>\n",
              "      <td>0.0</td>\n",
              "      <td>1.0</td>\n",
              "      <td>1.0</td>\n",
              "      <td>3.5</td>\n",
              "      <td>2.0</td>\n",
              "      <td>4.0</td>\n",
              "      <td>10.0</td>\n",
              "      <td>3.0</td>\n",
              "      <td>1.0</td>\n",
              "      <td>0.0</td>\n",
              "    </tr>\n",
              "    <tr>\n",
              "      <th>...</th>\n",
              "      <td>...</td>\n",
              "      <td>...</td>\n",
              "      <td>...</td>\n",
              "      <td>...</td>\n",
              "      <td>...</td>\n",
              "      <td>...</td>\n",
              "      <td>...</td>\n",
              "      <td>...</td>\n",
              "      <td>...</td>\n",
              "      <td>...</td>\n",
              "      <td>...</td>\n",
              "      <td>...</td>\n",
              "      <td>...</td>\n",
              "      <td>...</td>\n",
              "      <td>...</td>\n",
              "      <td>...</td>\n",
              "      <td>...</td>\n",
              "      <td>...</td>\n",
              "      <td>...</td>\n",
              "      <td>...</td>\n",
              "      <td>...</td>\n",
              "    </tr>\n",
              "    <tr>\n",
              "      <th>325</th>\n",
              "      <td>1.137715</td>\n",
              "      <td>6.003581</td>\n",
              "      <td>5.609240</td>\n",
              "      <td>0.0</td>\n",
              "      <td>1.0</td>\n",
              "      <td>7.0</td>\n",
              "      <td>1.3</td>\n",
              "      <td>2.0</td>\n",
              "      <td>2.0</td>\n",
              "      <td>5.0</td>\n",
              "      <td>...</td>\n",
              "      <td>7.0</td>\n",
              "      <td>2.0</td>\n",
              "      <td>0.0</td>\n",
              "      <td>1.0</td>\n",
              "      <td>1.5</td>\n",
              "      <td>8.0</td>\n",
              "      <td>1.0</td>\n",
              "      <td>1.0</td>\n",
              "      <td>5.0</td>\n",
              "      <td>0.0</td>\n",
              "    </tr>\n",
              "    <tr>\n",
              "      <th>326</th>\n",
              "      <td>1.137715</td>\n",
              "      <td>6.003581</td>\n",
              "      <td>5.594562</td>\n",
              "      <td>1.0</td>\n",
              "      <td>0.0</td>\n",
              "      <td>5.0</td>\n",
              "      <td>1.3</td>\n",
              "      <td>2.0</td>\n",
              "      <td>2.0</td>\n",
              "      <td>5.0</td>\n",
              "      <td>...</td>\n",
              "      <td>7.0</td>\n",
              "      <td>2.0</td>\n",
              "      <td>0.0</td>\n",
              "      <td>1.0</td>\n",
              "      <td>1.5</td>\n",
              "      <td>8.0</td>\n",
              "      <td>1.0</td>\n",
              "      <td>1.0</td>\n",
              "      <td>5.0</td>\n",
              "      <td>0.0</td>\n",
              "    </tr>\n",
              "    <tr>\n",
              "      <th>327</th>\n",
              "      <td>1.137715</td>\n",
              "      <td>6.003581</td>\n",
              "      <td>5.565206</td>\n",
              "      <td>3.0</td>\n",
              "      <td>1.0</td>\n",
              "      <td>1.0</td>\n",
              "      <td>1.3</td>\n",
              "      <td>2.0</td>\n",
              "      <td>2.0</td>\n",
              "      <td>5.0</td>\n",
              "      <td>...</td>\n",
              "      <td>7.0</td>\n",
              "      <td>2.0</td>\n",
              "      <td>0.0</td>\n",
              "      <td>1.0</td>\n",
              "      <td>1.5</td>\n",
              "      <td>8.0</td>\n",
              "      <td>1.0</td>\n",
              "      <td>1.0</td>\n",
              "      <td>5.0</td>\n",
              "      <td>0.0</td>\n",
              "    </tr>\n",
              "    <tr>\n",
              "      <th>328</th>\n",
              "      <td>1.137715</td>\n",
              "      <td>6.003581</td>\n",
              "      <td>5.565206</td>\n",
              "      <td>0.0</td>\n",
              "      <td>1.0</td>\n",
              "      <td>1.0</td>\n",
              "      <td>1.3</td>\n",
              "      <td>2.0</td>\n",
              "      <td>2.0</td>\n",
              "      <td>5.0</td>\n",
              "      <td>...</td>\n",
              "      <td>7.0</td>\n",
              "      <td>2.0</td>\n",
              "      <td>0.0</td>\n",
              "      <td>1.0</td>\n",
              "      <td>1.5</td>\n",
              "      <td>8.0</td>\n",
              "      <td>1.0</td>\n",
              "      <td>1.0</td>\n",
              "      <td>5.0</td>\n",
              "      <td>0.0</td>\n",
              "    </tr>\n",
              "    <tr>\n",
              "      <th>329</th>\n",
              "      <td>1.137715</td>\n",
              "      <td>6.003581</td>\n",
              "      <td>5.565206</td>\n",
              "      <td>1.0</td>\n",
              "      <td>3.0</td>\n",
              "      <td>1.0</td>\n",
              "      <td>1.3</td>\n",
              "      <td>2.0</td>\n",
              "      <td>2.0</td>\n",
              "      <td>5.0</td>\n",
              "      <td>...</td>\n",
              "      <td>7.0</td>\n",
              "      <td>2.0</td>\n",
              "      <td>0.0</td>\n",
              "      <td>1.0</td>\n",
              "      <td>1.5</td>\n",
              "      <td>8.0</td>\n",
              "      <td>1.0</td>\n",
              "      <td>1.0</td>\n",
              "      <td>5.0</td>\n",
              "      <td>0.0</td>\n",
              "    </tr>\n",
              "  </tbody>\n",
              "</table>\n",
              "<p>330 rows × 22 columns</p>\n",
              "</div>\n",
              "      <button class=\"colab-df-convert\" onclick=\"convertToInteractive('df-cbc2164a-1914-49a4-ae2a-e69f8cc5c2f4')\"\n",
              "              title=\"Convert this dataframe to an interactive table.\"\n",
              "              style=\"display:none;\">\n",
              "        \n",
              "  <svg xmlns=\"http://www.w3.org/2000/svg\" height=\"24px\"viewBox=\"0 0 24 24\"\n",
              "       width=\"24px\">\n",
              "    <path d=\"M0 0h24v24H0V0z\" fill=\"none\"/>\n",
              "    <path d=\"M18.56 5.44l.94 2.06.94-2.06 2.06-.94-2.06-.94-.94-2.06-.94 2.06-2.06.94zm-11 1L8.5 8.5l.94-2.06 2.06-.94-2.06-.94L8.5 2.5l-.94 2.06-2.06.94zm10 10l.94 2.06.94-2.06 2.06-.94-2.06-.94-.94-2.06-.94 2.06-2.06.94z\"/><path d=\"M17.41 7.96l-1.37-1.37c-.4-.4-.92-.59-1.43-.59-.52 0-1.04.2-1.43.59L10.3 9.45l-7.72 7.72c-.78.78-.78 2.05 0 2.83L4 21.41c.39.39.9.59 1.41.59.51 0 1.02-.2 1.41-.59l7.78-7.78 2.81-2.81c.8-.78.8-2.07 0-2.86zM5.41 20L4 18.59l7.72-7.72 1.47 1.35L5.41 20z\"/>\n",
              "  </svg>\n",
              "      </button>\n",
              "      \n",
              "  <style>\n",
              "    .colab-df-container {\n",
              "      display:flex;\n",
              "      flex-wrap:wrap;\n",
              "      gap: 12px;\n",
              "    }\n",
              "\n",
              "    .colab-df-convert {\n",
              "      background-color: #E8F0FE;\n",
              "      border: none;\n",
              "      border-radius: 50%;\n",
              "      cursor: pointer;\n",
              "      display: none;\n",
              "      fill: #1967D2;\n",
              "      height: 32px;\n",
              "      padding: 0 0 0 0;\n",
              "      width: 32px;\n",
              "    }\n",
              "\n",
              "    .colab-df-convert:hover {\n",
              "      background-color: #E2EBFA;\n",
              "      box-shadow: 0px 1px 2px rgba(60, 64, 67, 0.3), 0px 1px 3px 1px rgba(60, 64, 67, 0.15);\n",
              "      fill: #174EA6;\n",
              "    }\n",
              "\n",
              "    [theme=dark] .colab-df-convert {\n",
              "      background-color: #3B4455;\n",
              "      fill: #D2E3FC;\n",
              "    }\n",
              "\n",
              "    [theme=dark] .colab-df-convert:hover {\n",
              "      background-color: #434B5C;\n",
              "      box-shadow: 0px 1px 3px 1px rgba(0, 0, 0, 0.15);\n",
              "      filter: drop-shadow(0px 1px 2px rgba(0, 0, 0, 0.3));\n",
              "      fill: #FFFFFF;\n",
              "    }\n",
              "  </style>\n",
              "\n",
              "      <script>\n",
              "        const buttonEl =\n",
              "          document.querySelector('#df-cbc2164a-1914-49a4-ae2a-e69f8cc5c2f4 button.colab-df-convert');\n",
              "        buttonEl.style.display =\n",
              "          google.colab.kernel.accessAllowed ? 'block' : 'none';\n",
              "\n",
              "        async function convertToInteractive(key) {\n",
              "          const element = document.querySelector('#df-cbc2164a-1914-49a4-ae2a-e69f8cc5c2f4');\n",
              "          const dataTable =\n",
              "            await google.colab.kernel.invokeFunction('convertToInteractive',\n",
              "                                                     [key], {});\n",
              "          if (!dataTable) return;\n",
              "\n",
              "          const docLinkHtml = 'Like what you see? Visit the ' +\n",
              "            '<a target=\"_blank\" href=https://colab.research.google.com/notebooks/data_table.ipynb>data table notebook</a>'\n",
              "            + ' to learn more about interactive tables.';\n",
              "          element.innerHTML = '';\n",
              "          dataTable['output_type'] = 'display_data';\n",
              "          await google.colab.output.renderOutput(dataTable, element);\n",
              "          const docLink = document.createElement('div');\n",
              "          docLink.innerHTML = docLinkHtml;\n",
              "          element.appendChild(docLink);\n",
              "        }\n",
              "      </script>\n",
              "    </div>\n",
              "  </div>\n",
              "  "
            ]
          },
          "metadata": {},
          "execution_count": 76
        }
      ]
    },
    {
      "cell_type": "code",
      "source": [
        "#Visualizamos la gráfica comparativa entre el total real y el total predicho\n",
        "\n",
        "sns.scatterplot(x='172_supplier_frequency',y='275_platform_days_receive_money',color='blue',data=data3_iqr)\n",
        "sns.scatterplot(x='172_supplier_frequency',y='Predicciones3',color='red',data=data3_iqr)"
      ],
      "metadata": {
        "colab": {
          "base_uri": "https://localhost:8080/",
          "height": 297
        },
        "id": "bZyl8Ih8US_Y",
        "outputId": "a4a082bd-102c-44aa-bd29-a23a5b5f0ab6"
      },
      "execution_count": 111,
      "outputs": [
        {
          "output_type": "execute_result",
          "data": {
            "text/plain": [
              "<matplotlib.axes._subplots.AxesSubplot at 0x7f4ca19ca090>"
            ]
          },
          "metadata": {},
          "execution_count": 111
        },
        {
          "output_type": "display_data",
          "data": {
            "text/plain": [
              "<Figure size 432x288 with 1 Axes>"
            ],
            "image/png": "[encoded data removed]"
          },
          "metadata": {
            "needs_background": "light"
          }
        }
      ]
    },
    {
      "cell_type": "code",
      "source": [
        "#Corroboramos cual es el coeficiente de Determinación de nuestro modelo\n",
        "coef_Deter=model3.score(X=Var_Indep, y=Var_Dep)\n",
        "coef_Deter"
      ],
      "metadata": {
        "colab": {
          "base_uri": "https://localhost:8080/"
        },
        "id": "k6BJkt2fUw6_",
        "outputId": "3fa63fa3-1fd1-4e7f-dc9c-eeea8cabefee"
      },
      "execution_count": 112,
      "outputs": [
        {
          "output_type": "execute_result",
          "data": {
            "text/plain": [
              "0.008052919769554245"
            ]
          },
          "metadata": {},
          "execution_count": 112
        }
      ]
    },
    {
      "cell_type": "code",
      "source": [
        "#Corroboramos cual es el coeficiente de Correlación de nuestro modelo\n",
        "coef_Correl=np.sqrt(coef_Deter)\n",
        "coef_Correl"
      ],
      "metadata": {
        "colab": {
          "base_uri": "https://localhost:8080/"
        },
        "id": "GeNKleafU0wq",
        "outputId": "b385f58e-d65c-4972-be74-c63d8068d219"
      },
      "execution_count": 113,
      "outputs": [
        {
          "output_type": "execute_result",
          "data": {
            "text/plain": [
              "0.08973806198907042"
            ]
          },
          "metadata": {},
          "execution_count": 113
        }
      ]
    },
    {
      "cell_type": "markdown",
      "source": [
        "# **Regresión Logística 1**"
      ],
      "metadata": {
        "id": "FGmi0fxMi7nr"
      }
    },
    {
      "cell_type": "code",
      "source": [
        "#Verificamos información del DataFrame\n",
        "Microretailer.info()"
      ],
      "metadata": {
        "colab": {
          "base_uri": "https://localhost:8080/"
        },
        "id": "rDa0jVOsi7IZ",
        "outputId": "a38ab571-285e-4256-b4d9-05da4edd9ed2"
      },
      "execution_count": 41,
      "outputs": [
        {
          "output_type": "stream",
          "name": "stdout",
          "text": [
            "<class 'pandas.core.frame.DataFrame'>\n",
            "RangeIndex: 330 entries, 0 to 329\n",
            "Columns: 106 entries, _record_id to 235_email\n",
            "dtypes: float64(20), int64(2), object(84)\n",
            "memory usage: 273.4+ KB\n"
          ]
        }
      ]
    },
    {
      "cell_type": "code",
      "source": [
        "#Declaramos las variables dependientes e independientes para la regresión logística\n",
        "Var_Indep = Microretailer[['145_number_direct_competitors','97_number_of_customers_in_store','268_number_fridges']]\n",
        "Var_Dep = Microretailer['310_burnout']"
      ],
      "metadata": {
        "id": "Ae-ulQgqjBA_"
      },
      "execution_count": 42,
      "outputs": []
    },
    {
      "cell_type": "code",
      "source": [
        "#Redefinimos las variables\n",
        "X = Var_Indep\n",
        "y = Var_Dep"
      ],
      "metadata": {
        "id": "jR3qjSFvjDZB"
      },
      "execution_count": 43,
      "outputs": []
    },
    {
      "cell_type": "code",
      "source": [
        "#Dividimos el conjunto de datos en la parte de entrenamiento y prueba\n",
        "X_train, X_test, y_train, y_test = train_test_split(X, y, test_size=0.20, random_state=None)"
      ],
      "metadata": {
        "id": "1OoW5q5hjFRx"
      },
      "execution_count": 44,
      "outputs": []
    },
    {
      "cell_type": "code",
      "source": [
        "#Se escalan todos los datos\n",
        "escalar = StandardScaler()"
      ],
      "metadata": {
        "id": "ZkebC7DLjHWa"
      },
      "execution_count": 45,
      "outputs": []
    },
    {
      "cell_type": "code",
      "source": [
        "#Para realizar el escalamiento de las variables 'x' tanto de entrenamiento como de prueba, utilizamos\n",
        "X_train = escalar.fit_transform(X_train)\n",
        "X_test = escalar.transform(X_test)"
      ],
      "metadata": {
        "id": "1_OxqJRGjJF5"
      },
      "execution_count": 46,
      "outputs": []
    },
    {
      "cell_type": "code",
      "source": [
        "#Definimos al algoritmo a utilizar\n",
        "from sklearn.linear_model import LogisticRegression\n",
        "algoritmo = LogisticRegression()"
      ],
      "metadata": {
        "id": "LRAsnIX1jLIW"
      },
      "execution_count": 47,
      "outputs": []
    },
    {
      "cell_type": "code",
      "source": [
        "#Entrenamos el modelo\n",
        "algoritmo.fit(X_train, y_train)"
      ],
      "metadata": {
        "colab": {
          "base_uri": "https://localhost:8080/"
        },
        "id": "ga6ClsrujNKL",
        "outputId": "1a50d1b1-1299-4540-bb8d-cfb616648b42"
      },
      "execution_count": 48,
      "outputs": [
        {
          "output_type": "execute_result",
          "data": {
            "text/plain": [
              "LogisticRegression()"
            ]
          },
          "metadata": {},
          "execution_count": 48
        }
      ]
    },
    {
      "cell_type": "code",
      "source": [
        "#Realizamos una predicción\n",
        "y_pred = algoritmo.predict(X_test)\n",
        "y_pred"
      ],
      "metadata": {
        "colab": {
          "base_uri": "https://localhost:8080/"
        },
        "id": "ORjhZa9VjQBE",
        "outputId": "1b89749b-e72f-4c0c-8398-c8c6272bb13f"
      },
      "execution_count": 49,
      "outputs": [
        {
          "output_type": "execute_result",
          "data": {
            "text/plain": [
              "array(['no', 'yes', 'no', 'yes', 'yes', 'no', 'no', 'no', 'no', 'no',\n",
              "       'no', 'no', 'no', 'no', 'no', 'no', 'no', 'no', 'no', 'no', 'no',\n",
              "       'no', 'no', 'no', 'no', 'no', 'no', 'yes', 'no', 'no', 'no', 'no',\n",
              "       'no', 'no', 'no', 'no', 'no', 'no', 'no', 'yes', 'no', 'no', 'yes',\n",
              "       'no', 'no', 'no', 'no', 'no', 'no', 'no', 'no', 'no', 'no', 'no',\n",
              "       'no', 'no', 'no', 'no', 'no', 'yes', 'no', 'no', 'yes', 'no', 'no',\n",
              "       'no'], dtype=object)"
            ]
          },
          "metadata": {},
          "execution_count": 49
        }
      ]
    },
    {
      "cell_type": "code",
      "source": [
        "#Verifico la matriz de Confusión\n",
        "from sklearn.metrics import confusion_matrix\n",
        "Matriz = confusion_matrix(y_test, y_pred)\n",
        "print('Matriz de Confusión')\n",
        "print(Matriz)"
      ],
      "metadata": {
        "colab": {
          "base_uri": "https://localhost:8080/"
        },
        "id": "7L_wpt5ejQs_",
        "outputId": "297f04f6-71ec-4669-f8d7-4b2094d98059"
      },
      "execution_count": 50,
      "outputs": [
        {
          "output_type": "stream",
          "name": "stdout",
          "text": [
            "Matriz de Confusión\n",
            "[[38  5]\n",
            " [20  3]]\n"
          ]
        }
      ]
    },
    {
      "cell_type": "code",
      "source": [
        "#Cálculo la precisión del modelo\n",
        "from sklearn.metrics import precision_score\n",
        "\n",
        "precision = precision_score(y_test, y_pred, average='binary', pos_label='yes')\n",
        "print('Precisión del modelo')\n",
        "print(precision)"
      ],
      "metadata": {
        "colab": {
          "base_uri": "https://localhost:8080/"
        },
        "id": "1SDSxHpBjSvM",
        "outputId": "9597a539-4fdc-4c10-8457-65b9bbf7c6ed"
      },
      "execution_count": 51,
      "outputs": [
        {
          "output_type": "stream",
          "name": "stdout",
          "text": [
            "Precisión del modelo\n",
            "0.375\n"
          ]
        }
      ]
    },
    {
      "cell_type": "code",
      "source": [
        "#Calculo la exactitud del modelo\n",
        "from sklearn.metrics import accuracy_score\n",
        "\n",
        "exactitud = accuracy_score(y_test, y_pred)\n",
        "print('Exactitud del modelo')\n",
        "print(exactitud)"
      ],
      "metadata": {
        "colab": {
          "base_uri": "https://localhost:8080/"
        },
        "id": "9IrZCwAZjWaT",
        "outputId": "f247adf7-a8a0-40d9-e45d-c3f29381b1a3"
      },
      "execution_count": 52,
      "outputs": [
        {
          "output_type": "stream",
          "name": "stdout",
          "text": [
            "Exactitud del modelo\n",
            "0.6212121212121212\n"
          ]
        }
      ]
    },
    {
      "cell_type": "code",
      "source": [
        "#Calculo de la sensibilidad del modelo\n",
        "from sklearn.metrics import recall_score\n",
        "\n",
        "sensibilidad = recall_score(y_test, y_pred, average = 'binary', pos_label= 'yes')\n",
        "print('Sensibilidad del modelo')\n",
        "print(sensibilidad)"
      ],
      "metadata": {
        "colab": {
          "base_uri": "https://localhost:8080/"
        },
        "id": "ErdAmvw6jYmi",
        "outputId": "44616733-75f0-414b-e597-96a5f741f21c"
      },
      "execution_count": 53,
      "outputs": [
        {
          "output_type": "stream",
          "name": "stdout",
          "text": [
            "Sensibilidad del modelo\n",
            "0.13043478260869565\n"
          ]
        }
      ]
    },
    {
      "cell_type": "markdown",
      "source": [
        "# **Regresión Logística 2**"
      ],
      "metadata": {
        "id": "uzSEBA1JVyp5"
      }
    },
    {
      "cell_type": "code",
      "source": [
        "#Declaramos las variables dependientes e independientes para la regresión logística\n",
        "Var_Indep = Microretailer[['272_card_days_receive_money','145_number_direct_competitors','4_number_permanent_employees_last_year']]\n",
        "Var_Dep = Microretailer['310_burnout']"
      ],
      "metadata": {
        "id": "VpN9kNzRVyIY"
      },
      "execution_count": 114,
      "outputs": []
    },
    {
      "cell_type": "code",
      "source": [
        "#Redefinimos las variables\n",
        "X = Var_Indep\n",
        "y = Var_Dep"
      ],
      "metadata": {
        "id": "5sTPwp0XWtet"
      },
      "execution_count": 115,
      "outputs": []
    },
    {
      "cell_type": "code",
      "source": [
        "#Dividimos el conjunto de datos en la parte de entrenamiento y prueba\n",
        "X_train, X_test, y_train, y_test = train_test_split(X, y, test_size=0.20, random_state=None)"
      ],
      "metadata": {
        "id": "eRJyX3KKW2QN"
      },
      "execution_count": 116,
      "outputs": []
    },
    {
      "cell_type": "code",
      "source": [
        "#Definimos al algoritmo a utilizar\n",
        "from sklearn.linear_model import LogisticRegression\n",
        "algoritmo2 = LogisticRegression()"
      ],
      "metadata": {
        "id": "Z-OuKyeCW5c8"
      },
      "execution_count": 117,
      "outputs": []
    },
    {
      "cell_type": "code",
      "source": [
        "#Entrenamos el modelo\n",
        "algoritmo2.fit(X_train, y_train)"
      ],
      "metadata": {
        "colab": {
          "base_uri": "https://localhost:8080/"
        },
        "id": "yz5mak9SXBpK",
        "outputId": "c66f3c60-4b8b-43c6-ac5d-0e47593cf9e4"
      },
      "execution_count": 118,
      "outputs": [
        {
          "output_type": "execute_result",
          "data": {
            "text/plain": [
              "LogisticRegression()"
            ]
          },
          "metadata": {},
          "execution_count": 118
        }
      ]
    },
    {
      "cell_type": "code",
      "source": [
        "#Realizamos una predicción\n",
        "y_pred = algoritmo2.predict(X_test)\n",
        "y_pred"
      ],
      "metadata": {
        "colab": {
          "base_uri": "https://localhost:8080/"
        },
        "id": "DE0JJtvdXFJ7",
        "outputId": "9aa04c20-452d-4cf1-9669-6a012b7edc1a"
      },
      "execution_count": 119,
      "outputs": [
        {
          "output_type": "execute_result",
          "data": {
            "text/plain": [
              "array(['no', 'no', 'no', 'no', 'no', 'no', 'no', 'yes', 'no', 'no', 'no',\n",
              "       'no', 'no', 'yes', 'no', 'no', 'no', 'no', 'yes', 'yes', 'no',\n",
              "       'no', 'no', 'no', 'no', 'no', 'no', 'yes', 'no', 'no', 'no', 'yes',\n",
              "       'no', 'yes', 'yes', 'no', 'no', 'no', 'yes', 'yes', 'yes', 'no',\n",
              "       'yes', 'no', 'no', 'no', 'no', 'no', 'no', 'no', 'yes', 'no',\n",
              "       'yes', 'no', 'yes', 'no', 'no', 'no', 'no', 'no', 'no', 'no', 'no',\n",
              "       'no', 'no', 'no'], dtype=object)"
            ]
          },
          "metadata": {},
          "execution_count": 119
        }
      ]
    },
    {
      "cell_type": "code",
      "source": [
        "#Verifico la matriz de Confusión\n",
        "from sklearn.metrics import confusion_matrix\n",
        "Matriz2 = confusion_matrix(y_test, y_pred)\n",
        "print('Matriz de Confusión')\n",
        "print(Matriz2)"
      ],
      "metadata": {
        "colab": {
          "base_uri": "https://localhost:8080/"
        },
        "id": "0YnGPVEWXOof",
        "outputId": "3a94aee4-fa1d-456f-eda4-c570a7496cf4"
      },
      "execution_count": 121,
      "outputs": [
        {
          "output_type": "stream",
          "name": "stdout",
          "text": [
            "Matriz de Confusión\n",
            "[[37  7]\n",
            " [14  8]]\n"
          ]
        }
      ]
    },
    {
      "cell_type": "code",
      "source": [
        "#Cálculo la precisión del modelo\n",
        "from sklearn.metrics import precision_score\n",
        "\n",
        "precision2 = precision_score(y_test, y_pred, average='binary', pos_label='yes')\n",
        "print('Precisión del modelo')\n",
        "print(precision2)"
      ],
      "metadata": {
        "colab": {
          "base_uri": "https://localhost:8080/"
        },
        "id": "CEZoIEQQXZZL",
        "outputId": "c3c159bb-6eee-4526-b283-6c63e8fc17dc"
      },
      "execution_count": 122,
      "outputs": [
        {
          "output_type": "stream",
          "name": "stdout",
          "text": [
            "Precisión del modelo\n",
            "0.5333333333333333\n"
          ]
        }
      ]
    },
    {
      "cell_type": "code",
      "source": [
        "#Calculo la exactitud del modelo\n",
        "from sklearn.metrics import accuracy_score\n",
        "\n",
        "exactitud2 = accuracy_score(y_test, y_pred)\n",
        "print('Exactitud del modelo')\n",
        "print(exactitud2)"
      ],
      "metadata": {
        "colab": {
          "base_uri": "https://localhost:8080/"
        },
        "id": "U_wmuAYJX8Fn",
        "outputId": "2c725d80-2104-4152-e6d8-c2f4f04f84fe"
      },
      "execution_count": 123,
      "outputs": [
        {
          "output_type": "stream",
          "name": "stdout",
          "text": [
            "Exactitud del modelo\n",
            "0.6818181818181818\n"
          ]
        }
      ]
    },
    {
      "cell_type": "code",
      "source": [
        "#Calculo de la sensibilidad del modelo\n",
        "from sklearn.metrics import recall_score\n",
        "\n",
        "sensibilidad2 = recall_score(y_test, y_pred, average = 'binary', pos_label= 'yes')\n",
        "print('Sensibilidad del modelo')\n",
        "print(sensibilidad2)"
      ],
      "metadata": {
        "colab": {
          "base_uri": "https://localhost:8080/"
        },
        "id": "eyejwu-QYNYY",
        "outputId": "8bd91701-4ee4-448f-c715-131ed410a5ae"
      },
      "execution_count": 124,
      "outputs": [
        {
          "output_type": "stream",
          "name": "stdout",
          "text": [
            "Sensibilidad del modelo\n",
            "0.36363636363636365\n"
          ]
        }
      ]
    },
    {
      "cell_type": "markdown",
      "source": [
        "# **Regresión Logística 3**"
      ],
      "metadata": {
        "id": "FGrnbmeOYUpD"
      }
    },
    {
      "cell_type": "code",
      "source": [
        "#Declaramos las variables dependientes e independientes para la regresión logística\n",
        "Var_Indep = Microretailer[['172_supplier_frequency','104_how_many_shelves_does_the_micro_retailer_have','103_number_own_fridges']]\n",
        "Var_Dep = Microretailer['310_burnout']"
      ],
      "metadata": {
        "id": "Ih4jnOk4YUGk"
      },
      "execution_count": 125,
      "outputs": []
    },
    {
      "cell_type": "code",
      "source": [
        "#Redefinimos las variables\n",
        "X = Var_Indep\n",
        "y = Var_Dep"
      ],
      "metadata": {
        "id": "uxtAGVmYZn6h"
      },
      "execution_count": 126,
      "outputs": []
    },
    {
      "cell_type": "code",
      "source": [
        "#Dividimos el conjunto de datos en la parte de entrenamiento y prueba\n",
        "X_train, X_test, y_train, y_test = train_test_split(X, y, test_size=0.20, random_state=None)"
      ],
      "metadata": {
        "id": "XBnFjrO1Zuqd"
      },
      "execution_count": 127,
      "outputs": []
    },
    {
      "cell_type": "code",
      "source": [
        "#Definimos al algoritmo a utilizar\n",
        "from sklearn.linear_model import LogisticRegression\n",
        "algoritmo3 = LogisticRegression()"
      ],
      "metadata": {
        "id": "LFBoIorqZy9s"
      },
      "execution_count": 128,
      "outputs": []
    },
    {
      "cell_type": "code",
      "source": [
        "#Entrenamos el modelo\n",
        "algoritmo3.fit(X_train, y_train)"
      ],
      "metadata": {
        "colab": {
          "base_uri": "https://localhost:8080/"
        },
        "id": "8GjL-_U9Z376",
        "outputId": "cc1e5c37-1ec5-46c9-9a24-eedb7e2f41db"
      },
      "execution_count": 129,
      "outputs": [
        {
          "output_type": "execute_result",
          "data": {
            "text/plain": [
              "LogisticRegression()"
            ]
          },
          "metadata": {},
          "execution_count": 129
        }
      ]
    },
    {
      "cell_type": "code",
      "source": [
        "#Realizamos una predicción\n",
        "y_pred = algoritmo3.predict(X_test)\n",
        "y_pred"
      ],
      "metadata": {
        "colab": {
          "base_uri": "https://localhost:8080/"
        },
        "id": "Iv9MYhUiZ8o5",
        "outputId": "dc1ecafa-4e4b-4f33-f185-46d05f395539"
      },
      "execution_count": 130,
      "outputs": [
        {
          "output_type": "execute_result",
          "data": {
            "text/plain": [
              "array(['no', 'no', 'no', 'no', 'no', 'no', 'no', 'yes', 'no', 'yes', 'no',\n",
              "       'no', 'yes', 'no', 'no', 'no', 'no', 'no', 'no', 'no', 'yes',\n",
              "       'yes', 'no', 'no', 'no', 'yes', 'no', 'no', 'no', 'no', 'no', 'no',\n",
              "       'no', 'no', 'yes', 'no', 'no', 'no', 'yes', 'no', 'no', 'no', 'no',\n",
              "       'no', 'yes', 'yes', 'no', 'yes', 'yes', 'no', 'no', 'no', 'no',\n",
              "       'yes', 'no', 'no', 'no', 'no', 'yes', 'no', 'no', 'yes', 'yes',\n",
              "       'no', 'no', 'no'], dtype=object)"
            ]
          },
          "metadata": {},
          "execution_count": 130
        }
      ]
    },
    {
      "cell_type": "code",
      "source": [
        "#Verifico la matriz de Confusión\n",
        "from sklearn.metrics import confusion_matrix\n",
        "Matriz3 = confusion_matrix(y_test, y_pred)\n",
        "print('Matriz de Confusión')\n",
        "print(Matriz3)"
      ],
      "metadata": {
        "colab": {
          "base_uri": "https://localhost:8080/"
        },
        "id": "B1B0K-pvaBof",
        "outputId": "edd5bf5d-302d-487d-bb68-03aaf3e92ad0"
      },
      "execution_count": 131,
      "outputs": [
        {
          "output_type": "stream",
          "name": "stdout",
          "text": [
            "Matriz de Confusión\n",
            "[[31 11]\n",
            " [19  5]]\n"
          ]
        }
      ]
    },
    {
      "cell_type": "code",
      "source": [
        "#Cálculo la precisión del modelo\n",
        "from sklearn.metrics import precision_score\n",
        "\n",
        "precision3 = precision_score(y_test, y_pred, average='binary', pos_label='yes')\n",
        "print('Precisión del modelo')\n",
        "print(precision3)"
      ],
      "metadata": {
        "colab": {
          "base_uri": "https://localhost:8080/"
        },
        "id": "VGdKU-kDaGOo",
        "outputId": "9c5f28e4-04af-42f5-8fb3-5b219c677d98"
      },
      "execution_count": 132,
      "outputs": [
        {
          "output_type": "stream",
          "name": "stdout",
          "text": [
            "Precisión del modelo\n",
            "0.3125\n"
          ]
        }
      ]
    },
    {
      "cell_type": "code",
      "source": [
        "#Calculo la exactitud del modelo\n",
        "from sklearn.metrics import accuracy_score\n",
        "\n",
        "exactitud3 = accuracy_score(y_test, y_pred)\n",
        "print('Exactitud del modelo')\n",
        "print(exactitud3)"
      ],
      "metadata": {
        "colab": {
          "base_uri": "https://localhost:8080/"
        },
        "id": "iyLRP5oraOe9",
        "outputId": "bce3566b-1832-43e0-8cef-e613f9a96fa9"
      },
      "execution_count": 133,
      "outputs": [
        {
          "output_type": "stream",
          "name": "stdout",
          "text": [
            "Exactitud del modelo\n",
            "0.5454545454545454\n"
          ]
        }
      ]
    },
    {
      "cell_type": "code",
      "source": [
        "#Calculo de la sensibilidad del modelo\n",
        "from sklearn.metrics import recall_score\n",
        "\n",
        "sensibilidad3 = recall_score(y_test, y_pred, average = 'binary', pos_label= 'yes')\n",
        "print('Sensibilidad del modelo')\n",
        "print(sensibilidad3)"
      ],
      "metadata": {
        "colab": {
          "base_uri": "https://localhost:8080/"
        },
        "id": "VZ2tjU3-alvF",
        "outputId": "2da2178a-7da8-43f2-d27f-7598e8563bec"
      },
      "execution_count": 134,
      "outputs": [
        {
          "output_type": "stream",
          "name": "stdout",
          "text": [
            "Sensibilidad del modelo\n",
            "0.20833333333333334\n"
          ]
        }
      ]
    }
  ]
}